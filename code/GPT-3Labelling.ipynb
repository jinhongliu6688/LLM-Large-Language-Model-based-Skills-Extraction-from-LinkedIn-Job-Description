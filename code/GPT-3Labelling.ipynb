{
 "cells": [
  {
   "cell_type": "code",
   "execution_count": 11,
   "id": "4faae68c-ff02-45fd-82c5-09a49c4c8360",
   "metadata": {},
   "outputs": [],
   "source": [
    "import openai\n",
    "import pandas as pd\n",
    "import spacy"
   ]
  },
  {
   "cell_type": "code",
   "execution_count": null,
   "id": "9cbb651f-f3d7-45f0-b7c1-038b4da5e82b",
   "metadata": {},
   "outputs": [],
   "source": [
    "#!pip install spacy\n",
    "#!python -m spacy download en_core_web_sm"
   ]
  },
  {
   "cell_type": "markdown",
   "id": "276c006c-d7b1-44aa-8d5f-d569605377a8",
   "metadata": {},
   "source": [
    "### Parameters you can play with \n",
    "1. `limit` (token length for our paragraph, paragraph is what we pass to GPT 3 as input) parameter in function `get_paras`.\n",
    "2. `temperature` (randomness of the GPT 3 output), `model` parameters for the `get_response` function."
   ]
  },
  {
   "cell_type": "code",
   "execution_count": 28,
   "id": "cdbd93c2-ebc3-4f15-8681-88d140e0a308",
   "metadata": {},
   "outputs": [
    {
     "data": {
      "text/html": [
       "<div>\n",
       "<style scoped>\n",
       "    .dataframe tbody tr th:only-of-type {\n",
       "        vertical-align: middle;\n",
       "    }\n",
       "\n",
       "    .dataframe tbody tr th {\n",
       "        vertical-align: top;\n",
       "    }\n",
       "\n",
       "    .dataframe thead th {\n",
       "        text-align: right;\n",
       "    }\n",
       "</style>\n",
       "<table border=\"1\" class=\"dataframe\">\n",
       "  <thead>\n",
       "    <tr style=\"text-align: right;\">\n",
       "      <th></th>\n",
       "      <th>url</th>\n",
       "      <th>title</th>\n",
       "      <th>job_description</th>\n",
       "      <th>seniority_level</th>\n",
       "      <th>employment_type</th>\n",
       "    </tr>\n",
       "  </thead>\n",
       "  <tbody>\n",
       "    <tr>\n",
       "      <th>0</th>\n",
       "      <td>https://www.linkedin.com/jobs/view/database-de...</td>\n",
       "      <td>Database Developer</td>\n",
       "      <td>SummaryThe Database Developer is part of the C...</td>\n",
       "      <td>Entry level</td>\n",
       "      <td>Full-time</td>\n",
       "    </tr>\n",
       "    <tr>\n",
       "      <th>1</th>\n",
       "      <td>https://www.linkedin.com/jobs/view/software-en...</td>\n",
       "      <td>Software Engineer I (Full Time) United States</td>\n",
       "      <td>What You’ll DoOur software engineers are the g...</td>\n",
       "      <td>Not Applicable</td>\n",
       "      <td>Full-time</td>\n",
       "    </tr>\n",
       "    <tr>\n",
       "      <th>2</th>\n",
       "      <td>https://www.linkedin.com/jobs/view/penetration...</td>\n",
       "      <td>Penetration Tester (Network/Cloud/Application)...</td>\n",
       "      <td>Responsibilities About TikTokTikTok is the lea...</td>\n",
       "      <td>Not Applicable</td>\n",
       "      <td>Full-time</td>\n",
       "    </tr>\n",
       "    <tr>\n",
       "      <th>3</th>\n",
       "      <td>https://www.linkedin.com/jobs/view/sql-develop...</td>\n",
       "      <td>SQL Developer</td>\n",
       "      <td>SQL Developer - Long Beach, CA - Infosys  Need...</td>\n",
       "      <td>Entry level</td>\n",
       "      <td>Contract</td>\n",
       "    </tr>\n",
       "    <tr>\n",
       "      <th>4</th>\n",
       "      <td>https://ca.linkedin.com/jobs/view/cyber-securi...</td>\n",
       "      <td>Cyber Security Specialist</td>\n",
       "      <td>As one of Canada’s largest and fastest growing...</td>\n",
       "      <td>Not Applicable</td>\n",
       "      <td>Full-time</td>\n",
       "    </tr>\n",
       "  </tbody>\n",
       "</table>\n",
       "</div>"
      ],
      "text/plain": [
       "                                                 url  \\\n",
       "0  https://www.linkedin.com/jobs/view/database-de...   \n",
       "1  https://www.linkedin.com/jobs/view/software-en...   \n",
       "2  https://www.linkedin.com/jobs/view/penetration...   \n",
       "3  https://www.linkedin.com/jobs/view/sql-develop...   \n",
       "4  https://ca.linkedin.com/jobs/view/cyber-securi...   \n",
       "\n",
       "                                               title  \\\n",
       "0                                 Database Developer   \n",
       "1      Software Engineer I (Full Time) United States   \n",
       "2  Penetration Tester (Network/Cloud/Application)...   \n",
       "3                                      SQL Developer   \n",
       "4                          Cyber Security Specialist   \n",
       "\n",
       "                                     job_description seniority_level  \\\n",
       "0  SummaryThe Database Developer is part of the C...     Entry level   \n",
       "1  What You’ll DoOur software engineers are the g...  Not Applicable   \n",
       "2  Responsibilities About TikTokTikTok is the lea...  Not Applicable   \n",
       "3  SQL Developer - Long Beach, CA - Infosys  Need...     Entry level   \n",
       "4  As one of Canada’s largest and fastest growing...  Not Applicable   \n",
       "\n",
       "  employment_type  \n",
       "0       Full-time  \n",
       "1       Full-time  \n",
       "2       Full-time  \n",
       "3        Contract  \n",
       "4       Full-time  "
      ]
     },
     "execution_count": 28,
     "metadata": {},
     "output_type": "execute_result"
    }
   ],
   "source": [
    "# Reading the data\n",
    "df = pd.read_csv('all_data.csv')\n",
    "df.head()"
   ]
  },
  {
   "cell_type": "code",
   "execution_count": 329,
   "id": "9539ca67-025c-4efa-bf20-8dc1a861fc14",
   "metadata": {},
   "outputs": [],
   "source": [
    "file = open('API_key.txt')\n",
    "API_key = file.read()"
   ]
  },
  {
   "cell_type": "code",
   "execution_count": 330,
   "id": "26b53abc-86e9-443d-9cb5-14244769c59c",
   "metadata": {},
   "outputs": [],
   "source": [
    "# Mentionning the API key\n",
    "openai.api_key = API_key"
   ]
  },
  {
   "cell_type": "code",
   "execution_count": 331,
   "id": "2dd7bd36-6b94-4a70-a615-7a0999246f8b",
   "metadata": {},
   "outputs": [
    {
     "data": {
      "text/plain": [
       "\"Input is a job description. Output is the  technical skills and technoligies required for Input job description. \\n    You have to predict Output using Input.\\n    Make sure you don't include anything in the Output that is not part of Input. \\n    Output should only include technical skills used in the IT industry like programming languages, algoritms, software tools etc.\\n\\n    Input: My name is X. I am proficient in python, SQL, machine learning. I am experienced in classification and regression. We want a software engineer who is comfortable with html and css. Who has knowledge of javascript and SQL. Who has c++ and python programming experience.\\n    Output: python, SQL, machine learning, classification, regression, html, css, c++,python\\n    Input: Proficiency with Python, or another interpreted programming language like R or Matlab. Experience with time series modeling and causal inference a plus \\n    Output: time series, Python\\n    Input: Good communication skills and confidence to give presentations in high pressure situations\\n    Output:\\n    Input: Ability to optimize and condense information and transform data into easily understandable concepts.Basic technical skills in MS Excel, PowerPoint, Word\\n    Output: MS Excel, PowerPoint, Word\\n    Input: years of relevant experience with statistical computing in R or Python. 3+ years of experience with Machine Learning algorithms and Probabilistic Modelling. Experience with SQL and SQL Server. Experience with modern R packages and technologies such as dplyr, tidyR, data.table, shinyR preferred. Experience with .NET Framework and C# is preferable.\\n    Output: R, Python, Machine Learning, SQL, dplyr, tidyR, shinyR, .NET, C#\\n    Input: years experience with data manipulation ecosystems with R, Pandas. Also good with html and java.\\n    Output: R, Pandas,html, java\\n    Input: Knowledge of data lake storage and data warehousing solution components like Azure Data Lake, Synapse, Databricks, snowflakes. 2 years in c++ programming.\\n    Output: Azure Data Lake, Synapse, Databricks, snowflakes, c++\\n    Input: Solid knowledge of JavaScript, CSS, HTML, and front-end languages including Node-JS.\\n    Output: JavaScript, CSS, HTML, Node-JS\\n    Input : We need someone with Matlab expertise\\n    Output:\""
      ]
     },
     "execution_count": 331,
     "metadata": {},
     "output_type": "execute_result"
    }
   ],
   "source": [
    "def create_prompt(input):\n",
    "    prompt = f\"\"\"Input is a job description. Output is the  technical skills and technoligies required for Input job description. \n",
    "    You have to predict Output using Input.\n",
    "    Make sure you don't include anything in the Output that is not part of Input. \n",
    "    Output should only include technical skills used in the IT industry like programming languages, algoritms, software tools etc.\n",
    "\n",
    "    Input: My name is X. I am proficient in python, SQL, machine learning. I am experienced in classification and regression. We want a software engineer who is comfortable with html and css. Who has knowledge of javascript and SQL. Who has c++ and python programming experience.\n",
    "    Output: python, SQL, machine learning, classification, regression, html, css, c++,python\n",
    "    Input: Proficiency with Python, or another interpreted programming language like R or Matlab. Experience with time series modeling and causal inference a plus \n",
    "    Output: time series, Python\n",
    "    Input: Good communication skills and confidence to give presentations in high pressure situations\n",
    "    Output:\n",
    "    Input: Ability to optimize and condense information and transform data into easily understandable concepts.Basic technical skills in MS Excel, PowerPoint, Word\n",
    "    Output: MS Excel, PowerPoint, Word\n",
    "    Input: years of relevant experience with statistical computing in R or Python. 3+ years of experience with Machine Learning algorithms and Probabilistic Modelling. Experience with SQL and SQL Server. Experience with modern R packages and technologies such as dplyr, tidyR, data.table, shinyR preferred. Experience with .NET Framework and C# is preferable.\n",
    "    Output: R, Python, Machine Learning, SQL, dplyr, tidyR, shinyR, .NET, C#\n",
    "    Input: years experience with data manipulation ecosystems with R, Pandas. Also good with html and java.\n",
    "    Output: R, Pandas,html, java\n",
    "    Input: Knowledge of data lake storage and data warehousing solution components like Azure Data Lake, Synapse, Databricks, snowflakes. 2 years in c++ programming.\n",
    "    Output: Azure Data Lake, Synapse, Databricks, snowflakes, c++\n",
    "    Input: Solid knowledge of JavaScript, CSS, HTML, and front-end languages including Node-JS.\n",
    "    Output: JavaScript, CSS, HTML, Node-JS\n",
    "    Input : {input}\n",
    "    Output:\"\"\"\n",
    "    return prompt\n",
    "\n",
    "create_prompt('We need someone with Matlab expertise')"
   ]
  },
  {
   "cell_type": "code",
   "execution_count": 332,
   "id": "34744308-67ca-4541-8b0d-f9213a4ccc6c",
   "metadata": {},
   "outputs": [
    {
     "data": {
      "text/plain": [
       "['SummaryThe Database Developer is part of the CEMCO development team whose responsibilities include managing and maintaining the enterprise data warehouse.Strong development skills in C# and .Net, including Excel VSTO.The ideal candidate should have a deep understanding of database management systems, as well as the ability to write complex code in C# and .Net to build, maintain and optimize databases.',\n",
       " 'Effective at communicating with users to define requirements and design, solutions based on those requirements.This position is also responsible for creating tools that provide insight to various departments, including Finance, Accounting, and Customer Service to build data visualizations and dashboards.Essential Duties And ResponsibilitiesDesign, install, configure, and maintain database management systems.Monitor database performance and provide optimization.Develop, implement, and maintain backup and recovery procedures.Perform database security administration.Ensure data integrity, reliability, and availability.',\n",
       " 'Write efficient and reliable C# and .Net code to access and manipulate data.Develop and maintain custom applications using Excel VSTOCollaborate with development and infrastructure teams to optimize performance.Effectively communicate technical requirements to user.Design and develop SSIS packages to automate ETL processes.Create, design, and maintain SSRS reports for various business requirements.',\n",
       " 'Education And/Or Experience, Certifications, RegistrationsBachelor’s degree (B.A. or B.S) from a four-year college or university3-5 years’ experience with T-SQL, SQL, SSIS, SSMS, SSRS, ETL, HTML/CSS.3-5 years’ experience in Database Administration in SQL Server3-5 years’ experience in Microsoft Visual Studio3-5 years’ experience with Microsoft VSTO Add-ins3-5 years’ experience with Data Analytics (i.e., Qlik, Tableau, Power BI)Core Technical SkillsTechnical expertise: In-depth understanding of database technologies, and cloud-based databases, as well as proficiency in database design, normalization, and data modeling.Create interactive dashboards, reports, and visualizations.Problem-solving skills: Ability to diagnose and resolve complex database issues, including performance bottlenecks and security vulnerabilities.Communication skills: Clear and effective communication skills, both oral and written, to explain technical concepts to non-technical stakeholders.Attention to detail:Careful and thorough approach to work, with the ability to identify and correct errors before they become major problems.',\n",
       " 'Project management skills: Ability to manage multiple projects, meet deadlines, and work under pressure.Collaboration and teamwork: Strong interpersonal skills, ability to work well in a team environment, and willingness to share knowledge and collaborate with others.Adaptability: Ability to learn and adapt to new technologies and processes quickly and effectively.Initiative: Self-starter mentality, with a drive to continually improve processes and technologies.',\n",
       " 'Physical DemandsWhile performing the duties of this job, the employee is regularly required to talk, hear, sit, stand, type, and walk.The employee frequently is required to use hands or fingers, handle or feel objects, stand, walk, sit and reach with hands and arms.The employee must routinely lift and/or move 30 pounds and occasionally lift and/or move up to 50 pounds.Specific vision abilities required by this position include close vision, distance vision, and the ability to adjust focus.',\n",
       " 'Reasonable accommodations may be made to enable individuals with disabilities to perform the essential functions.Work EnvironmentThis job operates in a professional office environment.This role routinely uses standard office equipment such as computers, phones, photocopiers, filing cabinets and fax machines.The noise level in the work environment is usually low to moderate.Reasonable accommodations may be made to enable individuals with disabilities to perform the essential functions.',\n",
       " 'CEMCO, LLC, is the premier manufacturer of steel framing and metal lath products and accessories in the United States.\\', \"CEMCO\\'s manufacturing facilities are located in the Los Angeles, California; Pittsburg, California; Denver, Colorado, and Fort Worth, Texas.Since 1974, CEMCO has taken a leadership role in the steel framing and metal lath industries by pursuing innovation at break-neck speed allowing for efficient, economical, and effective solutions for tomorrow\\'s challenges.',\n",
       " '\", \\'The latest is RC1-XTM, a new solution for high-end sound abatement resilient channels.Also available to all CEMCO customers is Safety Edge technology providing safer framing products for end users.CEMCO also manufactures FAS Track 1000 and slotted track for head-of-wall applications, Sure-Board for shear-walls, Sure-Span steel floor joists for commercial and mid-rise projects, the ProX Header and ProX R.O. Rough-Opening framing systems.',\n",
       " 'CEMCO is a proud member of the Steel Framing Industry Association (SFIA), the Steel Framing Alliance (SFA), and ASTM.\\', \"All of CEMCO\\'s products are manufactured from mill-certified hot-dipped galvanized PRIME steel, giving the industry confidence CEMCO\\'s products will perform as intended long after the project completion.\", \"CEMCO\\'s Design and Structural Engineering and Technical Services Groups provide support to engineers and contractors before, during and even after a project is complete.']"
      ]
     },
     "execution_count": 332,
     "metadata": {},
     "output_type": "execute_result"
    }
   ],
   "source": [
    "nlp = spacy.load('en_core_web_sm')\n",
    "\n",
    "def sentence_segmentation(job_desc):\n",
    "    \"\"\"\n",
    "    This function return a list of sentences for a job description\n",
    "    \"\"\"\n",
    "    doc = nlp(job_desc)\n",
    "    return [sent for sent in doc.sents]\n",
    "\n",
    "def get_paras(sents, limit = 64):\n",
    "    '''\n",
    "    Converts a list of sentences to a list of paragraphs (so that we could limit the number of API calls to some extent)\n",
    "    '''\n",
    "    num_token = 0\n",
    "    paragraphs = []\n",
    "    para = ''\n",
    "    for sent in sents:\n",
    "        sent = sent.text\n",
    "        num_token += len(sent.split())\n",
    "        if num_token >= limit:\n",
    "            paragraphs.append(para)\n",
    "            para = ''\n",
    "            num_token = 0\n",
    "        para += sent\n",
    "    paragraphs.append(para)\n",
    "    return paragraphs\n",
    "\n",
    "get_paras(sentence_segmentation(df['job_description'][0]))"
   ]
  },
  {
   "cell_type": "code",
   "execution_count": 333,
   "id": "096a651a-a71c-4012-9c59-0a3edd3bbb08",
   "metadata": {},
   "outputs": [],
   "source": [
    "def get_response(prompt, model, temperature = 0):\n",
    "    \n",
    "    response = openai.Completion.create(\n",
    "    engine=model,\n",
    "    prompt=prompt,\n",
    "    temperature= 0,\n",
    "    max_tokens=6\n",
    "    )\n",
    "    \n",
    "    result = response.choices[0].text\n",
    "    result = result.split('\\n')[0]\n",
    "    return [i.strip() for i in result.split(',') if len(i.split())<3 and len(i.strip())>1]"
   ]
  },
  {
   "cell_type": "code",
   "execution_count": 335,
   "id": "5067050c-3abc-47c1-bdd1-325b2cae5184",
   "metadata": {},
   "outputs": [],
   "source": [
    "def get_skills(job_desc):\n",
    "    \"\"\"\n",
    "    Function to get all the skills required for a job\n",
    "    \"\"\"\n",
    "    skills = []\n",
    "    for sent in get_paras(sentence_segmentation(job_desc)):\n",
    "        if len(sent) > 5:\n",
    "            prompt = create_prompt(sent)\n",
    "            output = get_response(prompt, 'text-curie-001')\n",
    "            output = [i for i in output if i.lower() in sent.lower()]\n",
    "            skills.extend(output)\n",
    "            time.sleep(1)\n",
    "    return skills\n",
    "    "
   ]
  },
  {
   "cell_type": "markdown",
   "id": "8f25a17f-2fce-40ef-ba2e-f0a952501a25",
   "metadata": {},
   "source": [
    "#### Getting skills for first 10 jobs"
   ]
  },
  {
   "cell_type": "code",
   "execution_count": 339,
   "id": "8f62d276-6f8b-40d9-b11e-2c67944e9b6f",
   "metadata": {},
   "outputs": [],
   "source": [
    "jobs = df['job_description'].tolist()[:3]"
   ]
  },
  {
   "cell_type": "code",
   "execution_count": 340,
   "id": "b8444f47-6029-4062-8aed-9fe48f0beb0a",
   "metadata": {},
   "outputs": [
    {
     "data": {
      "text/plain": [
       "[['C#',\n",
       "  '.Net',\n",
       "  'database performance',\n",
       "  'C#',\n",
       "  '.NET',\n",
       "  'T-SQL',\n",
       "  'SQL',\n",
       "  'Project management',\n",
       "  'collaboration',\n",
       "  'teamwork',\n",
       "  'close vision',\n",
       "  'distance vision',\n",
       "  'reasonable accommodations',\n",
       "  'office',\n",
       "  'CEMCO',\n",
       "  'LLC',\n",
       "  'CEMCO',\n",
       "  'Steel Fram'],\n",
       " ['C++', 'Python', 'Java'],\n",
       " ['USDSAt TikTok', 'Security Testing', 'Operating Systems', 'Health Care']]"
      ]
     },
     "execution_count": 340,
     "metadata": {},
     "output_type": "execute_result"
    }
   ],
   "source": [
    "import time\n",
    "skills = []\n",
    "jds = []\n",
    "for job in jobs:\n",
    "    try:\n",
    "        skills.append(get_skills(job))\n",
    "        jds.append(job)\n",
    "    except:\n",
    "        time.sleep(60)\n",
    "skills"
   ]
  },
  {
   "cell_type": "code",
   "execution_count": 341,
   "id": "82971070-7dc7-4844-8a82-1e352e4d3355",
   "metadata": {},
   "outputs": [
    {
     "data": {
      "text/html": [
       "<div>\n",
       "<style scoped>\n",
       "    .dataframe tbody tr th:only-of-type {\n",
       "        vertical-align: middle;\n",
       "    }\n",
       "\n",
       "    .dataframe tbody tr th {\n",
       "        vertical-align: top;\n",
       "    }\n",
       "\n",
       "    .dataframe thead th {\n",
       "        text-align: right;\n",
       "    }\n",
       "</style>\n",
       "<table border=\"1\" class=\"dataframe\">\n",
       "  <thead>\n",
       "    <tr style=\"text-align: right;\">\n",
       "      <th></th>\n",
       "      <th>job</th>\n",
       "      <th>skills</th>\n",
       "    </tr>\n",
       "  </thead>\n",
       "  <tbody>\n",
       "    <tr>\n",
       "      <th>0</th>\n",
       "      <td>SummaryThe Database Developer is part of the C...</td>\n",
       "      <td>[C#, .Net, database performance, C#, .NET, T-S...</td>\n",
       "    </tr>\n",
       "    <tr>\n",
       "      <th>1</th>\n",
       "      <td>What You’ll DoOur software engineers are the g...</td>\n",
       "      <td>[C++, Python, Java]</td>\n",
       "    </tr>\n",
       "    <tr>\n",
       "      <th>2</th>\n",
       "      <td>Responsibilities About TikTokTikTok is the lea...</td>\n",
       "      <td>[USDSAt TikTok, Security Testing, Operating Sy...</td>\n",
       "    </tr>\n",
       "  </tbody>\n",
       "</table>\n",
       "</div>"
      ],
      "text/plain": [
       "                                                 job  \\\n",
       "0  SummaryThe Database Developer is part of the C...   \n",
       "1  What You’ll DoOur software engineers are the g...   \n",
       "2  Responsibilities About TikTokTikTok is the lea...   \n",
       "\n",
       "                                              skills  \n",
       "0  [C#, .Net, database performance, C#, .NET, T-S...  \n",
       "1                                [C++, Python, Java]  \n",
       "2  [USDSAt TikTok, Security Testing, Operating Sy...  "
      ]
     },
     "execution_count": 341,
     "metadata": {},
     "output_type": "execute_result"
    }
   ],
   "source": [
    "# Saving the data\n",
    "df_result = pd.DataFrame({\n",
    "    'job':jds, \n",
    "    'skills': skills\n",
    "})\n",
    "df_result.to_csv('GPT3_annotated_data.csv')\n",
    "df_result"
   ]
  },
  {
   "cell_type": "markdown",
   "id": "5d0c3ade-7574-495b-906f-07fd0cd0e868",
   "metadata": {},
   "source": [
    "# For debugging, printing the output for each api call"
   ]
  },
  {
   "cell_type": "code",
   "execution_count": 338,
   "id": "1042b595-6396-4bff-afe5-9c9728fcd842",
   "metadata": {},
   "outputs": [
    {
     "name": "stdout",
     "output_type": "stream",
     "text": [
      "Sentence: What You’ll DoOur software engineers are the gurus behind the scenes ensuring all of our programs are easy to use and bug free.Using a keen eye, you’ll develop software and tools in support of many of our high-impact technology platforms such as operating systems, networks, databases and more.\n",
      "----------------\n",
      "Output: []\n",
      "\n",
      "\n",
      "Sentence: While we’re growing in the software business, you’ll still need to see the big picture and watch for hardware compatibility while even potentially influencing design.\n",
      "----------------\n",
      "Output: []\n",
      "\n",
      "\n",
      "Sentence: Who You’ll Work WithOur hardworking team members are busy programming magic across the globe on teams such as Engineering, Information Technology, Supply Chain, Customer Experience, Security and Trust, etc.You would play a crucial role in driving next-gen software innovations including cloud, mobile, desktop or security spaces.', \"On any of these teams, you'll get hands-on experience working with applications that make technology accessible no matter what device they’re on.\", 'See the possibilities when creativity meets design and build solutions which will transform how we work, live, learn, and play.Who You AreIncluding but not limited to a graduate/upcoming graduate of a technical degree or certification program from a Technical Boot Camp, Apprenticeship, Community College or 4-Year University.\n",
      "----------------\n",
      "Output: []\n",
      "\n",
      "\n",
      "Sentence: Up-to-date on programming and scripting languages: C/C++, Python, JavaKnowledge of Linux, Networking concepts, OS fundamentals, Embedded Development, and/or MLHands on QA, Testing, and/or Debugging skillsExperience with Databases, Web Application Development, and Web ServicesEligible to start July/August 2023Able to legally live and work in the country for which you’re applying, without visa support or sponsorshipWhy Cisco#WeAreCisco, where each person is unique, but we bring our talents to work as a team and make a difference powering an inclusive future for all.We embrace digital, and help our customers implement change in their digital businesses.Some may think we’re “old” (36 years strong) and only about hardware, but we’re also a software company.And a security company.We even invented an intuitive network that adapts, predicts, learns and protects.\n",
      "----------------\n",
      "Output: ['C++', 'Python', 'Java']\n",
      "\n",
      "\n",
      "Sentence: No other company can do what we do – you can’t put us in a box!But “Digital Transformation” is an empty buzz phrase without a culture that allows for innovation, creativity, and yes, even failure (if you learn from it. )Day to day, we focus on the give and take.We give our best, give our egos a break, and give of ourselves (because giving back is built into our DNA.)We take accountability, bold steps, and take difference to heart.Because without diversity of thought and a dedication to equality for all, there is no moving forward.So, you have colorful hair?\n",
      "----------------\n",
      "Output: []\n",
      "\n",
      "\n",
      "Sentence: Don’t care.Tattoos?Show off your ink.Like polka dots?That’s cool.Pop culture geek?Many of us are.Passion for technology and world changing?Be you, with us!\n",
      "----------------\n",
      "Output: []\n",
      "\n",
      "\n"
     ]
    }
   ],
   "source": [
    "for sent in get_paras(sentence_segmentation(df['job_description'][1])):\n",
    "    print('Sentence:',sent)\n",
    "    prompt = create_prompt(sent)\n",
    "    output = get_response(prompt, 'text-curie-001')\n",
    "    output = [i for i in output if i.lower() in sent.lower()]\n",
    "    print('----------------')\n",
    "    print('Output:',output)\n",
    "    print()\n",
    "    print('')\n",
    "    #print('prompt:', prompt)\n",
    "    #break"
   ]
  },
  {
   "cell_type": "code",
   "execution_count": null,
   "id": "9a4b764a-b208-4aa5-bd1c-078f1e672456",
   "metadata": {},
   "outputs": [],
   "source": []
  }
 ],
 "metadata": {
  "kernelspec": {
   "display_name": "Python [conda env:571]",
   "language": "python",
   "name": "conda-env-571-py"
  },
  "language_info": {
   "codemirror_mode": {
    "name": "ipython",
    "version": 3
   },
   "file_extension": ".py",
   "mimetype": "text/x-python",
   "name": "python",
   "nbconvert_exporter": "python",
   "pygments_lexer": "ipython3",
   "version": "3.10.6"
  }
 },
 "nbformat": 4,
 "nbformat_minor": 5
}
