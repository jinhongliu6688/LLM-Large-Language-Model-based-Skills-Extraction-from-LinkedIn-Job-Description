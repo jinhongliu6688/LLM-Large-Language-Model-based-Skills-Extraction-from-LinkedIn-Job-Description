{
 "cells": [
  {
   "cell_type": "code",
   "execution_count": 19,
   "id": "2b423dac",
   "metadata": {
    "colab": {
     "base_uri": "https://localhost:8080/"
    },
    "id": "2b423dac",
    "outputId": "8c534641-ded2-41f0-e72d-6ed830609949"
   },
   "outputs": [],
   "source": [
    "#!pip3 install transformers datasets\n",
    "import transformers\n",
    "from datasets import load_dataset, load_metric\n",
    "\n"
   ]
  },
  {
   "cell_type": "code",
   "execution_count": 20,
   "id": "jNcT4ZIOJUW4",
   "metadata": {
    "colab": {
     "base_uri": "https://localhost:8080/"
    },
    "id": "jNcT4ZIOJUW4",
    "outputId": "c7a3295a-e9eb-478a-e682-3bcee38e922a"
   },
   "outputs": [],
   "source": [
    "#from google.colab import drive\n",
    "#drive.mount('/content/drive')"
   ]
  },
  {
   "cell_type": "markdown",
   "id": "l0vWHtAyFbsG",
   "metadata": {
    "id": "l0vWHtAyFbsG"
   },
   "source": [
    "We'll use Weights and Biases for dislaying logging information during training. You will need to sign up for the service at `wanb.ai`. This will give you an access token which you can paste when running `wanb login` "
   ]
  },
  {
   "cell_type": "code",
   "execution_count": 140,
   "id": "wd6_mf1JE6sv",
   "metadata": {
    "colab": {
     "base_uri": "https://localhost:8080/",
     "height": 818
    },
    "id": "wd6_mf1JE6sv",
    "outputId": "50e0faf4-5c45-42fd-ad6c-a6d2caad3ca3"
   },
   "outputs": [
    {
     "name": "stderr",
     "output_type": "stream",
     "text": [
      "\u001b[34m\u001b[1mwandb\u001b[0m: \u001b[33mWARNING\u001b[0m Calling wandb.login() after wandb.init() has no effect.\n"
     ]
    },
    {
     "data": {
      "text/plain": [
       "True"
      ]
     },
     "execution_count": 140,
     "metadata": {},
     "output_type": "execute_result"
    }
   ],
   "source": [
    "#!pip3 install wandb\n",
    "import wandb\n",
    "wandb.login()"
   ]
  },
  {
   "cell_type": "code",
   "execution_count": 141,
   "id": "pJv3EquoMtpa",
   "metadata": {
    "id": "pJv3EquoMtpa"
   },
   "outputs": [],
   "source": [
    "#from datasets import load_dataset\n",
    "\n",
    "#data = load_dataset('csv', data_files='./drive/MyDrive/ColabNotebooks/finer/GPT-3_data_split_into_128_word_paragraphs.csv', delimiter=',', column_names=[\"job\", \"filtered_skills\"])\n"
   ]
  },
  {
   "cell_type": "code",
   "execution_count": 142,
   "id": "mS65kM4YM-k1",
   "metadata": {
    "id": "mS65kM4YM-k1"
   },
   "outputs": [],
   "source": [
    "#!pip install dataset"
   ]
  },
  {
   "cell_type": "code",
   "execution_count": 143,
   "id": "63KvPZtPM8wv",
   "metadata": {
    "colab": {
     "base_uri": "https://localhost:8080/"
    },
    "id": "63KvPZtPM8wv",
    "outputId": "1d17c2b1-73cd-430d-e853-bc3fe116c2a7"
   },
   "outputs": [],
   "source": [
    "import pandas as pd\n",
    "from sklearn.model_selection import train_test_split\n",
    "\n",
    "# Load the dataset from the CSV file\n",
    "data = pd.read_csv(\"./GPT-3_data_split_into_128_word_paragraphs.csv\")"
   ]
  },
  {
   "cell_type": "code",
   "execution_count": 144,
   "id": "3a9f5550",
   "metadata": {},
   "outputs": [
    {
     "data": {
      "text/html": [
       "<div>\n",
       "<style scoped>\n",
       "    .dataframe tbody tr th:only-of-type {\n",
       "        vertical-align: middle;\n",
       "    }\n",
       "\n",
       "    .dataframe tbody tr th {\n",
       "        vertical-align: top;\n",
       "    }\n",
       "\n",
       "    .dataframe thead th {\n",
       "        text-align: right;\n",
       "    }\n",
       "</style>\n",
       "<table border=\"1\" class=\"dataframe\">\n",
       "  <thead>\n",
       "    <tr style=\"text-align: right;\">\n",
       "      <th></th>\n",
       "      <th>job_segment</th>\n",
       "      <th>skills</th>\n",
       "    </tr>\n",
       "  </thead>\n",
       "  <tbody>\n",
       "    <tr>\n",
       "      <th>5859</th>\n",
       "      <td>Boy have we got some fun things for you…You ha...</td>\n",
       "      <td>MS, BS</td>\n",
       "    </tr>\n",
       "    <tr>\n",
       "      <th>2391</th>\n",
       "      <td>Exciting Remote Cloud Azure Security Engineer,...</td>\n",
       "      <td>Security Engineering</td>\n",
       "    </tr>\n",
       "    <tr>\n",
       "      <th>6527</th>\n",
       "      <td>To be successful in this role, you need a stro...</td>\n",
       "      <td>software development, machine learning</td>\n",
       "    </tr>\n",
       "    <tr>\n",
       "      <th>454</th>\n",
       "      <td>The company joins with its employees to take a...</td>\n",
       "      <td>ExaCC, database, Cloud implementations, Oracle...</td>\n",
       "    </tr>\n",
       "    <tr>\n",
       "      <th>4792</th>\n",
       "      <td>Synergistic IT is a full-service staffing and ...</td>\n",
       "      <td>IT</td>\n",
       "    </tr>\n",
       "  </tbody>\n",
       "</table>\n",
       "</div>"
      ],
      "text/plain": [
       "                                            job_segment  \\\n",
       "5859  Boy have we got some fun things for you…You ha...   \n",
       "2391  Exciting Remote Cloud Azure Security Engineer,...   \n",
       "6527  To be successful in this role, you need a stro...   \n",
       "454   The company joins with its employees to take a...   \n",
       "4792  Synergistic IT is a full-service staffing and ...   \n",
       "\n",
       "                                                 skills  \n",
       "5859                                             MS, BS  \n",
       "2391                               Security Engineering  \n",
       "6527             software development, machine learning  \n",
       "454   ExaCC, database, Cloud implementations, Oracle...  \n",
       "4792                                                 IT  "
      ]
     },
     "execution_count": 144,
     "metadata": {},
     "output_type": "execute_result"
    }
   ],
   "source": [
    "data1 = data.dropna()\n",
    "data1 = data1[['job_segment', 'skills']]\n",
    "data1, test_data = train_test_split(data1, test_size=0.05, random_state=42)\n",
    "data1.head()"
   ]
  },
  {
   "cell_type": "code",
   "execution_count": 145,
   "id": "2c3cd1c1",
   "metadata": {},
   "outputs": [],
   "source": [
    "data1['job_segment'] = data1['job_segment'].replace('[^A-Za-z0-9\\s]+', '', regex=True)"
   ]
  },
  {
   "cell_type": "code",
   "execution_count": 146,
   "id": "9c797e4b",
   "metadata": {},
   "outputs": [
    {
     "data": {
      "text/html": [
       "<div>\n",
       "<style scoped>\n",
       "    .dataframe tbody tr th:only-of-type {\n",
       "        vertical-align: middle;\n",
       "    }\n",
       "\n",
       "    .dataframe tbody tr th {\n",
       "        vertical-align: top;\n",
       "    }\n",
       "\n",
       "    .dataframe thead th {\n",
       "        text-align: right;\n",
       "    }\n",
       "</style>\n",
       "<table border=\"1\" class=\"dataframe\">\n",
       "  <thead>\n",
       "    <tr style=\"text-align: right;\">\n",
       "      <th></th>\n",
       "      <th>job_segment</th>\n",
       "      <th>skills</th>\n",
       "    </tr>\n",
       "  </thead>\n",
       "  <tbody>\n",
       "    <tr>\n",
       "      <th>5859</th>\n",
       "      <td>Boy have we got some fun things for youYou hav...</td>\n",
       "      <td>MS, BS</td>\n",
       "    </tr>\n",
       "    <tr>\n",
       "      <th>2391</th>\n",
       "      <td>Exciting Remote Cloud Azure Security Engineer ...</td>\n",
       "      <td>Security Engineering</td>\n",
       "    </tr>\n",
       "    <tr>\n",
       "      <th>6527</th>\n",
       "      <td>To be successful in this role you need a stron...</td>\n",
       "      <td>software development, machine learning</td>\n",
       "    </tr>\n",
       "    <tr>\n",
       "      <th>454</th>\n",
       "      <td>The company joins with its employees to take a...</td>\n",
       "      <td>ExaCC, database, Cloud implementations, Oracle...</td>\n",
       "    </tr>\n",
       "    <tr>\n",
       "      <th>4792</th>\n",
       "      <td>Synergistic IT is a fullservice staffing and p...</td>\n",
       "      <td>IT</td>\n",
       "    </tr>\n",
       "  </tbody>\n",
       "</table>\n",
       "</div>"
      ],
      "text/plain": [
       "                                            job_segment  \\\n",
       "5859  Boy have we got some fun things for youYou hav...   \n",
       "2391  Exciting Remote Cloud Azure Security Engineer ...   \n",
       "6527  To be successful in this role you need a stron...   \n",
       "454   The company joins with its employees to take a...   \n",
       "4792  Synergistic IT is a fullservice staffing and p...   \n",
       "\n",
       "                                                 skills  \n",
       "5859                                             MS, BS  \n",
       "2391                               Security Engineering  \n",
       "6527             software development, machine learning  \n",
       "454   ExaCC, database, Cloud implementations, Oracle...  \n",
       "4792                                                 IT  "
      ]
     },
     "execution_count": 146,
     "metadata": {},
     "output_type": "execute_result"
    }
   ],
   "source": [
    "data1.head()"
   ]
  },
  {
   "cell_type": "code",
   "execution_count": 147,
   "id": "ffc2dce6",
   "metadata": {},
   "outputs": [],
   "source": [
    "# Split the dataset into training and development sets\n",
    "train_data, dev_data = train_test_split(data1, test_size=0.10, random_state=42)\n",
    "\n",
    "# Convert the training and development sets into HuggingFace dataset format\n",
    "from datasets import Dataset\n",
    "\n",
    "train = Dataset.from_pandas(train_data)\n",
    "dev = Dataset.from_pandas(dev_data)"
   ]
  },
  {
   "cell_type": "markdown",
   "id": "8QpJupVSrj7W",
   "metadata": {
    "id": "8QpJupVSrj7W"
   },
   "source": [
    "Let's examine the training and development data:"
   ]
  },
  {
   "cell_type": "code",
   "execution_count": 148,
   "id": "2d256339",
   "metadata": {
    "colab": {
     "base_uri": "https://localhost:8080/"
    },
    "id": "2d256339",
    "outputId": "bcce3081-586b-4956-d9d1-6a9ec8320ea5"
   },
   "outputs": [
    {
     "name": "stdout",
     "output_type": "stream",
     "text": [
      "Dataset({\n",
      "    features: ['job_segment', 'skills', '__index_level_0__'],\n",
      "    num_rows: 3657\n",
      "})\n",
      "Dataset({\n",
      "    features: ['job_segment', 'skills', '__index_level_0__'],\n",
      "    num_rows: 407\n",
      "})\n"
     ]
    }
   ],
   "source": [
    "print(train)\n",
    "print(dev)"
   ]
  },
  {
   "cell_type": "markdown",
   "id": "xuLxXdSrrpr7",
   "metadata": {
    "id": "xuLxXdSrrpr7"
   },
   "source": [
    "And, print the first training example:"
   ]
  },
  {
   "cell_type": "code",
   "execution_count": 149,
   "id": "812e43cf",
   "metadata": {
    "colab": {
     "base_uri": "https://localhost:8080/"
    },
    "id": "812e43cf",
    "outputId": "5549d158-8845-439c-e0b0-e7a950277586"
   },
   "outputs": [
    {
     "name": "stdout",
     "output_type": "stream",
     "text": [
      "{'job_segment': 'If you have what it takes then look no furtherRequirementsTop Requirements 4 years with strong experience with SQL Excellent written and interpersonal communication skills Strong understanding of IT security and data privacy principles including experience working under at least one of the following HIPPA FEPRA PCI or SOX Expert knowledge with database structures principles and practices or of datadriven application designFOR IMMEDIATE CONSIDERATION PLEASE MESSAGE ALI SCOTT ON LINKEDIN WITH YOUR UPDATED RESUMETechnology Doesnt Change the World People DoRobert Half is the worlds first and largest specialized talent solutions firm that connects highly qualified job seekers to opportunities at great companies We offer contract temporary and permanent placement solutions for finance and accounting technology marketing and creative legal and administrative and customer support rolesRobert Half puts you in the best position to succeed by advocating on your behalf and promoting you to employersWe provide access to top jobs competitive compensation and benefits and free online trainingStay on top of every opportunity  even on the goRobert Half will consider qualified applicants with criminal histories in a manner consistent with the requirements of the San Francisco Fair Chance OrdinanceAll applicants applying for US job openings must be authorized to work in the United StatesBenefits are available to temporary professionalsVisit 2023Robert HalfAn Equal Opportunity EmployerMFDisabilityVeterans', 'skills': 'SQL, Technology', '__index_level_0__': 2483}\n"
     ]
    }
   ],
   "source": [
    "print(train[1])"
   ]
  },
  {
   "cell_type": "code",
   "execution_count": 31,
   "id": "RO5bETbtOxSD",
   "metadata": {
    "colab": {
     "base_uri": "https://localhost:8080/"
    },
    "id": "RO5bETbtOxSD",
    "outputId": "df9cf709-3636-47f2-a80e-21428d1b9279"
   },
   "outputs": [
    {
     "data": {
      "text/plain": [
       "(3657, 2)"
      ]
     },
     "execution_count": 31,
     "metadata": {},
     "output_type": "execute_result"
    }
   ],
   "source": [
    "train_data.shape"
   ]
  },
  {
   "cell_type": "markdown",
   "id": "OyJomDxXrtue",
   "metadata": {
    "id": "OyJomDxXrtue"
   },
   "source": [
    "We'll now start to process our data. We will need to use `nltk.word_tokenize`, so we need to load the `nltk` module. Additionally, we'll load the Flan T5 tokenizer."
   ]
  },
  {
   "cell_type": "code",
   "execution_count": 34,
   "id": "c5d94268",
   "metadata": {
    "colab": {
     "base_uri": "https://localhost:8080/"
    },
    "id": "c5d94268",
    "outputId": "057d0956-6ab8-4952-f1b0-e4ccd8b28651"
   },
   "outputs": [
    {
     "name": "stderr",
     "output_type": "stream",
     "text": [
      "[nltk_data] Downloading package punkt to /home/ubuntu/nltk_data...\n",
      "[nltk_data]   Package punkt is already up-to-date!\n"
     ]
    }
   ],
   "source": [
    "#!pip install nltk\n",
    "import nltk\n",
    "nltk.download('punkt')\n",
    "import string\n",
    "from transformers import AutoTokenizer\n",
    "\n",
    "model_checkpoint = \"google/flan-t5-small\"\n",
    "tokenizer = AutoTokenizer.from_pretrained(model_checkpoint)"
   ]
  },
  {
   "cell_type": "code",
   "execution_count": 35,
   "id": "1bff30e5",
   "metadata": {
    "id": "1bff30e5"
   },
   "outputs": [],
   "source": [
    "PREFIX = \"what are the skills in :\"\n",
    "MAX_INPUT_LENGTH = 128\n",
    "MAX_TARGET_LENGTH = 64\n",
    "\n",
    "def preprocess_data(examples):\n",
    "    inputs = [PREFIX + \" \" + text for text in examples[\"job_segment\"]]\n",
    "    \n",
    "    model_inputs = tokenizer(inputs, \n",
    "                             max_length=MAX_INPUT_LENGTH, \n",
    "                             truncation=True)\n",
    "\n",
    "    # Setup the tokenizer for targets\n",
    "    with tokenizer.as_target_tokenizer():\n",
    "        labels = tokenizer(examples[\"skills\"], \n",
    "                           max_length=MAX_TARGET_LENGTH, \n",
    "                           truncation=True)\n",
    "\n",
    "    model_inputs[\"labels\"] = labels[\"input_ids\"]\n",
    "    \n",
    "    return model_inputs"
   ]
  },
  {
   "cell_type": "markdown",
   "id": "k3dDI5ojtCC-",
   "metadata": {
    "id": "k3dDI5ojtCC-"
   },
   "source": [
    "We'll then apply the tokenization function to our datasets"
   ]
  },
  {
   "cell_type": "code",
   "execution_count": 36,
   "id": "daca9e98",
   "metadata": {
    "colab": {
     "base_uri": "https://localhost:8080/",
     "height": 72,
     "referenced_widgets": [
      "0aae33288d224967b83b28e97595792c",
      "177ba49b96b8425b9751c97e8dd6855e",
      "c8414524318547b3a152bcf8053c9ba3",
      "439f04388f4f480eb8f1fcaa6c5af020",
      "14f3cd75068742699014d0d7c9173d2b",
      "c6d1cb1fd1aa49f8b16acc2fa2ffbe5e",
      "b81ae25e204d48ff989cbbd8df5393b3",
      "2d66feb6b7d7495cbe7aea44c1f946a1",
      "41af7913265a4467a0c9c9e0fdd827e1",
      "14f567fc8eae427a9386b2c9961d88db",
      "c07eb665211b4f85b29c5092f6865f91",
      "46f8a7d98fa8429ca86f6eb7b5849409",
      "d499489a583a4493ab66241e1d7f8ba1",
      "48af00d056554c44a025789e33349e28",
      "5cc4c63855274af38c3686d67302f3fa",
      "070360962aa7421eb22747de2b1e1d78",
      "0a9d29d4bf6d42878b1b1b4b37fa2fad",
      "4d74142a4e5646e78de5eba7dab7bd77",
      "93587809ed16456696274740fd4f6719",
      "2ad8b6c4c4544a9da47b56d56069df26",
      "df5d589c346d40ab8a332933b2b56a44",
      "efdb221c2e9446a3ad7c7b660349856d"
     ]
    },
    "id": "daca9e98",
    "outputId": "7b64cc98-4dfc-492c-e68a-e88b88d3d05b"
   },
   "outputs": [
    {
     "data": {
      "application/vnd.jupyter.widget-view+json": {
       "model_id": "",
       "version_major": 2,
       "version_minor": 0
      },
      "text/plain": [
       "Map:   0%|          | 0/3657 [00:00<?, ? examples/s]"
      ]
     },
     "metadata": {},
     "output_type": "display_data"
    },
    {
     "name": "stderr",
     "output_type": "stream",
     "text": [
      "/opt/conda/envs/pytorch/lib/python3.10/site-packages/transformers/tokenization_utils_base.py:3596: UserWarning: `as_target_tokenizer` is deprecated and will be removed in v5 of Transformers. You can tokenize your labels by using the argument `text_target` of the regular `__call__` method (either in the same call as your input texts if you use the same keyword arguments, or in a separate call.\n",
      "  warnings.warn(\n"
     ]
    },
    {
     "data": {
      "application/vnd.jupyter.widget-view+json": {
       "model_id": "",
       "version_major": 2,
       "version_minor": 0
      },
      "text/plain": [
       "Map:   0%|          | 0/407 [00:00<?, ? examples/s]"
      ]
     },
     "metadata": {},
     "output_type": "display_data"
    }
   ],
   "source": [
    "tokenized_train = train.map(preprocess_data, batched=True)\n",
    "tokenized_dev = dev.map(preprocess_data, batched=True)"
   ]
  },
  {
   "cell_type": "markdown",
   "id": "1YcMadp5tIMM",
   "metadata": {
    "id": "1YcMadp5tIMM"
   },
   "source": [
    "Let's print the first tokenized training example:"
   ]
  },
  {
   "cell_type": "code",
   "execution_count": 37,
   "id": "91a106ce",
   "metadata": {
    "colab": {
     "base_uri": "https://localhost:8080/"
    },
    "id": "91a106ce",
    "outputId": "88ab3573-3a95-4b4e-a7f9-bf3025d7d163"
   },
   "outputs": [
    {
     "data": {
      "text/plain": [
       "{'job_segment': ' Demonstrate advanced working knowledge and experience with machine learning algorithms and populationbased metaheuristic optimization methodsGenerate innovative ideas establish new research directions and shape and execute on technical projectsMaintain stateoftheart knowledge and contribute to technical discussions and reviews as an expert in related areas of responsibilityApply theoretical knowledge to solve industrial problemsApply engineering knowledge in developing datadriven algorithms for anomaly detection failure prediction and optimizationCollaborate with field and product engineers to identify key health monitoring parameters of a systemProcess large multivariate data sets collected from equipment operations manufacturing tests and diagnostic routinesCommunicate ideas plans and results effectively via oral and written reportsBasic QualificationsMasters or PhD degree in science or engineering field requiredMinimum 3 years of direct experience MA Degree or 1 year PhDStrong experience in PythonExperience with PowerBI is preferredExperience with R is preferred but not requiredExperience in Machine Learning andor Statistical ModelingAbout INSPYR SolutionsGenuent and TekPartners are becoming INSPYR Solutions As a leading information technology partner we connect top IT talent with our clients to provide innovative business solutions through our IT Staffing Professional Services and Infrastructure Solutions divisionsWe understand and value the unique needs of highlyskilled information technology professionals in the industry and always strive to stay above the curveOur company was founded on the following core values Be the Best Understand the Urgency Never Ever Give Up Have the Courage to Excel and Make a ContributionWe take pride in our business model and strive to create a positive workplace environment through an exemplary cultureINSPYR Solutions provides Equal Employment Opportunities EEO to all employees and applicants for employment without regard to race color religion sex national origin age disability or genetics',\n",
       " 'skills': 'Statistical, Python, Machine Learning',\n",
       " '__index_level_0__': 1339,\n",
       " 'input_ids': [125,\n",
       "  33,\n",
       "  8,\n",
       "  1098,\n",
       "  16,\n",
       "  3,\n",
       "  10,\n",
       "  15782,\n",
       "  29,\n",
       "  7,\n",
       "  17,\n",
       "  2206,\n",
       "  2496,\n",
       "  464,\n",
       "  1103,\n",
       "  11,\n",
       "  351,\n",
       "  28,\n",
       "  1437,\n",
       "  1036,\n",
       "  16783,\n",
       "  11,\n",
       "  2074,\n",
       "  390,\n",
       "  10531,\n",
       "  88,\n",
       "  450,\n",
       "  3040,\n",
       "  11295,\n",
       "  2254,\n",
       "  13714,\n",
       "  49,\n",
       "  342,\n",
       "  3058,\n",
       "  912,\n",
       "  4797,\n",
       "  126,\n",
       "  585,\n",
       "  7943,\n",
       "  11,\n",
       "  2346,\n",
       "  11,\n",
       "  12133,\n",
       "  30,\n",
       "  2268,\n",
       "  1195,\n",
       "  21978,\n",
       "  29,\n",
       "  17,\n",
       "  9,\n",
       "  77,\n",
       "  538,\n",
       "  858,\n",
       "  532,\n",
       "  1408,\n",
       "  1103,\n",
       "  11,\n",
       "  4139,\n",
       "  12,\n",
       "  2268,\n",
       "  7574,\n",
       "  11,\n",
       "  2456,\n",
       "  38,\n",
       "  46,\n",
       "  2205,\n",
       "  16,\n",
       "  1341,\n",
       "  844,\n",
       "  13,\n",
       "  3263,\n",
       "  9648,\n",
       "  120,\n",
       "  13605,\n",
       "  1103,\n",
       "  12,\n",
       "  4602,\n",
       "  2913,\n",
       "  982,\n",
       "  9648,\n",
       "  120,\n",
       "  3867,\n",
       "  1103,\n",
       "  16,\n",
       "  2421,\n",
       "  331,\n",
       "  11570,\n",
       "  16783,\n",
       "  21,\n",
       "  23236,\n",
       "  63,\n",
       "  10664,\n",
       "  3338,\n",
       "  21332,\n",
       "  11,\n",
       "  11295,\n",
       "  9939,\n",
       "  9456,\n",
       "  342,\n",
       "  28,\n",
       "  1057,\n",
       "  11,\n",
       "  556,\n",
       "  8702,\n",
       "  12,\n",
       "  2862,\n",
       "  843,\n",
       "  533,\n",
       "  4891,\n",
       "  8755,\n",
       "  13,\n",
       "  3,\n",
       "  9,\n",
       "  358,\n",
       "  3174,\n",
       "  2319,\n",
       "  7,\n",
       "  508,\n",
       "  1249,\n",
       "  9504,\n",
       "  342,\n",
       "  331,\n",
       "  3369,\n",
       "  4759,\n",
       "  45,\n",
       "  1277,\n",
       "  2673,\n",
       "  1],\n",
       " 'attention_mask': [1,\n",
       "  1,\n",
       "  1,\n",
       "  1,\n",
       "  1,\n",
       "  1,\n",
       "  1,\n",
       "  1,\n",
       "  1,\n",
       "  1,\n",
       "  1,\n",
       "  1,\n",
       "  1,\n",
       "  1,\n",
       "  1,\n",
       "  1,\n",
       "  1,\n",
       "  1,\n",
       "  1,\n",
       "  1,\n",
       "  1,\n",
       "  1,\n",
       "  1,\n",
       "  1,\n",
       "  1,\n",
       "  1,\n",
       "  1,\n",
       "  1,\n",
       "  1,\n",
       "  1,\n",
       "  1,\n",
       "  1,\n",
       "  1,\n",
       "  1,\n",
       "  1,\n",
       "  1,\n",
       "  1,\n",
       "  1,\n",
       "  1,\n",
       "  1,\n",
       "  1,\n",
       "  1,\n",
       "  1,\n",
       "  1,\n",
       "  1,\n",
       "  1,\n",
       "  1,\n",
       "  1,\n",
       "  1,\n",
       "  1,\n",
       "  1,\n",
       "  1,\n",
       "  1,\n",
       "  1,\n",
       "  1,\n",
       "  1,\n",
       "  1,\n",
       "  1,\n",
       "  1,\n",
       "  1,\n",
       "  1,\n",
       "  1,\n",
       "  1,\n",
       "  1,\n",
       "  1,\n",
       "  1,\n",
       "  1,\n",
       "  1,\n",
       "  1,\n",
       "  1,\n",
       "  1,\n",
       "  1,\n",
       "  1,\n",
       "  1,\n",
       "  1,\n",
       "  1,\n",
       "  1,\n",
       "  1,\n",
       "  1,\n",
       "  1,\n",
       "  1,\n",
       "  1,\n",
       "  1,\n",
       "  1,\n",
       "  1,\n",
       "  1,\n",
       "  1,\n",
       "  1,\n",
       "  1,\n",
       "  1,\n",
       "  1,\n",
       "  1,\n",
       "  1,\n",
       "  1,\n",
       "  1,\n",
       "  1,\n",
       "  1,\n",
       "  1,\n",
       "  1,\n",
       "  1,\n",
       "  1,\n",
       "  1,\n",
       "  1,\n",
       "  1,\n",
       "  1,\n",
       "  1,\n",
       "  1,\n",
       "  1,\n",
       "  1,\n",
       "  1,\n",
       "  1,\n",
       "  1,\n",
       "  1,\n",
       "  1,\n",
       "  1,\n",
       "  1,\n",
       "  1,\n",
       "  1,\n",
       "  1,\n",
       "  1,\n",
       "  1,\n",
       "  1,\n",
       "  1,\n",
       "  1,\n",
       "  1,\n",
       "  1,\n",
       "  1,\n",
       "  1],\n",
       " 'labels': [3, 30578, 6, 20737, 6, 5879, 6630, 1]}"
      ]
     },
     "execution_count": 37,
     "metadata": {},
     "output_type": "execute_result"
    }
   ],
   "source": [
    "tokenized_train[0]"
   ]
  },
  {
   "cell_type": "markdown",
   "id": "aMIq8aHbtOjm",
   "metadata": {
    "id": "aMIq8aHbtOjm"
   },
   "source": [
    "Next we will import classes which are used for fine-tuning of seq2seq models like Flan-T5.\n",
    "\n",
    "* `AutoModelForSeq2SeqLM` loads the model itself,\n",
    "* `DataCollatorForSeq2Seq` takes care of data batching,\n",
    "* `Seq2SeqTrainingArguments` sets all hyperparameters for training, and\n",
    "* `Seq2SeqTrainer` trains the model"
   ]
  },
  {
   "cell_type": "code",
   "execution_count": 38,
   "id": "728fcc10",
   "metadata": {
    "id": "728fcc10"
   },
   "outputs": [],
   "source": [
    "from transformers import AutoModelForSeq2SeqLM, DataCollatorForSeq2Seq, Seq2SeqTrainingArguments, Seq2SeqTrainer"
   ]
  },
  {
   "cell_type": "markdown",
   "id": "icXQsS0Qtqp9",
   "metadata": {
    "id": "icXQsS0Qtqp9"
   },
   "source": [
    "We'll then set the hyperparameters for model training:\n",
    "\n",
    "```\n",
    "model_dir -- where to save model checkpoints\n",
    "evaluation_strategy=\"steps\" -- evaluate every N steps\n",
    "eval_steps=100 -- where N = 100\n",
    "logging_strategy=\"steps\" -- write information about training loss  every N steps\n",
    "logging_steps=1 -- where N = 1\n",
    "save_strategy=\"steps\" -- save model every N steps\n",
    "save_steps=100 -- where N = 100\n",
    "learning_rate=4e-5 -- initial learning rate for training\n",
    "per_device_train_batch_size=batch_size -- training batch size\n",
    "per_device_eval_batch_size=batch_size -- evaluation batch size\n",
    "weight_decay=0.01 -- hyperparameter for weight decay during training\n",
    "save_total_limit=3 -- save a maximum of 3 models\n",
    "num_train_epochs=1 -- number of training epochs\n",
    "predict_with_generate=True -- generate the actual output during evaluation \n",
    "```"
   ]
  },
  {
   "cell_type": "code",
   "execution_count": 39,
   "id": "825ebd39",
   "metadata": {
    "id": "825ebd39"
   },
   "outputs": [],
   "source": [
    "batch_size = 2\n",
    "model_name = \"flan-t5-finer\"\n",
    "model_dir = f\"./models/{model_name}\"\n",
    "\n",
    "args = Seq2SeqTrainingArguments(\n",
    "    model_dir,\n",
    "    evaluation_strategy=\"steps\",\n",
    "    eval_steps=1000,\n",
    "    logging_strategy=\"steps\",\n",
    "    logging_steps=1,\n",
    "    save_strategy=\"steps\",\n",
    "    save_steps=1000,\n",
    "    learning_rate=4e-3,\n",
    "    per_device_train_batch_size=batch_size,\n",
    "    per_device_eval_batch_size=batch_size,\n",
    "    weight_decay=0.01,\n",
    "    save_total_limit=2,\n",
    "    num_train_epochs=5,\n",
    "    predict_with_generate=True)"
   ]
  },
  {
   "cell_type": "markdown",
   "id": "U1JdzSzhvOLx",
   "metadata": {
    "id": "U1JdzSzhvOLx"
   },
   "source": [
    "Let's define a data collator which batches the training and development data for us:"
   ]
  },
  {
   "cell_type": "code",
   "execution_count": 40,
   "id": "4f847b09",
   "metadata": {
    "id": "4f847b09"
   },
   "outputs": [],
   "source": [
    "data_collator = DataCollatorForSeq2Seq(tokenizer, padding=True)"
   ]
  },
  {
   "cell_type": "markdown",
   "id": "zPM1Ax3XvUbz",
   "metadata": {
    "id": "zPM1Ax3XvUbz"
   },
   "source": [
    "We'll use BLEU score to evaluate progress during training because our outputs are token sequences and even partial matches can be valuable"
   ]
  },
  {
   "cell_type": "code",
   "execution_count": 41,
   "id": "709e7189",
   "metadata": {},
   "outputs": [],
   "source": [
    "#  !pip3 install sacrebleu"
   ]
  },
  {
   "cell_type": "code",
   "execution_count": 42,
   "id": "a98cd928",
   "metadata": {
    "id": "a98cd928"
   },
   "outputs": [
    {
     "name": "stderr",
     "output_type": "stream",
     "text": [
      "/tmp/ipykernel_37796/409792425.py:6: FutureWarning: load_metric is deprecated and will be removed in the next major version of datasets. Use 'evaluate.load' instead, from the new library 🤗 Evaluate: https://huggingface.co/docs/evaluate\n",
      "  metric = load_metric(\"sacrebleu\")\n"
     ]
    }
   ],
   "source": [
    "# This is potentially required because of some obscure colab bug\n",
    "import locale\n",
    "locale.getpreferredencoding = lambda: \"UTF-8\"\n",
    "\n",
    "#!pip3 install sacrebleu\n",
    "metric = load_metric(\"sacrebleu\")"
   ]
  },
  {
   "cell_type": "markdown",
   "id": "LC_EqNIwvnjP",
   "metadata": {
    "id": "LC_EqNIwvnjP"
   },
   "source": [
    "We'll now define a function to compute BLEU score based on model predictions and gold standard outputs."
   ]
  },
  {
   "cell_type": "markdown",
   "id": "b6f18686",
   "metadata": {},
   "source": [
    "# Compute Metrics"
   ]
  },
  {
   "cell_type": "code",
   "execution_count": 51,
   "id": "e6bc49b8",
   "metadata": {
    "id": "e6bc49b8"
   },
   "outputs": [],
   "source": [
    "import numpy as np\n",
    "\n",
    "def compute_metrics(eval_pred):\n",
    "    predictions, labels = eval_pred\n",
    "    decoded_preds = tokenizer.batch_decode(predictions, skip_special_tokens=True)\n",
    "    \n",
    "    # The labels are padded to equal length using a special symbol -100.\n",
    "    # This is not the regular <PAD> symbol for the tokenizer so\n",
    "    # we'll have to replace -100 in the labels before decoding.\n",
    "    labels = np.where(labels != -100, labels, tokenizer.pad_token_id)\n",
    "    decoded_labels = tokenizer.batch_decode(labels, skip_special_tokens=True)\n",
    "\n",
    "    # For BLEU, we'll need to split the outputs into sequences\n",
    "    # of word tokens. We'll just use NLTK word_tokenize.\n",
    "    decoded_preds = [nltk.word_tokenize(pred.strip())\n",
    "                      for pred in decoded_preds]\n",
    "    decoded_labels = [[nltk.word_tokenize(label.strip())]\n",
    "                      for label in decoded_labels]\n",
    "    \n",
    "    # Compute BLEU scores\n",
    "    result = metric.compute(predictions=decoded_preds, references=decoded_labels)\n",
    "\n",
    "    # Return BLEU scores\n",
    "    return result \n",
    "\n",
    "\n",
    "def compute_metrics1(eval_pred):\n",
    "    predictions, labels = eval_pred\n",
    "    decoded_preds = tokenizer.batch_decode(predictions, skip_special_tokens=True)\n",
    "\n",
    "    # Replace -100 in the labels before decoding\n",
    "    labels = np.where(labels != -100, labels, tokenizer.pad_token_id)\n",
    "    decoded_labels = tokenizer.batch_decode(labels, skip_special_tokens=True)\n",
    "\n",
    "    decoded_preds_tokens = [nltk.word_tokenize(pred.strip()) for pred in decoded_preds]\n",
    "    decoded_labels_tokens = [[nltk.word_tokenize(label.strip())] for label in decoded_labels]\n",
    "\n",
    "    # Compute BLEU scores\n",
    "    bleu_result = metric.compute(predictions=decoded_preds_tokens, references=decoded_labels_tokens)\n",
    "\n",
    "    # Compute the \"accuracy\" based on exact string matches\n",
    "    total_samples = len(decoded_preds)\n",
    "    correct_samples = sum([1 if pred.strip() == label.strip() else 0 for pred, label in zip(decoded_preds, decoded_labels)])\n",
    "    accuracy = correct_samples / total_samples\n",
    "\n",
    "    # Return BLEU scores and accuracy\n",
    "    return {\"bleu\": bleu_result, \"accuracy\": accuracy}\n"
   ]
  },
  {
   "cell_type": "code",
   "execution_count": 52,
   "id": "d1dbb5aa",
   "metadata": {
    "id": "d1dbb5aa"
   },
   "outputs": [],
   "source": [
    "# Function that returns an untrained model to be trained\n",
    "def model_init():\n",
    "    return AutoModelForSeq2SeqLM.from_pretrained(model_checkpoint)\n",
    "\n",
    "trainer = Seq2SeqTrainer(\n",
    "    model_init=model_init,\n",
    "    args=args,\n",
    "    train_dataset=tokenized_train,\n",
    "    eval_dataset=tokenized_dev,\n",
    "    data_collator=data_collator,\n",
    "    tokenizer=tokenizer,\n",
    "    compute_metrics=compute_metrics\n",
    ")"
   ]
  },
  {
   "cell_type": "code",
   "execution_count": 53,
   "id": "NAJYKiBDmLb-",
   "metadata": {
    "id": "NAJYKiBDmLb-"
   },
   "outputs": [
    {
     "name": "stdout",
     "output_type": "stream",
     "text": [
      "INPUT: ['what are the skills in : SummaryThe Database Developer is part of the CEMCO development team whose responsibilities include managing and maintaining the enterprise data warehouse.Strong development skills in C# and .Net, including Excel VSTO.The ideal candidate should have a deep understanding of database management systems, as well as the ability to write complex code in C# and .Net to build, maintain and optimize databases.Effective at communicating with users to define requirements and design, solutions based on those requirements.This position is also responsible for creating tools that provide insight to various departments, including Finance, Accounting, and Customer Service to build data visualizations and dashboards.Essential Duties And ResponsibilitiesDesign, install, configure, and maintain database management systems.Monitor database performance and provide optimization.Develop, implement, and maintain backup and recovery procedures.']\n",
      "OUTPUT: Finance and IT departments.\n"
     ]
    }
   ],
   "source": [
    "model = model_init()\n",
    "text = \"\"\"SummaryThe Database Developer is part of the CEMCO development team whose responsibilities include managing and maintaining the enterprise data warehouse.Strong development skills in C# and .Net, including Excel VSTO.The ideal candidate should have a deep understanding of database management systems, as well as the ability to write complex code in C# and .Net to build, maintain and optimize databases.Effective at communicating with users to define requirements and design, solutions based on those requirements.This position is also responsible for creating tools that provide insight to various departments, including Finance, Accounting, and Customer Service to build data visualizations and dashboards.Essential Duties And ResponsibilitiesDesign, install, configure, and maintain database management systems.Monitor database performance and provide optimization.Develop, implement, and maintain backup and recovery procedures.\"\"\"\n",
    "inputs = [\"what are the skills in : \" + text]\n",
    "\n",
    "print(\"INPUT:\", inputs)\n",
    "inputs = tokenizer(inputs, max_length=MAX_INPUT_LENGTH, truncation=True, return_tensors=\"pt\")\n",
    "output = model.generate(**inputs, num_beams=32, do_sample=True, min_length=1, max_length=64)\n",
    "decoded_output = tokenizer.batch_decode(output, skip_special_tokens=True)[0]\n",
    "print(\"OUTPUT:\", decoded_output)"
   ]
  },
  {
   "cell_type": "code",
   "execution_count": 54,
   "id": "8712c6c3",
   "metadata": {
    "id": "8712c6c3",
    "scrolled": true
   },
   "outputs": [
    {
     "data": {
      "text/html": [
       "\n",
       "    <div>\n",
       "      \n",
       "      <progress value='3658' max='3658' style='width:300px; height:20px; vertical-align: middle;'></progress>\n",
       "      [3658/3658 08:15, Epoch 2/2]\n",
       "    </div>\n",
       "    <table border=\"1\" class=\"dataframe\">\n",
       "  <thead>\n",
       " <tr style=\"text-align: left;\">\n",
       "      <th>Step</th>\n",
       "      <th>Training Loss</th>\n",
       "      <th>Validation Loss</th>\n",
       "      <th>Score</th>\n",
       "      <th>Counts</th>\n",
       "      <th>Totals</th>\n",
       "      <th>Precisions</th>\n",
       "      <th>Bp</th>\n",
       "      <th>Sys Len</th>\n",
       "      <th>Ref Len</th>\n",
       "    </tr>\n",
       "  </thead>\n",
       "  <tbody>\n",
       "    <tr>\n",
       "      <td>1000</td>\n",
       "      <td>2.674500</td>\n",
       "      <td>2.139409</td>\n",
       "      <td>34.178518</td>\n",
       "      <td>[2670, 1631, 1257, 935]</td>\n",
       "      <td>[3947, 3540, 3133, 2726]</td>\n",
       "      <td>[67.64631365594123, 46.07344632768361, 40.12128949888286, 34.2993396918562]</td>\n",
       "      <td>0.751042</td>\n",
       "      <td>3947</td>\n",
       "      <td>5077</td>\n",
       "    </tr>\n",
       "    <tr>\n",
       "      <td>2000</td>\n",
       "      <td>0.608400</td>\n",
       "      <td>2.027874</td>\n",
       "      <td>29.866704</td>\n",
       "      <td>[2452, 1448, 1107, 817]</td>\n",
       "      <td>[3482, 3075, 2668, 2261]</td>\n",
       "      <td>[70.4192992533027, 47.08943089430894, 41.49175412293853, 36.134453781512605]</td>\n",
       "      <td>0.632503</td>\n",
       "      <td>3482</td>\n",
       "      <td>5077</td>\n",
       "    </tr>\n",
       "    <tr>\n",
       "      <td>3000</td>\n",
       "      <td>1.883800</td>\n",
       "      <td>2.001194</td>\n",
       "      <td>33.919467</td>\n",
       "      <td>[2622, 1607, 1245, 944]</td>\n",
       "      <td>[3980, 3573, 3166, 2759]</td>\n",
       "      <td>[65.87939698492463, 44.976210467394345, 39.32406822488945, 34.21529539688293]</td>\n",
       "      <td>0.759095</td>\n",
       "      <td>3980</td>\n",
       "      <td>5077</td>\n",
       "    </tr>\n",
       "  </tbody>\n",
       "</table><p>"
      ],
      "text/plain": [
       "<IPython.core.display.HTML object>"
      ]
     },
     "metadata": {},
     "output_type": "display_data"
    },
    {
     "data": {
      "text/plain": [
       "TrainOutput(global_step=3658, training_loss=2.2442769999343426, metrics={'train_runtime': 495.7602, 'train_samples_per_second': 14.753, 'train_steps_per_second': 7.379, 'total_flos': 338898721849344.0, 'train_loss': 2.2442769999343426, 'epoch': 2.0})"
      ]
     },
     "execution_count": 54,
     "metadata": {},
     "output_type": "execute_result"
    }
   ],
   "source": [
    "trainer.train()"
   ]
  },
  {
   "cell_type": "markdown",
   "id": "iewYfBH6w0tR",
   "metadata": {
    "id": "iewYfBH6w0tR"
   },
   "source": [
    "After training, we can load the best checkpoint model from Google Drive:"
   ]
  },
  {
   "cell_type": "code",
   "execution_count": 126,
   "id": "ce1ccfc9",
   "metadata": {
    "id": "ce1ccfc9"
   },
   "outputs": [],
   "source": [
    "model_name = \"flan-t5-finer\"\n",
    "model_dir = f\"./models/{model_name}/checkpoint-2000\"\n",
    "\n",
    "tokenizer = AutoTokenizer.from_pretrained(model_dir)\n",
    "model = AutoModelForSeq2SeqLM.from_pretrained(model_dir)\n",
    "\n",
    "max_input_length = MAX_INPUT_LENGTH"
   ]
  },
  {
   "cell_type": "markdown",
   "id": "VVrRd7TFw92M",
   "metadata": {
    "id": "VVrRd7TFw92M"
   },
   "source": [
    "We can then test the model on the same input as before. This time, the output seems to be correct: `Ville Oksanen` "
   ]
  },
  {
   "cell_type": "code",
   "execution_count": 127,
   "id": "ca1eade4",
   "metadata": {
    "id": "ca1eade4"
   },
   "outputs": [
    {
     "name": "stdout",
     "output_type": "stream",
     "text": [
      "C#,.Net\n"
     ]
    }
   ],
   "source": [
    "text = \"\"\"SummaryThe Database Developer is part of the CEMCO development team whose responsibilities include managing and maintaining the enterprise data warehouse.Strong development skills in C# and .Net, including Excel VSTO.The ideal candidate should have a deep understanding of database management systems, as well as the ability to write complex code in C# and .Net to build, maintain and optimize databases.Effective at communicating with users to define requirements and design, solutions based on those requirements.This position is also responsible for creating tools that provide insight to various departments, including Finance, Accounting, and Customer Service to build data visualizations and dashboards.Essential Duties And ResponsibilitiesDesign, install, configure, and maintain database management systems.Monitor database performance and provide optimization.Develop, implement, and maintain backup and recovery procedures.\"\"\"\n",
    "\n",
    "inputs = [\"what are the skills in : \" + text]\n",
    "\n",
    "inputs = tokenizer(inputs, max_length=max_input_length, truncation=True, return_tensors=\"pt\")\n",
    "output = model.generate(**inputs, num_beams=32, do_sample=True, min_length=1, max_length=64)\n",
    "decoded_output = tokenizer.batch_decode(output, skip_special_tokens=True)[0]\n",
    "print(decoded_output)"
   ]
  },
  {
   "cell_type": "code",
   "execution_count": 128,
   "id": "XaG54twgKVBP",
   "metadata": {
    "id": "XaG54twgKVBP"
   },
   "outputs": [
    {
     "name": "stdout",
     "output_type": "stream",
     "text": [
      "Node.js, React, Angular\n"
     ]
    }
   ],
   "source": [
    "\n",
    "text=\"\"\"About The JobWe are seeking a Senior Full Stack Software Engineer to build and scale a variety of Web and Mobile Products for an intriguing range of clients.This is a unique opportunity to work alongside an experienced team that excels at building SaaS products.This position reports to a Development Team Lead.QualificationsEssential skills: Deep experience with Java / Spring Boot, C# / .NET, or React (with functional components)Helpful skills: Node.js, React Native, Angular, or Ruby on RailsThe role also requires a voracious appetite to learn and apply new skills.You should be skilled at building web-based software or mobile apps, and excel at learning new languages and frameworks.\"\"\"\n",
    "inputs = [\"what are the skills in : \" + text]\n",
    "\n",
    "inputs = tokenizer(inputs, max_length=max_input_length, truncation=True, return_tensors=\"pt\")\n",
    "output = model.generate(**inputs, num_beams=32, do_sample=True, min_length=1, max_length=64)\n",
    "decoded_output = tokenizer.batch_decode(output, skip_special_tokens=True)[0]\n",
    "print(decoded_output)"
   ]
  },
  {
   "cell_type": "code",
   "execution_count": 129,
   "id": "6r0JvAOnbWcY",
   "metadata": {
    "id": "6r0JvAOnbWcY"
   },
   "outputs": [
    {
     "name": "stdout",
     "output_type": "stream",
     "text": [
      "Data Science, Machine-Learning\n"
     ]
    }
   ],
   "source": [
    "\n",
    "text=\"\"\"What Do You Need To Succeed?Must HaveMasters or PHD in Mathematics, Physics, Statistics, Computer Science or other quantitative fields.2+ years of experience in Data Science, Machine-Learning, Natural Language Processing or StatisticsOther Required Qualifications:Out of the box thinking about data science and data sourcesCreative approaches to using datasets to get insights into financial performance of companiesStrong in data profiling, cleaning, and insight generationAbility to perform complex data analysis on large volumes of data and present findings to stakeholders.Strong knowledge of design, development, and implementation experience utilizing data science technologies.Excellent analytical and problem solving skills.Expert technical documentation skills.Familiar with a range of data tools.Work experience with complex visualization of data.Expert working knowledge of Python and RKnowledgeable in SQLStrong coding abilities.Familiar with a Linux environment and shell scripting.\"\"\"\n",
    "inputs = [\"what are the skills in : \" + text]\n",
    "\n",
    "inputs = tokenizer(inputs, max_length=max_input_length, truncation=True, return_tensors=\"pt\")\n",
    "output = model.generate(**inputs, num_beams=32, do_sample=True, min_length=1, max_length=64)\n",
    "decoded_output = tokenizer.batch_decode(output, skip_special_tokens=True)[0]\n",
    "print(decoded_output)"
   ]
  },
  {
   "cell_type": "code",
   "execution_count": null,
   "id": "3fM1md1tberF",
   "metadata": {
    "id": "3fM1md1tberF"
   },
   "outputs": [],
   "source": []
  },
  {
   "cell_type": "code",
   "execution_count": 130,
   "id": "61e3e944",
   "metadata": {},
   "outputs": [],
   "source": [
    "# new_column = []\n",
    "\n",
    "# for index, row in data.iterrows():\n",
    "#     text=row[\"job_segment\"]\n",
    "#     inputs = [\"what are the skills in : \" + text]\n",
    "#     inputs = tokenizer(inputs, max_length=max_input_length, truncation=True, return_tensors=\"pt\")\n",
    "#     output = model.generate(**inputs, num_beams=8, do_sample=True, min_length=1, max_length=max_input_length)\n",
    "#     decoded_output = tokenizer.batch_decode(output, skip_special_tokens=True)[0]\n",
    "\n",
    "#     new_column.append([i.strip() for i in decoded_output.split(\",\")])\n",
    "#     if index == 100:\n",
    "#         break"
   ]
  },
  {
   "cell_type": "code",
   "execution_count": 131,
   "id": "a414acee",
   "metadata": {},
   "outputs": [],
   "source": [
    "#data.loc[:100, 'predicted_skills'] = new_column"
   ]
  },
  {
   "cell_type": "code",
   "execution_count": 132,
   "id": "f135e4b1",
   "metadata": {},
   "outputs": [],
   "source": [
    "#pred = data.loc[:100]"
   ]
  },
  {
   "cell_type": "code",
   "execution_count": 133,
   "id": "86c9be77",
   "metadata": {},
   "outputs": [],
   "source": [
    "#pred.head()"
   ]
  },
  {
   "cell_type": "code",
   "execution_count": 134,
   "id": "766fd432",
   "metadata": {},
   "outputs": [],
   "source": [
    "#pred['skills'] = pred['skills'].apply(lambda x: x.split(', ') if isinstance(x, str) else x)\n"
   ]
  },
  {
   "cell_type": "code",
   "execution_count": 135,
   "id": "71928682",
   "metadata": {},
   "outputs": [],
   "source": [
    "#pred"
   ]
  },
  {
   "cell_type": "code",
   "execution_count": 150,
   "id": "de5d64e5",
   "metadata": {},
   "outputs": [
    {
     "data": {
      "text/html": [
       "<div>\n",
       "<style scoped>\n",
       "    .dataframe tbody tr th:only-of-type {\n",
       "        vertical-align: middle;\n",
       "    }\n",
       "\n",
       "    .dataframe tbody tr th {\n",
       "        vertical-align: top;\n",
       "    }\n",
       "\n",
       "    .dataframe thead th {\n",
       "        text-align: right;\n",
       "    }\n",
       "</style>\n",
       "<table border=\"1\" class=\"dataframe\">\n",
       "  <thead>\n",
       "    <tr style=\"text-align: right;\">\n",
       "      <th></th>\n",
       "      <th>job_segment</th>\n",
       "      <th>skills</th>\n",
       "    </tr>\n",
       "  </thead>\n",
       "  <tbody>\n",
       "    <tr>\n",
       "      <th>793</th>\n",
       "      <td>Knowledge of End-End Test Automation usingTest...</td>\n",
       "      <td>React.js, React, CSS, JavaScript</td>\n",
       "    </tr>\n",
       "    <tr>\n",
       "      <th>579</th>\n",
       "      <td>Our cloud-based platform incorporates advanced...</td>\n",
       "      <td>AR, Augmented Reality, React, HCI</td>\n",
       "    </tr>\n",
       "    <tr>\n",
       "      <th>4059</th>\n",
       "      <td>The Cloud Engineer will contribute to the desi...</td>\n",
       "      <td>public cloud, Cloud Engineer, Cloud, Cloud Sec...</td>\n",
       "    </tr>\n",
       "    <tr>\n",
       "      <th>1970</th>\n",
       "      <td>', \"And as we work today to drive better care ...</td>\n",
       "      <td>machine learning, ResMed</td>\n",
       "    </tr>\n",
       "    <tr>\n",
       "      <th>885</th>\n",
       "      <td>In This Role, You’llSupport Sales team to asse...</td>\n",
       "      <td>Engineering</td>\n",
       "    </tr>\n",
       "  </tbody>\n",
       "</table>\n",
       "</div>"
      ],
      "text/plain": [
       "                                            job_segment  \\\n",
       "793   Knowledge of End-End Test Automation usingTest...   \n",
       "579   Our cloud-based platform incorporates advanced...   \n",
       "4059  The Cloud Engineer will contribute to the desi...   \n",
       "1970  ', \"And as we work today to drive better care ...   \n",
       "885   In This Role, You’llSupport Sales team to asse...   \n",
       "\n",
       "                                                 skills  \n",
       "793                    React.js, React, CSS, JavaScript  \n",
       "579                   AR, Augmented Reality, React, HCI  \n",
       "4059  public cloud, Cloud Engineer, Cloud, Cloud Sec...  \n",
       "1970                           machine learning, ResMed  \n",
       "885                                         Engineering  "
      ]
     },
     "execution_count": 150,
     "metadata": {},
     "output_type": "execute_result"
    }
   ],
   "source": [
    "data_pred = test_data#pd.read_csv(\"./GPT-3_skills_filtered_data_test.csv\")\n",
    "new_column = []\n",
    "\n",
    "data_pred.head()"
   ]
  },
  {
   "cell_type": "code",
   "execution_count": 151,
   "id": "deb3f893",
   "metadata": {},
   "outputs": [],
   "source": [
    "\n",
    "def process_skills(skills):\n",
    "    if not isinstance(skills, str) or skills == \"NaN\":\n",
    "        return []\n",
    "    return [skill.strip() for skill in skills.split(',')]\n",
    "\n",
    "data_pred['skills'] = data_pred['skills'].apply(process_skills)"
   ]
  },
  {
   "cell_type": "code",
   "execution_count": 152,
   "id": "1b632ec3",
   "metadata": {},
   "outputs": [
    {
     "data": {
      "text/html": [
       "<div>\n",
       "<style scoped>\n",
       "    .dataframe tbody tr th:only-of-type {\n",
       "        vertical-align: middle;\n",
       "    }\n",
       "\n",
       "    .dataframe tbody tr th {\n",
       "        vertical-align: top;\n",
       "    }\n",
       "\n",
       "    .dataframe thead th {\n",
       "        text-align: right;\n",
       "    }\n",
       "</style>\n",
       "<table border=\"1\" class=\"dataframe\">\n",
       "  <thead>\n",
       "    <tr style=\"text-align: right;\">\n",
       "      <th></th>\n",
       "      <th>job_segment</th>\n",
       "      <th>skills</th>\n",
       "    </tr>\n",
       "  </thead>\n",
       "  <tbody>\n",
       "    <tr>\n",
       "      <th>793</th>\n",
       "      <td>Knowledge of End-End Test Automation usingTest...</td>\n",
       "      <td>[React.js, React, CSS, JavaScript]</td>\n",
       "    </tr>\n",
       "    <tr>\n",
       "      <th>579</th>\n",
       "      <td>Our cloud-based platform incorporates advanced...</td>\n",
       "      <td>[AR, Augmented Reality, React, HCI]</td>\n",
       "    </tr>\n",
       "    <tr>\n",
       "      <th>4059</th>\n",
       "      <td>The Cloud Engineer will contribute to the desi...</td>\n",
       "      <td>[public cloud, Cloud Engineer, Cloud, Cloud Se...</td>\n",
       "    </tr>\n",
       "    <tr>\n",
       "      <th>1970</th>\n",
       "      <td>', \"And as we work today to drive better care ...</td>\n",
       "      <td>[machine learning, ResMed]</td>\n",
       "    </tr>\n",
       "    <tr>\n",
       "      <th>885</th>\n",
       "      <td>In This Role, You’llSupport Sales team to asse...</td>\n",
       "      <td>[Engineering]</td>\n",
       "    </tr>\n",
       "    <tr>\n",
       "      <th>...</th>\n",
       "      <td>...</td>\n",
       "      <td>...</td>\n",
       "    </tr>\n",
       "    <tr>\n",
       "      <th>5999</th>\n",
       "      <td>What you’ll do:Design and execute the querying...</td>\n",
       "      <td>[SQL]</td>\n",
       "    </tr>\n",
       "    <tr>\n",
       "      <th>4370</th>\n",
       "      <td>\", 'Must be detail oriented.Experience SQL Ser...</td>\n",
       "      <td>[SQL Server]</td>\n",
       "    </tr>\n",
       "    <tr>\n",
       "      <th>4773</th>\n",
       "      <td>We believe in a collective responsibility to c...</td>\n",
       "      <td>[ACLU]</td>\n",
       "    </tr>\n",
       "    <tr>\n",
       "      <th>4891</th>\n",
       "      <td>Maintains and develops security requirements b...</td>\n",
       "      <td>[vulnerability scanning, secure, security]</td>\n",
       "    </tr>\n",
       "    <tr>\n",
       "      <th>2993</th>\n",
       "      <td>Selling point for your role: Work in GCP envir...</td>\n",
       "      <td>[SQL, MySQL, Machine Learning, Oracle]</td>\n",
       "    </tr>\n",
       "  </tbody>\n",
       "</table>\n",
       "<p>214 rows × 2 columns</p>\n",
       "</div>"
      ],
      "text/plain": [
       "                                            job_segment  \\\n",
       "793   Knowledge of End-End Test Automation usingTest...   \n",
       "579   Our cloud-based platform incorporates advanced...   \n",
       "4059  The Cloud Engineer will contribute to the desi...   \n",
       "1970  ', \"And as we work today to drive better care ...   \n",
       "885   In This Role, You’llSupport Sales team to asse...   \n",
       "...                                                 ...   \n",
       "5999  What you’ll do:Design and execute the querying...   \n",
       "4370  \", 'Must be detail oriented.Experience SQL Ser...   \n",
       "4773  We believe in a collective responsibility to c...   \n",
       "4891  Maintains and develops security requirements b...   \n",
       "2993  Selling point for your role: Work in GCP envir...   \n",
       "\n",
       "                                                 skills  \n",
       "793                  [React.js, React, CSS, JavaScript]  \n",
       "579                 [AR, Augmented Reality, React, HCI]  \n",
       "4059  [public cloud, Cloud Engineer, Cloud, Cloud Se...  \n",
       "1970                         [machine learning, ResMed]  \n",
       "885                                       [Engineering]  \n",
       "...                                                 ...  \n",
       "5999                                              [SQL]  \n",
       "4370                                       [SQL Server]  \n",
       "4773                                             [ACLU]  \n",
       "4891         [vulnerability scanning, secure, security]  \n",
       "2993             [SQL, MySQL, Machine Learning, Oracle]  \n",
       "\n",
       "[214 rows x 2 columns]"
      ]
     },
     "execution_count": 152,
     "metadata": {},
     "output_type": "execute_result"
    }
   ],
   "source": [
    "data_pred"
   ]
  },
  {
   "cell_type": "code",
   "execution_count": 153,
   "id": "17517aa9",
   "metadata": {},
   "outputs": [],
   "source": [
    "for index, row in data_pred.iterrows():\n",
    "    text=row[\"job_segment\"]\n",
    "    inputs = [\"what are the skills in : \" + text]\n",
    "    inputs = tokenizer(inputs, max_length=max_input_length, truncation=True, return_tensors=\"pt\")\n",
    "    output = model.generate(**inputs, num_beams=32, do_sample=True, min_length=1, max_length=max_input_length)\n",
    "    decoded_output = tokenizer.batch_decode(output, skip_special_tokens=True)[0]\n",
    "\n",
    "    new_column.append([i.strip() for i in decoded_output.split(\",\")])"
   ]
  },
  {
   "cell_type": "code",
   "execution_count": 154,
   "id": "8cc5c541",
   "metadata": {},
   "outputs": [],
   "source": [
    "data_pred['predicted_skills'] = new_column"
   ]
  },
  {
   "cell_type": "code",
   "execution_count": 155,
   "id": "960c6cec",
   "metadata": {},
   "outputs": [
    {
     "data": {
      "text/html": [
       "<div>\n",
       "<style scoped>\n",
       "    .dataframe tbody tr th:only-of-type {\n",
       "        vertical-align: middle;\n",
       "    }\n",
       "\n",
       "    .dataframe tbody tr th {\n",
       "        vertical-align: top;\n",
       "    }\n",
       "\n",
       "    .dataframe thead th {\n",
       "        text-align: right;\n",
       "    }\n",
       "</style>\n",
       "<table border=\"1\" class=\"dataframe\">\n",
       "  <thead>\n",
       "    <tr style=\"text-align: right;\">\n",
       "      <th></th>\n",
       "      <th>job_segment</th>\n",
       "      <th>skills</th>\n",
       "      <th>predicted_skills</th>\n",
       "    </tr>\n",
       "  </thead>\n",
       "  <tbody>\n",
       "    <tr>\n",
       "      <th>793</th>\n",
       "      <td>Knowledge of End-End Test Automation usingTest...</td>\n",
       "      <td>[React.js, React, CSS, JavaScript]</td>\n",
       "      <td>[React.js, React.js]</td>\n",
       "    </tr>\n",
       "    <tr>\n",
       "      <th>579</th>\n",
       "      <td>Our cloud-based platform incorporates advanced...</td>\n",
       "      <td>[AR, Augmented Reality, React, HCI]</td>\n",
       "      <td>[Artificial Intelligence, Artificial Intellige...</td>\n",
       "    </tr>\n",
       "    <tr>\n",
       "      <th>4059</th>\n",
       "      <td>The Cloud Engineer will contribute to the desi...</td>\n",
       "      <td>[public cloud, Cloud Engineer, Cloud, Cloud Se...</td>\n",
       "      <td>[AWS]</td>\n",
       "    </tr>\n",
       "    <tr>\n",
       "      <th>1970</th>\n",
       "      <td>', \"And as we work today to drive better care ...</td>\n",
       "      <td>[machine learning, ResMed]</td>\n",
       "      <td>[MatrixCare]</td>\n",
       "    </tr>\n",
       "    <tr>\n",
       "      <th>885</th>\n",
       "      <td>In This Role, You’llSupport Sales team to asse...</td>\n",
       "      <td>[Engineering]</td>\n",
       "      <td>[Roboflow]</td>\n",
       "    </tr>\n",
       "  </tbody>\n",
       "</table>\n",
       "</div>"
      ],
      "text/plain": [
       "                                            job_segment  \\\n",
       "793   Knowledge of End-End Test Automation usingTest...   \n",
       "579   Our cloud-based platform incorporates advanced...   \n",
       "4059  The Cloud Engineer will contribute to the desi...   \n",
       "1970  ', \"And as we work today to drive better care ...   \n",
       "885   In This Role, You’llSupport Sales team to asse...   \n",
       "\n",
       "                                                 skills  \\\n",
       "793                  [React.js, React, CSS, JavaScript]   \n",
       "579                 [AR, Augmented Reality, React, HCI]   \n",
       "4059  [public cloud, Cloud Engineer, Cloud, Cloud Se...   \n",
       "1970                         [machine learning, ResMed]   \n",
       "885                                       [Engineering]   \n",
       "\n",
       "                                       predicted_skills  \n",
       "793                                [React.js, React.js]  \n",
       "579   [Artificial Intelligence, Artificial Intellige...  \n",
       "4059                                              [AWS]  \n",
       "1970                                       [MatrixCare]  \n",
       "885                                          [Roboflow]  "
      ]
     },
     "execution_count": 155,
     "metadata": {},
     "output_type": "execute_result"
    }
   ],
   "source": [
    "data_pred.head()"
   ]
  },
  {
   "cell_type": "code",
   "execution_count": 156,
   "id": "e48c6aa2",
   "metadata": {},
   "outputs": [],
   "source": [
    "data_pred1 = data_pred"
   ]
  },
  {
   "cell_type": "code",
   "execution_count": 157,
   "id": "7993642e",
   "metadata": {},
   "outputs": [
    {
     "data": {
      "text/html": [
       "<div>\n",
       "<style scoped>\n",
       "    .dataframe tbody tr th:only-of-type {\n",
       "        vertical-align: middle;\n",
       "    }\n",
       "\n",
       "    .dataframe tbody tr th {\n",
       "        vertical-align: top;\n",
       "    }\n",
       "\n",
       "    .dataframe thead th {\n",
       "        text-align: right;\n",
       "    }\n",
       "</style>\n",
       "<table border=\"1\" class=\"dataframe\">\n",
       "  <thead>\n",
       "    <tr style=\"text-align: right;\">\n",
       "      <th></th>\n",
       "      <th>job_segment</th>\n",
       "      <th>skills</th>\n",
       "      <th>predicted_skills</th>\n",
       "    </tr>\n",
       "  </thead>\n",
       "  <tbody>\n",
       "    <tr>\n",
       "      <th>793</th>\n",
       "      <td>Knowledge of End-End Test Automation usingTest...</td>\n",
       "      <td>[React.js, React, CSS, JavaScript]</td>\n",
       "      <td>[React.js, React.js]</td>\n",
       "    </tr>\n",
       "    <tr>\n",
       "      <th>579</th>\n",
       "      <td>Our cloud-based platform incorporates advanced...</td>\n",
       "      <td>[AR, Augmented Reality, React, HCI]</td>\n",
       "      <td>[Artificial Intelligence, Artificial Intellige...</td>\n",
       "    </tr>\n",
       "    <tr>\n",
       "      <th>4059</th>\n",
       "      <td>The Cloud Engineer will contribute to the desi...</td>\n",
       "      <td>[public cloud, Cloud Engineer, Cloud, Cloud Se...</td>\n",
       "      <td>[AWS]</td>\n",
       "    </tr>\n",
       "    <tr>\n",
       "      <th>1970</th>\n",
       "      <td>', \"And as we work today to drive better care ...</td>\n",
       "      <td>[machine learning, ResMed]</td>\n",
       "      <td>[MatrixCare]</td>\n",
       "    </tr>\n",
       "    <tr>\n",
       "      <th>885</th>\n",
       "      <td>In This Role, You’llSupport Sales team to asse...</td>\n",
       "      <td>[Engineering]</td>\n",
       "      <td>[Roboflow]</td>\n",
       "    </tr>\n",
       "  </tbody>\n",
       "</table>\n",
       "</div>"
      ],
      "text/plain": [
       "                                            job_segment  \\\n",
       "793   Knowledge of End-End Test Automation usingTest...   \n",
       "579   Our cloud-based platform incorporates advanced...   \n",
       "4059  The Cloud Engineer will contribute to the desi...   \n",
       "1970  ', \"And as we work today to drive better care ...   \n",
       "885   In This Role, You’llSupport Sales team to asse...   \n",
       "\n",
       "                                                 skills  \\\n",
       "793                  [React.js, React, CSS, JavaScript]   \n",
       "579                 [AR, Augmented Reality, React, HCI]   \n",
       "4059  [public cloud, Cloud Engineer, Cloud, Cloud Se...   \n",
       "1970                         [machine learning, ResMed]   \n",
       "885                                       [Engineering]   \n",
       "\n",
       "                                       predicted_skills  \n",
       "793                                [React.js, React.js]  \n",
       "579   [Artificial Intelligence, Artificial Intellige...  \n",
       "4059                                              [AWS]  \n",
       "1970                                       [MatrixCare]  \n",
       "885                                          [Roboflow]  "
      ]
     },
     "execution_count": 157,
     "metadata": {},
     "output_type": "execute_result"
    }
   ],
   "source": [
    "data_pred1.head()"
   ]
  },
  {
   "cell_type": "code",
   "execution_count": 158,
   "id": "e2c0d9b7",
   "metadata": {},
   "outputs": [],
   "source": [
    "from sklearn.metrics import precision_recall_fscore_support\n",
    "\n",
    "# Convert the lists in the 'skills' column into sets\n",
    "data_pred1['skills'] = data_pred1['skills'].apply(lambda x: set(x) if isinstance(x, list) else x)\n",
    "\n",
    "# Convert the lists in the 'predicted_skills' column into sets\n",
    "data_pred1['predicted_skills'] = data_pred1['predicted_skills'].apply(lambda x: set(x) if isinstance(x, list) else x)\n",
    "\n",
    "\n"
   ]
  },
  {
   "cell_type": "code",
   "execution_count": 159,
   "id": "ca795368",
   "metadata": {},
   "outputs": [
    {
     "data": {
      "text/html": [
       "<div>\n",
       "<style scoped>\n",
       "    .dataframe tbody tr th:only-of-type {\n",
       "        vertical-align: middle;\n",
       "    }\n",
       "\n",
       "    .dataframe tbody tr th {\n",
       "        vertical-align: top;\n",
       "    }\n",
       "\n",
       "    .dataframe thead th {\n",
       "        text-align: right;\n",
       "    }\n",
       "</style>\n",
       "<table border=\"1\" class=\"dataframe\">\n",
       "  <thead>\n",
       "    <tr style=\"text-align: right;\">\n",
       "      <th></th>\n",
       "      <th>job_segment</th>\n",
       "      <th>skills</th>\n",
       "      <th>predicted_skills</th>\n",
       "    </tr>\n",
       "  </thead>\n",
       "  <tbody>\n",
       "    <tr>\n",
       "      <th>793</th>\n",
       "      <td>Knowledge of End-End Test Automation usingTest...</td>\n",
       "      <td>{CSS, React.js, JavaScript, React}</td>\n",
       "      <td>{React.js}</td>\n",
       "    </tr>\n",
       "    <tr>\n",
       "      <th>579</th>\n",
       "      <td>Our cloud-based platform incorporates advanced...</td>\n",
       "      <td>{AR, HCI, Augmented Reality, React}</td>\n",
       "      <td>{Artificial Intelligence, Artificial Intel}</td>\n",
       "    </tr>\n",
       "    <tr>\n",
       "      <th>4059</th>\n",
       "      <td>The Cloud Engineer will contribute to the desi...</td>\n",
       "      <td>{Python, Cloud, Cloud Engineer, Go, Cloud Secu...</td>\n",
       "      <td>{AWS}</td>\n",
       "    </tr>\n",
       "    <tr>\n",
       "      <th>1970</th>\n",
       "      <td>', \"And as we work today to drive better care ...</td>\n",
       "      <td>{machine learning, ResMed}</td>\n",
       "      <td>{MatrixCare}</td>\n",
       "    </tr>\n",
       "    <tr>\n",
       "      <th>885</th>\n",
       "      <td>In This Role, You’llSupport Sales team to asse...</td>\n",
       "      <td>{Engineering}</td>\n",
       "      <td>{Roboflow}</td>\n",
       "    </tr>\n",
       "  </tbody>\n",
       "</table>\n",
       "</div>"
      ],
      "text/plain": [
       "                                            job_segment  \\\n",
       "793   Knowledge of End-End Test Automation usingTest...   \n",
       "579   Our cloud-based platform incorporates advanced...   \n",
       "4059  The Cloud Engineer will contribute to the desi...   \n",
       "1970  ', \"And as we work today to drive better care ...   \n",
       "885   In This Role, You’llSupport Sales team to asse...   \n",
       "\n",
       "                                                 skills  \\\n",
       "793                  {CSS, React.js, JavaScript, React}   \n",
       "579                 {AR, HCI, Augmented Reality, React}   \n",
       "4059  {Python, Cloud, Cloud Engineer, Go, Cloud Secu...   \n",
       "1970                         {machine learning, ResMed}   \n",
       "885                                       {Engineering}   \n",
       "\n",
       "                                 predicted_skills  \n",
       "793                                    {React.js}  \n",
       "579   {Artificial Intelligence, Artificial Intel}  \n",
       "4059                                        {AWS}  \n",
       "1970                                 {MatrixCare}  \n",
       "885                                    {Roboflow}  "
      ]
     },
     "execution_count": 159,
     "metadata": {},
     "output_type": "execute_result"
    }
   ],
   "source": [
    "data_pred1.head()"
   ]
  },
  {
   "cell_type": "code",
   "execution_count": 160,
   "id": "01c6b398",
   "metadata": {},
   "outputs": [],
   "source": [
    "from sklearn.metrics import precision_recall_fscore_support\n",
    "\n",
    "# Convert the 'filtered_skills' and 'predicted_skills' columns to lists\n",
    "y_true = data_pred1['skills'].tolist()\n",
    "y_pred = data_pred1['predicted_skills'].tolist()\n",
    "\n",
    "\n"
   ]
  },
  {
   "cell_type": "markdown",
   "id": "37bb7917",
   "metadata": {},
   "source": [
    "# Evaluate"
   ]
  },
  {
   "cell_type": "code",
   "execution_count": 1,
   "id": "7ba2b744",
   "metadata": {},
   "outputs": [],
   "source": [
    "#y_pred[2:5]"
   ]
  },
  {
   "cell_type": "code",
   "execution_count": 2,
   "id": "0f1c85b5",
   "metadata": {},
   "outputs": [],
   "source": [
    "#y_true[2:5]"
   ]
  },
  {
   "cell_type": "code",
   "execution_count": 163,
   "id": "bb8e779b",
   "metadata": {},
   "outputs": [
    {
     "data": {
      "text/plain": [
       "(0.39166666666666666, 0.29436325678496866, 0.33611442193087004)"
      ]
     },
     "execution_count": 163,
     "metadata": {},
     "output_type": "execute_result"
    }
   ],
   "source": [
    "def evaluate(gold, pred):\n",
    "    gold_count = 0\n",
    "    pred_count = 0\n",
    "    TP = 0\n",
    "    for i,j in zip(gold, pred):\n",
    "        TP += len(i.intersection(j))\n",
    "        gold_count += len(i)\n",
    "        pred_count += len(j)\n",
    "        \n",
    "    prec = TP / pred_count\n",
    "    recall = TP / gold_count\n",
    "    f1 = 2 * prec * recall / (prec + recall)\n",
    "    return prec, recall, f1\n",
    "\n",
    "evaluate(y_true, y_pred)\n"
   ]
  }
 ],
 "metadata": {
  "accelerator": "GPU",
  "colab": {
   "provenance": []
  },
  "gpuClass": "standard",
  "kernelspec": {
   "display_name": "Python 3 (ipykernel)",
   "language": "python",
   "name": "python3"
  },
  "language_info": {
   "codemirror_mode": {
    "name": "ipython",
    "version": 3
   },
   "file_extension": ".py",
   "mimetype": "text/x-python",
   "name": "python",
   "nbconvert_exporter": "python",
   "pygments_lexer": "ipython3",
   "version": "3.9.15"
  },
  "widgets": {
   "application/vnd.jupyter.widget-state+json": {
    "070360962aa7421eb22747de2b1e1d78": {
     "model_module": "@jupyter-widgets/base",
     "model_module_version": "1.2.0",
     "model_name": "LayoutModel",
     "state": {
      "_model_module": "@jupyter-widgets/base",
      "_model_module_version": "1.2.0",
      "_model_name": "LayoutModel",
      "_view_count": null,
      "_view_module": "@jupyter-widgets/base",
      "_view_module_version": "1.2.0",
      "_view_name": "LayoutView",
      "align_content": null,
      "align_items": null,
      "align_self": null,
      "border": null,
      "bottom": null,
      "display": null,
      "flex": null,
      "flex_flow": null,
      "grid_area": null,
      "grid_auto_columns": null,
      "grid_auto_flow": null,
      "grid_auto_rows": null,
      "grid_column": null,
      "grid_gap": null,
      "grid_row": null,
      "grid_template_areas": null,
      "grid_template_columns": null,
      "grid_template_rows": null,
      "height": null,
      "justify_content": null,
      "justify_items": null,
      "left": null,
      "margin": null,
      "max_height": null,
      "max_width": null,
      "min_height": null,
      "min_width": null,
      "object_fit": null,
      "object_position": null,
      "order": null,
      "overflow": null,
      "overflow_x": null,
      "overflow_y": null,
      "padding": null,
      "right": null,
      "top": null,
      "visibility": "hidden",
      "width": null
     }
    },
    "0a9d29d4bf6d42878b1b1b4b37fa2fad": {
     "model_module": "@jupyter-widgets/base",
     "model_module_version": "1.2.0",
     "model_name": "LayoutModel",
     "state": {
      "_model_module": "@jupyter-widgets/base",
      "_model_module_version": "1.2.0",
      "_model_name": "LayoutModel",
      "_view_count": null,
      "_view_module": "@jupyter-widgets/base",
      "_view_module_version": "1.2.0",
      "_view_name": "LayoutView",
      "align_content": null,
      "align_items": null,
      "align_self": null,
      "border": null,
      "bottom": null,
      "display": null,
      "flex": null,
      "flex_flow": null,
      "grid_area": null,
      "grid_auto_columns": null,
      "grid_auto_flow": null,
      "grid_auto_rows": null,
      "grid_column": null,
      "grid_gap": null,
      "grid_row": null,
      "grid_template_areas": null,
      "grid_template_columns": null,
      "grid_template_rows": null,
      "height": null,
      "justify_content": null,
      "justify_items": null,
      "left": null,
      "margin": null,
      "max_height": null,
      "max_width": null,
      "min_height": null,
      "min_width": null,
      "object_fit": null,
      "object_position": null,
      "order": null,
      "overflow": null,
      "overflow_x": null,
      "overflow_y": null,
      "padding": null,
      "right": null,
      "top": null,
      "visibility": null,
      "width": null
     }
    },
    "0aae33288d224967b83b28e97595792c": {
     "model_module": "@jupyter-widgets/controls",
     "model_module_version": "1.5.0",
     "model_name": "HBoxModel",
     "state": {
      "_dom_classes": [],
      "_model_module": "@jupyter-widgets/controls",
      "_model_module_version": "1.5.0",
      "_model_name": "HBoxModel",
      "_view_count": null,
      "_view_module": "@jupyter-widgets/controls",
      "_view_module_version": "1.5.0",
      "_view_name": "HBoxView",
      "box_style": "",
      "children": [
       "IPY_MODEL_177ba49b96b8425b9751c97e8dd6855e",
       "IPY_MODEL_c8414524318547b3a152bcf8053c9ba3",
       "IPY_MODEL_439f04388f4f480eb8f1fcaa6c5af020"
      ],
      "layout": "IPY_MODEL_14f3cd75068742699014d0d7c9173d2b"
     }
    },
    "14f3cd75068742699014d0d7c9173d2b": {
     "model_module": "@jupyter-widgets/base",
     "model_module_version": "1.2.0",
     "model_name": "LayoutModel",
     "state": {
      "_model_module": "@jupyter-widgets/base",
      "_model_module_version": "1.2.0",
      "_model_name": "LayoutModel",
      "_view_count": null,
      "_view_module": "@jupyter-widgets/base",
      "_view_module_version": "1.2.0",
      "_view_name": "LayoutView",
      "align_content": null,
      "align_items": null,
      "align_self": null,
      "border": null,
      "bottom": null,
      "display": null,
      "flex": null,
      "flex_flow": null,
      "grid_area": null,
      "grid_auto_columns": null,
      "grid_auto_flow": null,
      "grid_auto_rows": null,
      "grid_column": null,
      "grid_gap": null,
      "grid_row": null,
      "grid_template_areas": null,
      "grid_template_columns": null,
      "grid_template_rows": null,
      "height": null,
      "justify_content": null,
      "justify_items": null,
      "left": null,
      "margin": null,
      "max_height": null,
      "max_width": null,
      "min_height": null,
      "min_width": null,
      "object_fit": null,
      "object_position": null,
      "order": null,
      "overflow": null,
      "overflow_x": null,
      "overflow_y": null,
      "padding": null,
      "right": null,
      "top": null,
      "visibility": "hidden",
      "width": null
     }
    },
    "14f567fc8eae427a9386b2c9961d88db": {
     "model_module": "@jupyter-widgets/base",
     "model_module_version": "1.2.0",
     "model_name": "LayoutModel",
     "state": {
      "_model_module": "@jupyter-widgets/base",
      "_model_module_version": "1.2.0",
      "_model_name": "LayoutModel",
      "_view_count": null,
      "_view_module": "@jupyter-widgets/base",
      "_view_module_version": "1.2.0",
      "_view_name": "LayoutView",
      "align_content": null,
      "align_items": null,
      "align_self": null,
      "border": null,
      "bottom": null,
      "display": null,
      "flex": null,
      "flex_flow": null,
      "grid_area": null,
      "grid_auto_columns": null,
      "grid_auto_flow": null,
      "grid_auto_rows": null,
      "grid_column": null,
      "grid_gap": null,
      "grid_row": null,
      "grid_template_areas": null,
      "grid_template_columns": null,
      "grid_template_rows": null,
      "height": null,
      "justify_content": null,
      "justify_items": null,
      "left": null,
      "margin": null,
      "max_height": null,
      "max_width": null,
      "min_height": null,
      "min_width": null,
      "object_fit": null,
      "object_position": null,
      "order": null,
      "overflow": null,
      "overflow_x": null,
      "overflow_y": null,
      "padding": null,
      "right": null,
      "top": null,
      "visibility": null,
      "width": null
     }
    },
    "177ba49b96b8425b9751c97e8dd6855e": {
     "model_module": "@jupyter-widgets/controls",
     "model_module_version": "1.5.0",
     "model_name": "HTMLModel",
     "state": {
      "_dom_classes": [],
      "_model_module": "@jupyter-widgets/controls",
      "_model_module_version": "1.5.0",
      "_model_name": "HTMLModel",
      "_view_count": null,
      "_view_module": "@jupyter-widgets/controls",
      "_view_module_version": "1.5.0",
      "_view_name": "HTMLView",
      "description": "",
      "description_tooltip": null,
      "layout": "IPY_MODEL_c6d1cb1fd1aa49f8b16acc2fa2ffbe5e",
      "placeholder": "​",
      "style": "IPY_MODEL_b81ae25e204d48ff989cbbd8df5393b3",
      "value": "Map: 100%"
     }
    },
    "2ad8b6c4c4544a9da47b56d56069df26": {
     "model_module": "@jupyter-widgets/controls",
     "model_module_version": "1.5.0",
     "model_name": "ProgressStyleModel",
     "state": {
      "_model_module": "@jupyter-widgets/controls",
      "_model_module_version": "1.5.0",
      "_model_name": "ProgressStyleModel",
      "_view_count": null,
      "_view_module": "@jupyter-widgets/base",
      "_view_module_version": "1.2.0",
      "_view_name": "StyleView",
      "bar_color": null,
      "description_width": ""
     }
    },
    "2d66feb6b7d7495cbe7aea44c1f946a1": {
     "model_module": "@jupyter-widgets/base",
     "model_module_version": "1.2.0",
     "model_name": "LayoutModel",
     "state": {
      "_model_module": "@jupyter-widgets/base",
      "_model_module_version": "1.2.0",
      "_model_name": "LayoutModel",
      "_view_count": null,
      "_view_module": "@jupyter-widgets/base",
      "_view_module_version": "1.2.0",
      "_view_name": "LayoutView",
      "align_content": null,
      "align_items": null,
      "align_self": null,
      "border": null,
      "bottom": null,
      "display": null,
      "flex": null,
      "flex_flow": null,
      "grid_area": null,
      "grid_auto_columns": null,
      "grid_auto_flow": null,
      "grid_auto_rows": null,
      "grid_column": null,
      "grid_gap": null,
      "grid_row": null,
      "grid_template_areas": null,
      "grid_template_columns": null,
      "grid_template_rows": null,
      "height": null,
      "justify_content": null,
      "justify_items": null,
      "left": null,
      "margin": null,
      "max_height": null,
      "max_width": null,
      "min_height": null,
      "min_width": null,
      "object_fit": null,
      "object_position": null,
      "order": null,
      "overflow": null,
      "overflow_x": null,
      "overflow_y": null,
      "padding": null,
      "right": null,
      "top": null,
      "visibility": null,
      "width": null
     }
    },
    "41af7913265a4467a0c9c9e0fdd827e1": {
     "model_module": "@jupyter-widgets/controls",
     "model_module_version": "1.5.0",
     "model_name": "ProgressStyleModel",
     "state": {
      "_model_module": "@jupyter-widgets/controls",
      "_model_module_version": "1.5.0",
      "_model_name": "ProgressStyleModel",
      "_view_count": null,
      "_view_module": "@jupyter-widgets/base",
      "_view_module_version": "1.2.0",
      "_view_name": "StyleView",
      "bar_color": null,
      "description_width": ""
     }
    },
    "439f04388f4f480eb8f1fcaa6c5af020": {
     "model_module": "@jupyter-widgets/controls",
     "model_module_version": "1.5.0",
     "model_name": "HTMLModel",
     "state": {
      "_dom_classes": [],
      "_model_module": "@jupyter-widgets/controls",
      "_model_module_version": "1.5.0",
      "_model_name": "HTMLModel",
      "_view_count": null,
      "_view_module": "@jupyter-widgets/controls",
      "_view_module_version": "1.5.0",
      "_view_name": "HTMLView",
      "description": "",
      "description_tooltip": null,
      "layout": "IPY_MODEL_14f567fc8eae427a9386b2c9961d88db",
      "placeholder": "​",
      "style": "IPY_MODEL_c07eb665211b4f85b29c5092f6865f91",
      "value": " 2994/2994 [00:01&lt;00:00, 2021.69 examples/s]"
     }
    },
    "46f8a7d98fa8429ca86f6eb7b5849409": {
     "model_module": "@jupyter-widgets/controls",
     "model_module_version": "1.5.0",
     "model_name": "HBoxModel",
     "state": {
      "_dom_classes": [],
      "_model_module": "@jupyter-widgets/controls",
      "_model_module_version": "1.5.0",
      "_model_name": "HBoxModel",
      "_view_count": null,
      "_view_module": "@jupyter-widgets/controls",
      "_view_module_version": "1.5.0",
      "_view_name": "HBoxView",
      "box_style": "",
      "children": [
       "IPY_MODEL_d499489a583a4493ab66241e1d7f8ba1",
       "IPY_MODEL_48af00d056554c44a025789e33349e28",
       "IPY_MODEL_5cc4c63855274af38c3686d67302f3fa"
      ],
      "layout": "IPY_MODEL_070360962aa7421eb22747de2b1e1d78"
     }
    },
    "48af00d056554c44a025789e33349e28": {
     "model_module": "@jupyter-widgets/controls",
     "model_module_version": "1.5.0",
     "model_name": "FloatProgressModel",
     "state": {
      "_dom_classes": [],
      "_model_module": "@jupyter-widgets/controls",
      "_model_module_version": "1.5.0",
      "_model_name": "FloatProgressModel",
      "_view_count": null,
      "_view_module": "@jupyter-widgets/controls",
      "_view_module_version": "1.5.0",
      "_view_name": "ProgressView",
      "bar_style": "",
      "description": "",
      "description_tooltip": null,
      "layout": "IPY_MODEL_93587809ed16456696274740fd4f6719",
      "max": 1284,
      "min": 0,
      "orientation": "horizontal",
      "style": "IPY_MODEL_2ad8b6c4c4544a9da47b56d56069df26",
      "value": 1284
     }
    },
    "4d74142a4e5646e78de5eba7dab7bd77": {
     "model_module": "@jupyter-widgets/controls",
     "model_module_version": "1.5.0",
     "model_name": "DescriptionStyleModel",
     "state": {
      "_model_module": "@jupyter-widgets/controls",
      "_model_module_version": "1.5.0",
      "_model_name": "DescriptionStyleModel",
      "_view_count": null,
      "_view_module": "@jupyter-widgets/base",
      "_view_module_version": "1.2.0",
      "_view_name": "StyleView",
      "description_width": ""
     }
    },
    "5cc4c63855274af38c3686d67302f3fa": {
     "model_module": "@jupyter-widgets/controls",
     "model_module_version": "1.5.0",
     "model_name": "HTMLModel",
     "state": {
      "_dom_classes": [],
      "_model_module": "@jupyter-widgets/controls",
      "_model_module_version": "1.5.0",
      "_model_name": "HTMLModel",
      "_view_count": null,
      "_view_module": "@jupyter-widgets/controls",
      "_view_module_version": "1.5.0",
      "_view_name": "HTMLView",
      "description": "",
      "description_tooltip": null,
      "layout": "IPY_MODEL_df5d589c346d40ab8a332933b2b56a44",
      "placeholder": "​",
      "style": "IPY_MODEL_efdb221c2e9446a3ad7c7b660349856d",
      "value": " 1284/1284 [00:00&lt;00:00, 1854.67 examples/s]"
     }
    },
    "93587809ed16456696274740fd4f6719": {
     "model_module": "@jupyter-widgets/base",
     "model_module_version": "1.2.0",
     "model_name": "LayoutModel",
     "state": {
      "_model_module": "@jupyter-widgets/base",
      "_model_module_version": "1.2.0",
      "_model_name": "LayoutModel",
      "_view_count": null,
      "_view_module": "@jupyter-widgets/base",
      "_view_module_version": "1.2.0",
      "_view_name": "LayoutView",
      "align_content": null,
      "align_items": null,
      "align_self": null,
      "border": null,
      "bottom": null,
      "display": null,
      "flex": null,
      "flex_flow": null,
      "grid_area": null,
      "grid_auto_columns": null,
      "grid_auto_flow": null,
      "grid_auto_rows": null,
      "grid_column": null,
      "grid_gap": null,
      "grid_row": null,
      "grid_template_areas": null,
      "grid_template_columns": null,
      "grid_template_rows": null,
      "height": null,
      "justify_content": null,
      "justify_items": null,
      "left": null,
      "margin": null,
      "max_height": null,
      "max_width": null,
      "min_height": null,
      "min_width": null,
      "object_fit": null,
      "object_position": null,
      "order": null,
      "overflow": null,
      "overflow_x": null,
      "overflow_y": null,
      "padding": null,
      "right": null,
      "top": null,
      "visibility": null,
      "width": null
     }
    },
    "b81ae25e204d48ff989cbbd8df5393b3": {
     "model_module": "@jupyter-widgets/controls",
     "model_module_version": "1.5.0",
     "model_name": "DescriptionStyleModel",
     "state": {
      "_model_module": "@jupyter-widgets/controls",
      "_model_module_version": "1.5.0",
      "_model_name": "DescriptionStyleModel",
      "_view_count": null,
      "_view_module": "@jupyter-widgets/base",
      "_view_module_version": "1.2.0",
      "_view_name": "StyleView",
      "description_width": ""
     }
    },
    "c07eb665211b4f85b29c5092f6865f91": {
     "model_module": "@jupyter-widgets/controls",
     "model_module_version": "1.5.0",
     "model_name": "DescriptionStyleModel",
     "state": {
      "_model_module": "@jupyter-widgets/controls",
      "_model_module_version": "1.5.0",
      "_model_name": "DescriptionStyleModel",
      "_view_count": null,
      "_view_module": "@jupyter-widgets/base",
      "_view_module_version": "1.2.0",
      "_view_name": "StyleView",
      "description_width": ""
     }
    },
    "c6d1cb1fd1aa49f8b16acc2fa2ffbe5e": {
     "model_module": "@jupyter-widgets/base",
     "model_module_version": "1.2.0",
     "model_name": "LayoutModel",
     "state": {
      "_model_module": "@jupyter-widgets/base",
      "_model_module_version": "1.2.0",
      "_model_name": "LayoutModel",
      "_view_count": null,
      "_view_module": "@jupyter-widgets/base",
      "_view_module_version": "1.2.0",
      "_view_name": "LayoutView",
      "align_content": null,
      "align_items": null,
      "align_self": null,
      "border": null,
      "bottom": null,
      "display": null,
      "flex": null,
      "flex_flow": null,
      "grid_area": null,
      "grid_auto_columns": null,
      "grid_auto_flow": null,
      "grid_auto_rows": null,
      "grid_column": null,
      "grid_gap": null,
      "grid_row": null,
      "grid_template_areas": null,
      "grid_template_columns": null,
      "grid_template_rows": null,
      "height": null,
      "justify_content": null,
      "justify_items": null,
      "left": null,
      "margin": null,
      "max_height": null,
      "max_width": null,
      "min_height": null,
      "min_width": null,
      "object_fit": null,
      "object_position": null,
      "order": null,
      "overflow": null,
      "overflow_x": null,
      "overflow_y": null,
      "padding": null,
      "right": null,
      "top": null,
      "visibility": null,
      "width": null
     }
    },
    "c8414524318547b3a152bcf8053c9ba3": {
     "model_module": "@jupyter-widgets/controls",
     "model_module_version": "1.5.0",
     "model_name": "FloatProgressModel",
     "state": {
      "_dom_classes": [],
      "_model_module": "@jupyter-widgets/controls",
      "_model_module_version": "1.5.0",
      "_model_name": "FloatProgressModel",
      "_view_count": null,
      "_view_module": "@jupyter-widgets/controls",
      "_view_module_version": "1.5.0",
      "_view_name": "ProgressView",
      "bar_style": "",
      "description": "",
      "description_tooltip": null,
      "layout": "IPY_MODEL_2d66feb6b7d7495cbe7aea44c1f946a1",
      "max": 2994,
      "min": 0,
      "orientation": "horizontal",
      "style": "IPY_MODEL_41af7913265a4467a0c9c9e0fdd827e1",
      "value": 2994
     }
    },
    "d499489a583a4493ab66241e1d7f8ba1": {
     "model_module": "@jupyter-widgets/controls",
     "model_module_version": "1.5.0",
     "model_name": "HTMLModel",
     "state": {
      "_dom_classes": [],
      "_model_module": "@jupyter-widgets/controls",
      "_model_module_version": "1.5.0",
      "_model_name": "HTMLModel",
      "_view_count": null,
      "_view_module": "@jupyter-widgets/controls",
      "_view_module_version": "1.5.0",
      "_view_name": "HTMLView",
      "description": "",
      "description_tooltip": null,
      "layout": "IPY_MODEL_0a9d29d4bf6d42878b1b1b4b37fa2fad",
      "placeholder": "​",
      "style": "IPY_MODEL_4d74142a4e5646e78de5eba7dab7bd77",
      "value": "Map: 100%"
     }
    },
    "df5d589c346d40ab8a332933b2b56a44": {
     "model_module": "@jupyter-widgets/base",
     "model_module_version": "1.2.0",
     "model_name": "LayoutModel",
     "state": {
      "_model_module": "@jupyter-widgets/base",
      "_model_module_version": "1.2.0",
      "_model_name": "LayoutModel",
      "_view_count": null,
      "_view_module": "@jupyter-widgets/base",
      "_view_module_version": "1.2.0",
      "_view_name": "LayoutView",
      "align_content": null,
      "align_items": null,
      "align_self": null,
      "border": null,
      "bottom": null,
      "display": null,
      "flex": null,
      "flex_flow": null,
      "grid_area": null,
      "grid_auto_columns": null,
      "grid_auto_flow": null,
      "grid_auto_rows": null,
      "grid_column": null,
      "grid_gap": null,
      "grid_row": null,
      "grid_template_areas": null,
      "grid_template_columns": null,
      "grid_template_rows": null,
      "height": null,
      "justify_content": null,
      "justify_items": null,
      "left": null,
      "margin": null,
      "max_height": null,
      "max_width": null,
      "min_height": null,
      "min_width": null,
      "object_fit": null,
      "object_position": null,
      "order": null,
      "overflow": null,
      "overflow_x": null,
      "overflow_y": null,
      "padding": null,
      "right": null,
      "top": null,
      "visibility": null,
      "width": null
     }
    },
    "efdb221c2e9446a3ad7c7b660349856d": {
     "model_module": "@jupyter-widgets/controls",
     "model_module_version": "1.5.0",
     "model_name": "DescriptionStyleModel",
     "state": {
      "_model_module": "@jupyter-widgets/controls",
      "_model_module_version": "1.5.0",
      "_model_name": "DescriptionStyleModel",
      "_view_count": null,
      "_view_module": "@jupyter-widgets/base",
      "_view_module_version": "1.2.0",
      "_view_name": "StyleView",
      "description_width": ""
     }
    }
   }
  }
 },
 "nbformat": 4,
 "nbformat_minor": 5
}
