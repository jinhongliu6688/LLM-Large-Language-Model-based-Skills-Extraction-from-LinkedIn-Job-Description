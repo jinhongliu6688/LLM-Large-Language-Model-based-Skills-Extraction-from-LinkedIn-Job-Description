{
 "cells": [
  {
   "cell_type": "code",
   "execution_count": 1,
   "metadata": {
    "colab": {
     "base_uri": "https://localhost:8080/"
    },
    "id": "j8nQP66jQ0fd",
    "outputId": "933baa03-f78e-430f-92b2-34f6c52dd475"
   },
   "outputs": [
    {
     "name": "stdout",
     "output_type": "stream",
     "text": [
      "Looking in indexes: https://pypi.org/simple, https://us-python.pkg.dev/colab-wheels/public/simple/\n",
      "Requirement already satisfied: transformers in /usr/local/lib/python3.10/dist-packages (4.28.1)\n",
      "Requirement already satisfied: datasets in /usr/local/lib/python3.10/dist-packages (2.12.0)\n",
      "Requirement already satisfied: tokenizers!=0.11.3,<0.14,>=0.11.1 in /usr/local/lib/python3.10/dist-packages (from transformers) (0.13.3)\n",
      "Requirement already satisfied: requests in /usr/local/lib/python3.10/dist-packages (from transformers) (2.27.1)\n",
      "Requirement already satisfied: filelock in /usr/local/lib/python3.10/dist-packages (from transformers) (3.12.0)\n",
      "Requirement already satisfied: regex!=2019.12.17 in /usr/local/lib/python3.10/dist-packages (from transformers) (2022.10.31)\n",
      "Requirement already satisfied: tqdm>=4.27 in /usr/local/lib/python3.10/dist-packages (from transformers) (4.65.0)\n",
      "Requirement already satisfied: packaging>=20.0 in /usr/local/lib/python3.10/dist-packages (from transformers) (23.1)\n",
      "Requirement already satisfied: numpy>=1.17 in /usr/local/lib/python3.10/dist-packages (from transformers) (1.22.4)\n",
      "Requirement already satisfied: pyyaml>=5.1 in /usr/local/lib/python3.10/dist-packages (from transformers) (6.0)\n",
      "Requirement already satisfied: huggingface-hub<1.0,>=0.11.0 in /usr/local/lib/python3.10/dist-packages (from transformers) (0.14.1)\n",
      "Requirement already satisfied: fsspec[http]>=2021.11.1 in /usr/local/lib/python3.10/dist-packages (from datasets) (2023.4.0)\n",
      "Requirement already satisfied: pandas in /usr/local/lib/python3.10/dist-packages (from datasets) (1.5.3)\n",
      "Requirement already satisfied: multiprocess in /usr/local/lib/python3.10/dist-packages (from datasets) (0.70.14)\n",
      "Requirement already satisfied: aiohttp in /usr/local/lib/python3.10/dist-packages (from datasets) (3.8.4)\n",
      "Requirement already satisfied: xxhash in /usr/local/lib/python3.10/dist-packages (from datasets) (3.2.0)\n",
      "Requirement already satisfied: dill<0.3.7,>=0.3.0 in /usr/local/lib/python3.10/dist-packages (from datasets) (0.3.6)\n",
      "Requirement already satisfied: pyarrow>=8.0.0 in /usr/local/lib/python3.10/dist-packages (from datasets) (9.0.0)\n",
      "Requirement already satisfied: responses<0.19 in /usr/local/lib/python3.10/dist-packages (from datasets) (0.18.0)\n",
      "Requirement already satisfied: charset-normalizer<4.0,>=2.0 in /usr/local/lib/python3.10/dist-packages (from aiohttp->datasets) (2.0.12)\n",
      "Requirement already satisfied: multidict<7.0,>=4.5 in /usr/local/lib/python3.10/dist-packages (from aiohttp->datasets) (6.0.4)\n",
      "Requirement already satisfied: async-timeout<5.0,>=4.0.0a3 in /usr/local/lib/python3.10/dist-packages (from aiohttp->datasets) (4.0.2)\n",
      "Requirement already satisfied: yarl<2.0,>=1.0 in /usr/local/lib/python3.10/dist-packages (from aiohttp->datasets) (1.9.2)\n",
      "Requirement already satisfied: aiosignal>=1.1.2 in /usr/local/lib/python3.10/dist-packages (from aiohttp->datasets) (1.3.1)\n",
      "Requirement already satisfied: frozenlist>=1.1.1 in /usr/local/lib/python3.10/dist-packages (from aiohttp->datasets) (1.3.3)\n",
      "Requirement already satisfied: attrs>=17.3.0 in /usr/local/lib/python3.10/dist-packages (from aiohttp->datasets) (23.1.0)\n",
      "Requirement already satisfied: typing-extensions>=3.7.4.3 in /usr/local/lib/python3.10/dist-packages (from huggingface-hub<1.0,>=0.11.0->transformers) (4.5.0)\n",
      "Requirement already satisfied: idna<4,>=2.5 in /usr/local/lib/python3.10/dist-packages (from requests->transformers) (3.4)\n",
      "Requirement already satisfied: certifi>=2017.4.17 in /usr/local/lib/python3.10/dist-packages (from requests->transformers) (2022.12.7)\n",
      "Requirement already satisfied: urllib3<1.27,>=1.21.1 in /usr/local/lib/python3.10/dist-packages (from requests->transformers) (1.26.15)\n",
      "Requirement already satisfied: pytz>=2020.1 in /usr/local/lib/python3.10/dist-packages (from pandas->datasets) (2022.7.1)\n",
      "Requirement already satisfied: python-dateutil>=2.8.1 in /usr/local/lib/python3.10/dist-packages (from pandas->datasets) (2.8.2)\n",
      "Requirement already satisfied: six>=1.5 in /usr/local/lib/python3.10/dist-packages (from python-dateutil>=2.8.1->pandas->datasets) (1.16.0)\n"
     ]
    }
   ],
   "source": [
    "# Transformers installation\n",
    "! pip install transformers datasets\n",
    "# To install from source instead of the last release, comment the command above and uncomment the following one.\n",
    "# ! pip install git+https://github.com/huggingface/transformers.git"
   ]
  },
  {
   "cell_type": "markdown",
   "metadata": {
    "id": "MsDyuha1Q0fe"
   },
   "source": [
    "# Token classification"
   ]
  },
  {
   "cell_type": "markdown",
   "metadata": {
    "id": "hpgGk5a7Q0ff"
   },
   "source": [
    "Token classification assigns a label to individual tokens in a sentence. One of the most common token classification tasks is Named Entity Recognition (NER). NER attempts to find a label for each entity in a sentence, such as a person, location, or organization.\n",
    "\n",
    "This guide will show you how to:\n",
    "\n",
    "1. Finetune [DistilBERT](https://huggingface.co/distilbert-base-uncased) on the [WNUT 17](https://huggingface.co/datasets/wnut_17) dataset to detect new entities.\n",
    "2. Use your finetuned model for inference.\n",
    "\n",
    "<Tip>\n",
    "The task illustrated in this tutorial is supported by the following model architectures:\n",
    "\n",
    "<!--This tip is automatically generated by `make fix-copies`, do not fill manually!-->\n",
    "\n",
    "[ALBERT](https://huggingface.co/docs/transformers/main/en/tasks/../model_doc/albert), [BERT](https://huggingface.co/docs/transformers/main/en/tasks/../model_doc/bert), [BigBird](https://huggingface.co/docs/transformers/main/en/tasks/../model_doc/big_bird), [BioGpt](https://huggingface.co/docs/transformers/main/en/tasks/../model_doc/biogpt), [BLOOM](https://huggingface.co/docs/transformers/main/en/tasks/../model_doc/bloom), [CamemBERT](https://huggingface.co/docs/transformers/main/en/tasks/../model_doc/camembert), [CANINE](https://huggingface.co/docs/transformers/main/en/tasks/../model_doc/canine), [ConvBERT](https://huggingface.co/docs/transformers/main/en/tasks/../model_doc/convbert), [Data2VecText](https://huggingface.co/docs/transformers/main/en/tasks/../model_doc/data2vec-text), [DeBERTa](https://huggingface.co/docs/transformers/main/en/tasks/../model_doc/deberta), [DeBERTa-v2](https://huggingface.co/docs/transformers/main/en/tasks/../model_doc/deberta-v2), [DistilBERT](https://huggingface.co/docs/transformers/main/en/tasks/../model_doc/distilbert), [ELECTRA](https://huggingface.co/docs/transformers/main/en/tasks/../model_doc/electra), [ERNIE](https://huggingface.co/docs/transformers/main/en/tasks/../model_doc/ernie), [ErnieM](https://huggingface.co/docs/transformers/main/en/tasks/../model_doc/ernie_m), [ESM](https://huggingface.co/docs/transformers/main/en/tasks/../model_doc/esm), [FlauBERT](https://huggingface.co/docs/transformers/main/en/tasks/../model_doc/flaubert), [FNet](https://huggingface.co/docs/transformers/main/en/tasks/../model_doc/fnet), [Funnel Transformer](https://huggingface.co/docs/transformers/main/en/tasks/../model_doc/funnel), [GPT-Sw3](https://huggingface.co/docs/transformers/main/en/tasks/../model_doc/gpt-sw3), [OpenAI GPT-2](https://huggingface.co/docs/transformers/main/en/tasks/../model_doc/gpt2), [GPTBigCode](https://huggingface.co/docs/transformers/main/en/tasks/../model_doc/gpt_bigcode), [I-BERT](https://huggingface.co/docs/transformers/main/en/tasks/../model_doc/ibert), [LayoutLM](https://huggingface.co/docs/transformers/main/en/tasks/../model_doc/layoutlm), [LayoutLMv2](https://huggingface.co/docs/transformers/main/en/tasks/../model_doc/layoutlmv2), [LayoutLMv3](https://huggingface.co/docs/transformers/main/en/tasks/../model_doc/layoutlmv3), [LiLT](https://huggingface.co/docs/transformers/main/en/tasks/../model_doc/lilt), [Longformer](https://huggingface.co/docs/transformers/main/en/tasks/../model_doc/longformer), [LUKE](https://huggingface.co/docs/transformers/main/en/tasks/../model_doc/luke), [MarkupLM](https://huggingface.co/docs/transformers/main/en/tasks/../model_doc/markuplm), [MEGA](https://huggingface.co/docs/transformers/main/en/tasks/../model_doc/mega), [Megatron-BERT](https://huggingface.co/docs/transformers/main/en/tasks/../model_doc/megatron-bert), [MobileBERT](https://huggingface.co/docs/transformers/main/en/tasks/../model_doc/mobilebert), [MPNet](https://huggingface.co/docs/transformers/main/en/tasks/../model_doc/mpnet), [Nezha](https://huggingface.co/docs/transformers/main/en/tasks/../model_doc/nezha), [Nyströmformer](https://huggingface.co/docs/transformers/main/en/tasks/../model_doc/nystromformer), [QDQBert](https://huggingface.co/docs/transformers/main/en/tasks/../model_doc/qdqbert), [RemBERT](https://huggingface.co/docs/transformers/main/en/tasks/../model_doc/rembert), [RoBERTa](https://huggingface.co/docs/transformers/main/en/tasks/../model_doc/roberta), [RoBERTa-PreLayerNorm](https://huggingface.co/docs/transformers/main/en/tasks/../model_doc/roberta-prelayernorm), [RoCBert](https://huggingface.co/docs/transformers/main/en/tasks/../model_doc/roc_bert), [RoFormer](https://huggingface.co/docs/transformers/main/en/tasks/../model_doc/roformer), [SqueezeBERT](https://huggingface.co/docs/transformers/main/en/tasks/../model_doc/squeezebert), [XLM](https://huggingface.co/docs/transformers/main/en/tasks/../model_doc/xlm), [XLM-RoBERTa](https://huggingface.co/docs/transformers/main/en/tasks/../model_doc/xlm-roberta), [XLM-RoBERTa-XL](https://huggingface.co/docs/transformers/main/en/tasks/../model_doc/xlm-roberta-xl), [XLNet](https://huggingface.co/docs/transformers/main/en/tasks/../model_doc/xlnet), [X-MOD](https://huggingface.co/docs/transformers/main/en/tasks/../model_doc/xmod), [YOSO](https://huggingface.co/docs/transformers/main/en/tasks/../model_doc/yoso)\n",
    "\n",
    "<!--End of the generated tip-->\n",
    "\n",
    "</Tip>\n",
    "\n",
    "Before you begin, make sure you have all the necessary libraries installed:\n",
    "\n",
    "```bash\n",
    "pip install transformers datasets evaluate seqeval\n",
    "```\n",
    "\n",
    "We encourage you to login to your Hugging Face account so you can upload and share your model with the community. When prompted, enter your token to login:"
   ]
  },
  {
   "cell_type": "code",
   "execution_count": 2,
   "metadata": {
    "id": "iEtqRf5rQ0fg"
   },
   "outputs": [],
   "source": [
    "# from huggingface_hub import notebook_login\n",
    "\n",
    "# notebook_login()"
   ]
  },
  {
   "cell_type": "markdown",
   "metadata": {
    "id": "3MGZYEgEQ0fg"
   },
   "source": [
    "## Load WNUT 17 dataset"
   ]
  },
  {
   "cell_type": "markdown",
   "metadata": {
    "id": "0B1rcI0rQ0fg"
   },
   "source": [
    "Start by loading the WNUT 17 dataset from the 🤗 Datasets library:"
   ]
  },
  {
   "cell_type": "code",
   "execution_count": 3,
   "metadata": {
    "colab": {
     "base_uri": "https://localhost:8080/",
     "height": 86,
     "referenced_widgets": [
      "2f1dfacdea4246b3a76e5ac668eebef5",
      "0d2a0779db1145f38a547c6ce76307aa",
      "4d8876ea811449428c412ca6c4d395ab",
      "880a6a3d0d5249afa0984f362bcf145c",
      "938c76e1e3da465987e9b84585d07cd2",
      "157945539bf94deaafdebf7cb8aa19cb",
      "49ee8072352346818ca1c7c6dd14723b",
      "09600afae88548049eb69e2eccce09ec",
      "ddc2d8aa25354aabaaab47b0c5bf1d49",
      "c078e1d4c3c2488e8fd9d2acffa631c2",
      "1e80e8605cc4477e92f5b7133d6a1ac2"
     ]
    },
    "id": "2CTNNxZsQ0fg",
    "outputId": "efda396e-0ed3-4a64-945d-5ed9a65a8ee1"
   },
   "outputs": [
    {
     "name": "stderr",
     "output_type": "stream",
     "text": [
      "WARNING:datasets.builder:Found cached dataset wnut_17 (/root/.cache/huggingface/datasets/wnut_17/wnut_17/1.0.0/077c7f08b8dbc800692e8c9186cdf3606d5849ab0e7be662e6135bb10eba54f9)\n"
     ]
    },
    {
     "data": {
      "application/vnd.jupyter.widget-view+json": {
       "model_id": "2f1dfacdea4246b3a76e5ac668eebef5",
       "version_major": 2,
       "version_minor": 0
      },
      "text/plain": [
       "  0%|          | 0/3 [00:00<?, ?it/s]"
      ]
     },
     "metadata": {},
     "output_type": "display_data"
    }
   ],
   "source": [
    "from datasets import load_dataset\n",
    "\n",
    "wnut = load_dataset(\"wnut_17\")"
   ]
  },
  {
   "cell_type": "code",
   "execution_count": 4,
   "metadata": {
    "id": "fPMD9l0TRZ-w"
   },
   "outputs": [],
   "source": [
    "import pandas as pd\n",
    "from sklearn.model_selection import train_test_split\n",
    "import datasets\n",
    "from datasets import Dataset"
   ]
  },
  {
   "cell_type": "code",
   "execution_count": 5,
   "metadata": {
    "colab": {
     "base_uri": "https://localhost:8080/",
     "height": 248
    },
    "id": "zoYvH2QGRTzX",
    "outputId": "b2f23595-de7f-411b-ddbd-67161fccee8f"
   },
   "outputs": [
    {
     "data": {
      "text/html": [
       "\n",
       "  <div id=\"df-2e1f4081-2bcc-4903-859f-9c463f55430a\">\n",
       "    <div class=\"colab-df-container\">\n",
       "      <div>\n",
       "<style scoped>\n",
       "    .dataframe tbody tr th:only-of-type {\n",
       "        vertical-align: middle;\n",
       "    }\n",
       "\n",
       "    .dataframe tbody tr th {\n",
       "        vertical-align: top;\n",
       "    }\n",
       "\n",
       "    .dataframe thead th {\n",
       "        text-align: right;\n",
       "    }\n",
       "</style>\n",
       "<table border=\"1\" class=\"dataframe\">\n",
       "  <thead>\n",
       "    <tr style=\"text-align: right;\">\n",
       "      <th></th>\n",
       "      <th>Unnamed: 0</th>\n",
       "      <th>job_id</th>\n",
       "      <th>job_segment</th>\n",
       "      <th>skills</th>\n",
       "    </tr>\n",
       "  </thead>\n",
       "  <tbody>\n",
       "    <tr>\n",
       "      <th>0</th>\n",
       "      <td>0</td>\n",
       "      <td>0</td>\n",
       "      <td>SummaryThe Database Developer is part of the C...</td>\n",
       "      <td>CEMCO, C#, database performance, .Net</td>\n",
       "    </tr>\n",
       "    <tr>\n",
       "      <th>1</th>\n",
       "      <td>1</td>\n",
       "      <td>0</td>\n",
       "      <td>Perform database security administration.Ensur...</td>\n",
       "      <td>C#, .Net</td>\n",
       "    </tr>\n",
       "    <tr>\n",
       "      <th>2</th>\n",
       "      <td>2</td>\n",
       "      <td>0</td>\n",
       "      <td>Education And/Or Experience, Certifications, R...</td>\n",
       "      <td>teamwork, Project management, SQL, T-SQL</td>\n",
       "    </tr>\n",
       "    <tr>\n",
       "      <th>3</th>\n",
       "      <td>3</td>\n",
       "      <td>0</td>\n",
       "      <td>Physical DemandsWhile performing the duties of...</td>\n",
       "      <td>close vision, distance vision</td>\n",
       "    </tr>\n",
       "    <tr>\n",
       "      <th>4</th>\n",
       "      <td>4</td>\n",
       "      <td>0</td>\n",
       "      <td>CEMCO, LLC, is the premier manufacturer of ste...</td>\n",
       "      <td>CEMCO, LLC</td>\n",
       "    </tr>\n",
       "  </tbody>\n",
       "</table>\n",
       "</div>\n",
       "      <button class=\"colab-df-convert\" onclick=\"convertToInteractive('df-2e1f4081-2bcc-4903-859f-9c463f55430a')\"\n",
       "              title=\"Convert this dataframe to an interactive table.\"\n",
       "              style=\"display:none;\">\n",
       "        \n",
       "  <svg xmlns=\"http://www.w3.org/2000/svg\" height=\"24px\"viewBox=\"0 0 24 24\"\n",
       "       width=\"24px\">\n",
       "    <path d=\"M0 0h24v24H0V0z\" fill=\"none\"/>\n",
       "    <path d=\"M18.56 5.44l.94 2.06.94-2.06 2.06-.94-2.06-.94-.94-2.06-.94 2.06-2.06.94zm-11 1L8.5 8.5l.94-2.06 2.06-.94-2.06-.94L8.5 2.5l-.94 2.06-2.06.94zm10 10l.94 2.06.94-2.06 2.06-.94-2.06-.94-.94-2.06-.94 2.06-2.06.94z\"/><path d=\"M17.41 7.96l-1.37-1.37c-.4-.4-.92-.59-1.43-.59-.52 0-1.04.2-1.43.59L10.3 9.45l-7.72 7.72c-.78.78-.78 2.05 0 2.83L4 21.41c.39.39.9.59 1.41.59.51 0 1.02-.2 1.41-.59l7.78-7.78 2.81-2.81c.8-.78.8-2.07 0-2.86zM5.41 20L4 18.59l7.72-7.72 1.47 1.35L5.41 20z\"/>\n",
       "  </svg>\n",
       "      </button>\n",
       "      \n",
       "  <style>\n",
       "    .colab-df-container {\n",
       "      display:flex;\n",
       "      flex-wrap:wrap;\n",
       "      gap: 12px;\n",
       "    }\n",
       "\n",
       "    .colab-df-convert {\n",
       "      background-color: #E8F0FE;\n",
       "      border: none;\n",
       "      border-radius: 50%;\n",
       "      cursor: pointer;\n",
       "      display: none;\n",
       "      fill: #1967D2;\n",
       "      height: 32px;\n",
       "      padding: 0 0 0 0;\n",
       "      width: 32px;\n",
       "    }\n",
       "\n",
       "    .colab-df-convert:hover {\n",
       "      background-color: #E2EBFA;\n",
       "      box-shadow: 0px 1px 2px rgba(60, 64, 67, 0.3), 0px 1px 3px 1px rgba(60, 64, 67, 0.15);\n",
       "      fill: #174EA6;\n",
       "    }\n",
       "\n",
       "    [theme=dark] .colab-df-convert {\n",
       "      background-color: #3B4455;\n",
       "      fill: #D2E3FC;\n",
       "    }\n",
       "\n",
       "    [theme=dark] .colab-df-convert:hover {\n",
       "      background-color: #434B5C;\n",
       "      box-shadow: 0px 1px 3px 1px rgba(0, 0, 0, 0.15);\n",
       "      filter: drop-shadow(0px 1px 2px rgba(0, 0, 0, 0.3));\n",
       "      fill: #FFFFFF;\n",
       "    }\n",
       "  </style>\n",
       "\n",
       "      <script>\n",
       "        const buttonEl =\n",
       "          document.querySelector('#df-2e1f4081-2bcc-4903-859f-9c463f55430a button.colab-df-convert');\n",
       "        buttonEl.style.display =\n",
       "          google.colab.kernel.accessAllowed ? 'block' : 'none';\n",
       "\n",
       "        async function convertToInteractive(key) {\n",
       "          const element = document.querySelector('#df-2e1f4081-2bcc-4903-859f-9c463f55430a');\n",
       "          const dataTable =\n",
       "            await google.colab.kernel.invokeFunction('convertToInteractive',\n",
       "                                                     [key], {});\n",
       "          if (!dataTable) return;\n",
       "\n",
       "          const docLinkHtml = 'Like what you see? Visit the ' +\n",
       "            '<a target=\"_blank\" href=https://colab.research.google.com/notebooks/data_table.ipynb>data table notebook</a>'\n",
       "            + ' to learn more about interactive tables.';\n",
       "          element.innerHTML = '';\n",
       "          dataTable['output_type'] = 'display_data';\n",
       "          await google.colab.output.renderOutput(dataTable, element);\n",
       "          const docLink = document.createElement('div');\n",
       "          docLink.innerHTML = docLinkHtml;\n",
       "          element.appendChild(docLink);\n",
       "        }\n",
       "      </script>\n",
       "    </div>\n",
       "  </div>\n",
       "  "
      ],
      "text/plain": [
       "   Unnamed: 0  job_id                                        job_segment  \\\n",
       "0           0       0  SummaryThe Database Developer is part of the C...   \n",
       "1           1       0  Perform database security administration.Ensur...   \n",
       "2           2       0  Education And/Or Experience, Certifications, R...   \n",
       "3           3       0  Physical DemandsWhile performing the duties of...   \n",
       "4           4       0  CEMCO, LLC, is the premier manufacturer of ste...   \n",
       "\n",
       "                                     skills  \n",
       "0     CEMCO, C#, database performance, .Net  \n",
       "1                                  C#, .Net  \n",
       "2  teamwork, Project management, SQL, T-SQL  \n",
       "3             close vision, distance vision  \n",
       "4                                CEMCO, LLC  "
      ]
     },
     "execution_count": 5,
     "metadata": {},
     "output_type": "execute_result"
    }
   ],
   "source": [
    "df = pd.read_csv('/content/GPT-3_data_split_into_128_word_paragraphs.csv')\n",
    "df = df[~df['job_segment'].isna()]\n",
    "df.head()"
   ]
  },
  {
   "cell_type": "code",
   "execution_count": 6,
   "metadata": {
    "id": "hnWRTtbnT9TB"
   },
   "outputs": [],
   "source": [
    "df = df.reset_index()"
   ]
  },
  {
   "cell_type": "code",
   "execution_count": 7,
   "metadata": {
    "colab": {
     "base_uri": "https://localhost:8080/"
    },
    "id": "DHHxe4B0y3N4",
    "outputId": "536aeb2b-70d3-4f31-da49-a67fe39b3284"
   },
   "outputs": [
    {
     "data": {
      "text/plain": [
       "['I',\n",
       " 'have',\n",
       " 'skills',\n",
       " ':',\n",
       " 'like',\n",
       " ',',\n",
       " 'C#',\n",
       " ',',\n",
       " '.NET',\n",
       " ',',\n",
       " 'and',\n",
       " 'pizza',\n",
       " '.',\n",
       " 'How',\n",
       " 'does',\n",
       " 'this',\n",
       " 'work',\n",
       " '?']"
      ]
     },
     "execution_count": 7,
     "metadata": {},
     "output_type": "execute_result"
    }
   ],
   "source": [
    "import re\n",
    "\n",
    "text = \"I have skills: like, C#, .NET, and pizza. How does this work?\"\n",
    "\n",
    "# re.findall(r'\\b\\w+\\b', text)\n",
    "re.findall(r'\\w+#|\\.\\w+|\\w+-\\w+|\\w+|[^\\w\\s]', text)"
   ]
  },
  {
   "cell_type": "code",
   "execution_count": 8,
   "metadata": {
    "colab": {
     "base_uri": "https://localhost:8080/"
    },
    "id": "ykF3oQE1GwOz",
    "outputId": "680c00ef-08f2-4cde-b173-a761848dc7fb"
   },
   "outputs": [
    {
     "name": "stdout",
     "output_type": "stream",
     "text": [
      "['CEMCO']\n",
      "['C#']\n",
      "['database', 'performance']\n",
      "['.Net']\n",
      "['piggle-pump']\n"
     ]
    }
   ],
   "source": [
    "skills = ['CEMCO', 'C#', 'database performance', '.Net', 'piggle-pump']\n",
    "for skill in skills:\n",
    "    skill_tokens = re.findall(r'\\w+#|\\.\\w+|\\w+-\\w+|\\w+|[^\\w\\s]', skill)\n",
    "    print(skill_tokens)"
   ]
  },
  {
   "cell_type": "code",
   "execution_count": 9,
   "metadata": {
    "id": "m4GpiEneXGQs"
   },
   "outputs": [],
   "source": [
    "import re\n",
    "\n",
    "all_tokens = []\n",
    "all_tags = []\n",
    "for index, row in df.iterrows():\n",
    "    tokens = re.findall(r'\\w+#|\\.\\w+|\\w+-\\w+|\\w+|[^\\w\\s]', row[\"job_segment\"])\n",
    "    try:\n",
    "        skills = row[\"skills\"].split(\",\")\n",
    "    except:\n",
    "        skills = []\n",
    "    ner_tags = [0] * len(tokens)\n",
    "    for skill in skills:\n",
    "        skill_tokens = re.findall(r'\\w+#|\\.\\w+|\\w+-\\w+|\\w+|[^\\w\\s]', skill)\n",
    "        for i,token in enumerate(tokens):\n",
    "            if skill_tokens[0] == token:\n",
    "                len_skill = len(skill_tokens)\n",
    "                if len_skill==1:\n",
    "                    ner_tags[i] = 1\n",
    "                elif i < len(tokens)-1 and skill_tokens[1:] == tokens[i+1:i+1+len_skill-1]:\n",
    "                    ner_tags[i] = 1\n",
    "                    for k in range(i+1,i+1+len_skill-1):\n",
    "                        ner_tags[k] = 2\n",
    "\n",
    "    all_tokens.append(tokens)\n",
    "    all_tags.append(ner_tags)\n"
   ]
  },
  {
   "cell_type": "code",
   "execution_count": 10,
   "metadata": {
    "colab": {
     "base_uri": "https://localhost:8080/",
     "height": 333
    },
    "id": "bz2doOguZ1ir",
    "outputId": "52cc26d7-9703-4cd6-aa28-2564f0113d84"
   },
   "outputs": [
    {
     "data": {
      "text/html": [
       "\n",
       "  <div id=\"df-ad780232-25df-406f-8986-b848a5c6fc60\">\n",
       "    <div class=\"colab-df-container\">\n",
       "      <div>\n",
       "<style scoped>\n",
       "    .dataframe tbody tr th:only-of-type {\n",
       "        vertical-align: middle;\n",
       "    }\n",
       "\n",
       "    .dataframe tbody tr th {\n",
       "        vertical-align: top;\n",
       "    }\n",
       "\n",
       "    .dataframe thead th {\n",
       "        text-align: right;\n",
       "    }\n",
       "</style>\n",
       "<table border=\"1\" class=\"dataframe\">\n",
       "  <thead>\n",
       "    <tr style=\"text-align: right;\">\n",
       "      <th></th>\n",
       "      <th>id</th>\n",
       "      <th>tokens</th>\n",
       "      <th>ner_tags</th>\n",
       "      <th>job_desc</th>\n",
       "      <th>skills</th>\n",
       "    </tr>\n",
       "  </thead>\n",
       "  <tbody>\n",
       "    <tr>\n",
       "      <th>0</th>\n",
       "      <td>0</td>\n",
       "      <td>[SummaryThe, Database, Developer, is, part, of...</td>\n",
       "      <td>[0, 0, 0, 0, 0, 0, 0, 1, 0, 0, 0, 0, 0, 0, 0, ...</td>\n",
       "      <td>SummaryThe Database Developer is part of the C...</td>\n",
       "      <td>CEMCO, C#, database performance, .Net</td>\n",
       "    </tr>\n",
       "    <tr>\n",
       "      <th>1</th>\n",
       "      <td>1</td>\n",
       "      <td>[Perform, database, security, administration, ...</td>\n",
       "      <td>[0, 0, 0, 0, 0, 0, 0, 0, 0, 0, 0, 0, 0, 0, 0, ...</td>\n",
       "      <td>Perform database security administration.Ensur...</td>\n",
       "      <td>C#, .Net</td>\n",
       "    </tr>\n",
       "    <tr>\n",
       "      <th>2</th>\n",
       "      <td>2</td>\n",
       "      <td>[Education, And, /, Or, Experience, ,, Certifi...</td>\n",
       "      <td>[0, 0, 0, 0, 0, 0, 0, 0, 0, 0, 0, 0, 0, 0, 0, ...</td>\n",
       "      <td>Education And/Or Experience, Certifications, R...</td>\n",
       "      <td>teamwork, Project management, SQL, T-SQL</td>\n",
       "    </tr>\n",
       "    <tr>\n",
       "      <th>3</th>\n",
       "      <td>3</td>\n",
       "      <td>[Physical, DemandsWhile, performing, the, duti...</td>\n",
       "      <td>[0, 0, 0, 0, 0, 0, 0, 0, 0, 0, 0, 0, 0, 0, 0, ...</td>\n",
       "      <td>Physical DemandsWhile performing the duties of...</td>\n",
       "      <td>close vision, distance vision</td>\n",
       "    </tr>\n",
       "    <tr>\n",
       "      <th>4</th>\n",
       "      <td>4</td>\n",
       "      <td>[CEMCO, ,, LLC, ,, is, the, premier, manufactu...</td>\n",
       "      <td>[1, 0, 1, 0, 0, 0, 0, 0, 0, 0, 0, 0, 0, 0, 0, ...</td>\n",
       "      <td>CEMCO, LLC, is the premier manufacturer of ste...</td>\n",
       "      <td>CEMCO, LLC</td>\n",
       "    </tr>\n",
       "  </tbody>\n",
       "</table>\n",
       "</div>\n",
       "      <button class=\"colab-df-convert\" onclick=\"convertToInteractive('df-ad780232-25df-406f-8986-b848a5c6fc60')\"\n",
       "              title=\"Convert this dataframe to an interactive table.\"\n",
       "              style=\"display:none;\">\n",
       "        \n",
       "  <svg xmlns=\"http://www.w3.org/2000/svg\" height=\"24px\"viewBox=\"0 0 24 24\"\n",
       "       width=\"24px\">\n",
       "    <path d=\"M0 0h24v24H0V0z\" fill=\"none\"/>\n",
       "    <path d=\"M18.56 5.44l.94 2.06.94-2.06 2.06-.94-2.06-.94-.94-2.06-.94 2.06-2.06.94zm-11 1L8.5 8.5l.94-2.06 2.06-.94-2.06-.94L8.5 2.5l-.94 2.06-2.06.94zm10 10l.94 2.06.94-2.06 2.06-.94-2.06-.94-.94-2.06-.94 2.06-2.06.94z\"/><path d=\"M17.41 7.96l-1.37-1.37c-.4-.4-.92-.59-1.43-.59-.52 0-1.04.2-1.43.59L10.3 9.45l-7.72 7.72c-.78.78-.78 2.05 0 2.83L4 21.41c.39.39.9.59 1.41.59.51 0 1.02-.2 1.41-.59l7.78-7.78 2.81-2.81c.8-.78.8-2.07 0-2.86zM5.41 20L4 18.59l7.72-7.72 1.47 1.35L5.41 20z\"/>\n",
       "  </svg>\n",
       "      </button>\n",
       "      \n",
       "  <style>\n",
       "    .colab-df-container {\n",
       "      display:flex;\n",
       "      flex-wrap:wrap;\n",
       "      gap: 12px;\n",
       "    }\n",
       "\n",
       "    .colab-df-convert {\n",
       "      background-color: #E8F0FE;\n",
       "      border: none;\n",
       "      border-radius: 50%;\n",
       "      cursor: pointer;\n",
       "      display: none;\n",
       "      fill: #1967D2;\n",
       "      height: 32px;\n",
       "      padding: 0 0 0 0;\n",
       "      width: 32px;\n",
       "    }\n",
       "\n",
       "    .colab-df-convert:hover {\n",
       "      background-color: #E2EBFA;\n",
       "      box-shadow: 0px 1px 2px rgba(60, 64, 67, 0.3), 0px 1px 3px 1px rgba(60, 64, 67, 0.15);\n",
       "      fill: #174EA6;\n",
       "    }\n",
       "\n",
       "    [theme=dark] .colab-df-convert {\n",
       "      background-color: #3B4455;\n",
       "      fill: #D2E3FC;\n",
       "    }\n",
       "\n",
       "    [theme=dark] .colab-df-convert:hover {\n",
       "      background-color: #434B5C;\n",
       "      box-shadow: 0px 1px 3px 1px rgba(0, 0, 0, 0.15);\n",
       "      filter: drop-shadow(0px 1px 2px rgba(0, 0, 0, 0.3));\n",
       "      fill: #FFFFFF;\n",
       "    }\n",
       "  </style>\n",
       "\n",
       "      <script>\n",
       "        const buttonEl =\n",
       "          document.querySelector('#df-ad780232-25df-406f-8986-b848a5c6fc60 button.colab-df-convert');\n",
       "        buttonEl.style.display =\n",
       "          google.colab.kernel.accessAllowed ? 'block' : 'none';\n",
       "\n",
       "        async function convertToInteractive(key) {\n",
       "          const element = document.querySelector('#df-ad780232-25df-406f-8986-b848a5c6fc60');\n",
       "          const dataTable =\n",
       "            await google.colab.kernel.invokeFunction('convertToInteractive',\n",
       "                                                     [key], {});\n",
       "          if (!dataTable) return;\n",
       "\n",
       "          const docLinkHtml = 'Like what you see? Visit the ' +\n",
       "            '<a target=\"_blank\" href=https://colab.research.google.com/notebooks/data_table.ipynb>data table notebook</a>'\n",
       "            + ' to learn more about interactive tables.';\n",
       "          element.innerHTML = '';\n",
       "          dataTable['output_type'] = 'display_data';\n",
       "          await google.colab.output.renderOutput(dataTable, element);\n",
       "          const docLink = document.createElement('div');\n",
       "          docLink.innerHTML = docLinkHtml;\n",
       "          element.appendChild(docLink);\n",
       "        }\n",
       "      </script>\n",
       "    </div>\n",
       "  </div>\n",
       "  "
      ],
      "text/plain": [
       "  id                                             tokens  \\\n",
       "0  0  [SummaryThe, Database, Developer, is, part, of...   \n",
       "1  1  [Perform, database, security, administration, ...   \n",
       "2  2  [Education, And, /, Or, Experience, ,, Certifi...   \n",
       "3  3  [Physical, DemandsWhile, performing, the, duti...   \n",
       "4  4  [CEMCO, ,, LLC, ,, is, the, premier, manufactu...   \n",
       "\n",
       "                                            ner_tags  \\\n",
       "0  [0, 0, 0, 0, 0, 0, 0, 1, 0, 0, 0, 0, 0, 0, 0, ...   \n",
       "1  [0, 0, 0, 0, 0, 0, 0, 0, 0, 0, 0, 0, 0, 0, 0, ...   \n",
       "2  [0, 0, 0, 0, 0, 0, 0, 0, 0, 0, 0, 0, 0, 0, 0, ...   \n",
       "3  [0, 0, 0, 0, 0, 0, 0, 0, 0, 0, 0, 0, 0, 0, 0, ...   \n",
       "4  [1, 0, 1, 0, 0, 0, 0, 0, 0, 0, 0, 0, 0, 0, 0, ...   \n",
       "\n",
       "                                            job_desc  \\\n",
       "0  SummaryThe Database Developer is part of the C...   \n",
       "1  Perform database security administration.Ensur...   \n",
       "2  Education And/Or Experience, Certifications, R...   \n",
       "3  Physical DemandsWhile performing the duties of...   \n",
       "4  CEMCO, LLC, is the premier manufacturer of ste...   \n",
       "\n",
       "                                     skills  \n",
       "0     CEMCO, C#, database performance, .Net  \n",
       "1                                  C#, .Net  \n",
       "2  teamwork, Project management, SQL, T-SQL  \n",
       "3             close vision, distance vision  \n",
       "4                                CEMCO, LLC  "
      ]
     },
     "execution_count": 10,
     "metadata": {},
     "output_type": "execute_result"
    }
   ],
   "source": [
    "data = pd.DataFrame({'id': [str(idx) for idx in df[\"index\"].tolist()],\n",
    "                     'tokens': all_tokens,\n",
    "                     'ner_tags': all_tags,\n",
    "                     'job_desc': df[\"job_segment\"].tolist(),\n",
    "                     'skills': df[\"skills\"].tolist()})\n",
    "\n",
    "data.head()"
   ]
  },
  {
   "cell_type": "code",
   "execution_count": 11,
   "metadata": {
    "id": "RsxQguwTftEe"
   },
   "outputs": [],
   "source": [
    "train_df, val_df = train_test_split(data, test_size=0.2, random_state=42)\n",
    "# val_df, test_df = train_test_split(val_df, test_size=0.4, random_state=42)\n",
    "\n",
    "train_dataset = Dataset.from_pandas(train_df, preserve_index=False)\n",
    "val_dataset = Dataset.from_pandas(val_df, preserve_index=False)\n",
    "# test_dataset = Dataset.from_pandas(test_df, preserve_index=False)"
   ]
  },
  {
   "cell_type": "code",
   "execution_count": 12,
   "metadata": {
    "id": "5p-6ZjLyfxRZ"
   },
   "outputs": [],
   "source": [
    "dataset = datasets.DatasetDict({\"train\": train_dataset,\n",
    "                                \"validation\": val_dataset})"
   ]
  },
  {
   "cell_type": "code",
   "execution_count": 13,
   "metadata": {
    "colab": {
     "base_uri": "https://localhost:8080/"
    },
    "id": "6LAQ3DPdJvIY",
    "outputId": "6d26ee17-c3d2-4d90-c933-e958e59c7edb"
   },
   "outputs": [
    {
     "data": {
      "text/plain": [
       "ClassLabel(names=['O', 'B-corporation', 'I-corporation', 'B-creative-work', 'I-creative-work', 'B-group', 'I-group', 'B-location', 'I-location', 'B-person', 'I-person', 'B-product', 'I-product'], id=None)"
      ]
     },
     "execution_count": 13,
     "metadata": {},
     "output_type": "execute_result"
    }
   ],
   "source": [
    "label_list = wnut[\"train\"].features[f\"ner_tags\"].feature\n",
    "label_list"
   ]
  },
  {
   "cell_type": "code",
   "execution_count": 14,
   "metadata": {
    "id": "kIFvlKUxWHcr"
   },
   "outputs": [],
   "source": [
    "from transformers import AutoTokenizer\n",
    "\n",
    "tokenizer = AutoTokenizer.from_pretrained(\"bert-base-cased\")"
   ]
  },
  {
   "cell_type": "code",
   "execution_count": 15,
   "metadata": {
    "id": "3R1aPSIYT7eA"
   },
   "outputs": [],
   "source": [
    "# def get_token_tags(job, skills):\n",
    "#     tokens = tokenizer.tokenize(job,\n",
    "#                                 max_length=250,\n",
    "#                                 pad_to_max_length=True)\n",
    "#     encoding = tokenizer.encode_plus(job,\n",
    "#                                      add_special_tokens=True, \n",
    "#                                       max_length=250, \n",
    "#                                       pad_to_max_length=True, \n",
    "#                                       return_attention_mask=True, \n",
    "#                                       return_tensors='pt')\n",
    "#     tags = ['[PAD]' if i=='[PAD]' else 'O' for i in tokens]\n",
    "#     try:\n",
    "#       skills = [i.strip() for i in skills.split(\",\")]\n",
    "#     except:\n",
    "#       return encoding, tokens, tags\n",
    "#     for skill in skills:\n",
    "#         skill_tokens = tokenizer.tokenize(skill)\n",
    "#         for i,token in enumerate(tokens):\n",
    "#             if skill_tokens[0] == token:\n",
    "#                 len_skill = len(skill_tokens)\n",
    "#                 # print(skill_tokens[0])\n",
    "#                 # print(skill_tokens[1:], tokens[i+1:i+1+len_skill-1])\n",
    "#                 if len_skill==1:\n",
    "#                     tags[i] = 'B'\n",
    "#                 elif i < len(tokens)-1 and skill_tokens[1:] == tokens[i+1:i+1+len_skill-1]:\n",
    "#                     tags[i] = 'B'\n",
    "#                     for k in range(i+1,i+1+len_skill-1):\n",
    "#                         tags[k] = 'I' \n",
    "#     return encoding, tokens, tags"
   ]
  },
  {
   "cell_type": "code",
   "execution_count": 16,
   "metadata": {
    "id": "hJ6-cjnrTj2O"
   },
   "outputs": [],
   "source": [
    "# all_tokens = []\n",
    "# all_tags = []\n",
    "# input_ids = []\n",
    "# attention_mask = []\n",
    "# for i in range(len(df)):\n",
    "#     tokens = []\n",
    "#     tags = []\n",
    "#     encoding, tokens, tags = get_token_tags(df[\"job_segment\"][i], df[\"skills\"][i])\n",
    "#     input_ids.append(encoding['input_ids'])\n",
    "#     attention_mask.append(encoding['attention_mask'])\n",
    "#     all_tokens.append(tokens)\n",
    "#     all_tags.append(tags)"
   ]
  },
  {
   "cell_type": "code",
   "execution_count": 17,
   "metadata": {
    "id": "DtyrCju9U_b1"
   },
   "outputs": [],
   "source": [
    "# tok_df = pd.DataFrame({'tokens': all_tokens,\n",
    "#                        'tags': all_tags,\n",
    "#                       'input_ids': input_ids,\n",
    "#                       'attention_mask': attention_mask})\n",
    "# tok_df.head()"
   ]
  },
  {
   "cell_type": "markdown",
   "metadata": {
    "id": "fgULxdnVQ0fh"
   },
   "source": [
    "Then take a look at an example:"
   ]
  },
  {
   "cell_type": "markdown",
   "metadata": {
    "id": "4ntcuvqaQ0fh"
   },
   "source": [
    "Each number in `ner_tags` represents an entity. Convert the numbers to their label names to find out what the entities are:"
   ]
  },
  {
   "cell_type": "markdown",
   "metadata": {
    "id": "58jjHEEAQ0fh"
   },
   "source": [
    "The letter that prefixes each `ner_tag` indicates the token position of the entity:\n",
    "\n",
    "- `B-` indicates the beginning of an entity.\n",
    "- `I-` indicates a token is contained inside the same entity (for example, the `State` token is a part of an entity like\n",
    "  `Empire State Building`).\n",
    "- `0` indicates the token doesn't correspond to any entity."
   ]
  },
  {
   "cell_type": "markdown",
   "metadata": {
    "id": "DXqAcd65Q0fh"
   },
   "source": [
    "## Preprocess"
   ]
  },
  {
   "cell_type": "markdown",
   "metadata": {
    "id": "zmNNQyDlQ0fi"
   },
   "source": [
    "The next step is to load a DistilBERT tokenizer to preprocess the `tokens` field:"
   ]
  },
  {
   "cell_type": "markdown",
   "metadata": {
    "id": "qcTZK4cAQ0fi"
   },
   "source": [
    "As you saw in the example `tokens` field above, it looks like the input has already been tokenized. But the input actually hasn't been tokenized yet and you'll need to set `is_split_into_words=True` to tokenize the words into subwords. For example:"
   ]
  },
  {
   "cell_type": "code",
   "execution_count": 18,
   "metadata": {
    "colab": {
     "base_uri": "https://localhost:8080/"
    },
    "id": "2hqC_eufQ0fi",
    "outputId": "8cbd63ad-5d76-4141-d869-6f5a12759e54"
   },
   "outputs": [
    {
     "data": {
      "text/plain": [
       "['[CLS]',\n",
       " '@',\n",
       " 'p',\n",
       " '##aul',\n",
       " '##walk',\n",
       " 'It',\n",
       " \"'\",\n",
       " 's',\n",
       " 'the',\n",
       " 'view',\n",
       " 'from',\n",
       " 'where',\n",
       " 'I',\n",
       " \"'\",\n",
       " 'm',\n",
       " 'living',\n",
       " 'for',\n",
       " 'two',\n",
       " 'weeks',\n",
       " '.',\n",
       " 'Empire',\n",
       " 'State',\n",
       " 'Building',\n",
       " '=',\n",
       " 'E',\n",
       " '##SB',\n",
       " '.',\n",
       " 'Pretty',\n",
       " 'bad',\n",
       " 'storm',\n",
       " 'here',\n",
       " 'last',\n",
       " 'evening',\n",
       " '.',\n",
       " '[SEP]']"
      ]
     },
     "execution_count": 18,
     "metadata": {},
     "output_type": "execute_result"
    }
   ],
   "source": [
    "example = wnut[\"train\"][0]\n",
    "tokenized_input = tokenizer(example[\"tokens\"], is_split_into_words=True)\n",
    "tokens = tokenizer.convert_ids_to_tokens(tokenized_input[\"input_ids\"])\n",
    "tokens"
   ]
  },
  {
   "cell_type": "code",
   "execution_count": 19,
   "metadata": {
    "colab": {
     "base_uri": "https://localhost:8080/"
    },
    "id": "4gjxHlpuScCM",
    "outputId": "fd0041d0-14d3-47b0-d601-3eef76e446ee"
   },
   "outputs": [
    {
     "data": {
      "text/plain": [
       "['[CLS]',\n",
       " \"'\",\n",
       " ',',\n",
       " '\"',\n",
       " 'And',\n",
       " 'as',\n",
       " 'we',\n",
       " 'work',\n",
       " 'today',\n",
       " 'to',\n",
       " 'drive',\n",
       " 'better',\n",
       " 'care',\n",
       " 'and',\n",
       " 'lower',\n",
       " 'costs',\n",
       " ',',\n",
       " 'we',\n",
       " \"'\",\n",
       " 're',\n",
       " 'developing',\n",
       " 'more',\n",
       " 'personal',\n",
       " '##ized',\n",
       " 'solutions',\n",
       " 'for',\n",
       " 'tomorrow',\n",
       " ',',\n",
       " 'utilizing',\n",
       " 'machine',\n",
       " 'learning',\n",
       " ',',\n",
       " 'intelligent',\n",
       " 'care',\n",
       " 'paths',\n",
       " ',',\n",
       " 'and',\n",
       " 'predict',\n",
       " '##ive',\n",
       " 'protocols',\n",
       " '.',\n",
       " '\"',\n",
       " ',',\n",
       " \"'\",\n",
       " 'If',\n",
       " 'you',\n",
       " 'are',\n",
       " 'an',\n",
       " 'inn',\n",
       " '##ova',\n",
       " '##tor',\n",
       " 'who',\n",
       " 'wants',\n",
       " 'to',\n",
       " 'make',\n",
       " 'an',\n",
       " 'impact',\n",
       " 'we',\n",
       " 'want',\n",
       " 'to',\n",
       " 'talk',\n",
       " 'to',\n",
       " 'you',\n",
       " '!',\n",
       " 'We',\n",
       " 'have',\n",
       " 'exciting',\n",
       " 'opportunities',\n",
       " 'supporting',\n",
       " 'Bright',\n",
       " '##ree',\n",
       " 'by',\n",
       " 'Re',\n",
       " '##s',\n",
       " '##M',\n",
       " '##ed',\n",
       " 'and',\n",
       " 'Matrix',\n",
       " '##C',\n",
       " '##are',\n",
       " 'by',\n",
       " 'Re',\n",
       " '##s',\n",
       " '##M',\n",
       " '##ed',\n",
       " '!',\n",
       " 'As',\n",
       " 'an',\n",
       " 'inter',\n",
       " '##n',\n",
       " 'at',\n",
       " 'Re',\n",
       " '##s',\n",
       " '##M',\n",
       " '##ed',\n",
       " ',',\n",
       " 'you',\n",
       " '’',\n",
       " 'll',\n",
       " 'gain',\n",
       " 'hands',\n",
       " '-',\n",
       " 'on',\n",
       " 'experience',\n",
       " ',',\n",
       " 'learn',\n",
       " 'from',\n",
       " 'experts',\n",
       " ',',\n",
       " 'and',\n",
       " 'collaborate',\n",
       " 'with',\n",
       " 'teams',\n",
       " 'that',\n",
       " 'do',\n",
       " 'truly',\n",
       " 'amazing',\n",
       " 'things',\n",
       " '.',\n",
       " \"'\",\n",
       " '[SEP]']"
      ]
     },
     "execution_count": 19,
     "metadata": {},
     "output_type": "execute_result"
    }
   ],
   "source": [
    "example = dataset[\"train\"][0]\n",
    "tokenized_input = tokenizer(example[\"tokens\"], is_split_into_words=True)\n",
    "tokens = tokenizer.convert_ids_to_tokens(tokenized_input[\"input_ids\"])\n",
    "tokens"
   ]
  },
  {
   "cell_type": "markdown",
   "metadata": {
    "id": "6YIlmXWEQ0fi"
   },
   "source": [
    "However, this adds some special tokens `[CLS]` and `[SEP]` and the subword tokenization creates a mismatch between the input and labels. A single word corresponding to a single label may now be split into two subwords. You'll need to realign the tokens and labels by:\n",
    "\n",
    "1. Mapping all tokens to their corresponding word with the [`word_ids`](https://huggingface.co/docs/transformers/main_classes/tokenizer#transformers.BatchEncoding.word_ids) method.\n",
    "2. Assigning the label `-100` to the special tokens `[CLS]` and `[SEP]` so they're ignored by the PyTorch loss function.\n",
    "3. Only labeling the first token of a given word. Assign `-100` to other subtokens from the same word.\n",
    "\n",
    "Here is how you can create a function to realign the tokens and labels, and truncate sequences to be no longer than DistilBERT's maximum input length:"
   ]
  },
  {
   "cell_type": "code",
   "execution_count": 20,
   "metadata": {
    "id": "bGefR-rHk4YQ"
   },
   "outputs": [],
   "source": [
    "# def get_token_tags(example):\n",
    "#     job = example[\"job_segment\"][0]\n",
    "#     skills = example[\"skills\"][0]\n",
    "#     tokens = tokenizer.tokenize(job,\n",
    "#                                 truncation=True,\n",
    "#                                 max_length=250,\n",
    "#                                 pad_to_max_length=True\n",
    "#                                 )\n",
    "#     try:\n",
    "#       encoding = tokenizer.encode_plus(job,\n",
    "#                                      add_special_tokens=True, \n",
    "#                                      truncation=True,\n",
    "#                                       max_length=250, \n",
    "#                                       pad_to_max_length=True, \n",
    "#                                       return_attention_mask=True,\n",
    "#                                       return_tensors='pt')\n",
    "#     except:\n",
    "#       print(job)\n",
    "#     tags = ['[PAD]' if i=='[PAD]' else 'O' for i in tokens]\n",
    "#     print(encoding['input_ids'][0])\n",
    "#     try:\n",
    "#       skills = [skill.strip() for skill in skills.split(\",\")]\n",
    "#     except:\n",
    "#       return {'input_ids':encoding['input_ids'][0], \n",
    "#             'attention_mask':encoding['attention_mask'][0],\n",
    "#             'labels': tags}\n",
    "#     for skill in skills:\n",
    "#         skill_tokens = tokenizer.tokenize(skill)\n",
    "#         for i,token in enumerate(tokens):\n",
    "#             if skill_tokens[0] == token:\n",
    "#                 len_skill = len(skill_tokens)\n",
    "#                 # print(skill_tokens[0])\n",
    "#                 # print(skill_tokens[1:], tokens[i+1:i+1+len_skill-1])\n",
    "#                 if len_skill==1:\n",
    "#                     tags[i] = 'B'\n",
    "#                 elif i < len(tokens)-1 and skill_tokens[1:] == tokens[i+1:i+1+len_skill-1]:\n",
    "#                     tags[i] = 'B'\n",
    "#                     for k in range(i+1,i+1+len_skill-1):\n",
    "#                         tags[k] = 'I' \n",
    "#     return {'input_ids':encoding['input_ids'][0], \n",
    "#             'attention_mask':encoding['attention_mask'][0],\n",
    "#             'labels': tags}"
   ]
  },
  {
   "cell_type": "code",
   "execution_count": 21,
   "metadata": {
    "id": "ZjW-pP8CSjbl"
   },
   "outputs": [],
   "source": [
    "def tokenize_and_align_labels(examples):\n",
    "    tokenized_inputs = tokenizer(examples[\"tokens\"], truncation=True, is_split_into_words=True)\n",
    "\n",
    "    labels = []\n",
    "    for i, label in enumerate(examples[f\"ner_tags\"]):\n",
    "        word_ids = tokenized_inputs.word_ids(batch_index=i)  # Map tokens to their respective word.\n",
    "        previous_word_idx = None\n",
    "        label_ids = []\n",
    "        for word_idx in word_ids:  # Set the special tokens to -100.\n",
    "            if word_idx is None:\n",
    "                label_ids.append(-100)\n",
    "            elif word_idx != previous_word_idx:  # Only label the first token of a given word.\n",
    "                label_ids.append(label[word_idx])\n",
    "            else:\n",
    "                if label[word_idx] in {1, 2}:\n",
    "                    label_ids.append(2)\n",
    "                else: \n",
    "                    label_ids.append(label[word_idx])\n",
    "            previous_word_idx = word_idx\n",
    "        labels.append(label_ids)\n",
    "\n",
    "    tokenized_inputs[\"labels\"] = labels\n",
    "    return tokenized_inputs"
   ]
  },
  {
   "cell_type": "markdown",
   "metadata": {
    "id": "qQmo_0nOQ0fi"
   },
   "source": [
    "To apply the preprocessing function over the entire dataset, use 🤗 Datasets [map](https://huggingface.co/docs/datasets/main/en/package_reference/main_classes#datasets.Dataset.map) function. You can speed up the `map` function by setting `batched=True` to process multiple elements of the dataset at once:"
   ]
  },
  {
   "cell_type": "code",
   "execution_count": 22,
   "metadata": {
    "id": "XRuS3ocZSojD"
   },
   "outputs": [],
   "source": [
    "# tokenized_wnut = wnut.map(tokenize_and_align_labels, batched=True)"
   ]
  },
  {
   "cell_type": "code",
   "execution_count": 23,
   "metadata": {
    "colab": {
     "base_uri": "https://localhost:8080/",
     "height": 17,
     "referenced_widgets": [
      "bb739f80b4354baa851eb6b92b878b23",
      "c477a00900624fa1805f5fee1936b7a7",
      "9f29217c3b874c1fa6a2ee7d57fcd54e",
      "ba4b9bac6b7449c3a767622866264e8e",
      "d0cf1922b8a24f149602bd085fc796b2",
      "f3e60b23b0af44d8a21140ebdcf46e97",
      "d94d5518ddba476c9c56fe4c25f22bd7",
      "c2fc052377684e589de9a16ad4f8df71",
      "38cbb0fbfdbf4c06bd828d7eec15cf43",
      "c3328d10c41c4cfcad5b59093ec30f72",
      "c1dd6486a4b04d21b97249f0d0848457",
      "4205f01082d549699a05d1a26a42959c",
      "6fa26607ef0c40ea88bdddcc73d44bbc",
      "297048d3df0646e88df996f4292e2de6",
      "6b2069b69b764fe38dc91a96e0b96bee",
      "50ad9e7d17b342f3911fc02aca12039b",
      "c094d9191229440bb75818a345e644b0",
      "feb21989533f4c7b9b345f33d2fb817e",
      "58e9bd88712b49a4ba4b21d2ae073776",
      "a0354d643f05493181e9be43e5e6f240",
      "f186d9e5ddb2442480303ba452d7fd06",
      "991189e4575e4b86818aac7fb84bce9b"
     ]
    },
    "id": "p76oIEk1mPsQ",
    "outputId": "69ac29ae-335e-4e41-9f3e-8c7e279ef538"
   },
   "outputs": [
    {
     "data": {
      "application/vnd.jupyter.widget-view+json": {
       "model_id": "bb739f80b4354baa851eb6b92b878b23",
       "version_major": 2,
       "version_minor": 0
      },
      "text/plain": [
       "Map:   0%|          | 0/5343 [00:00<?, ? examples/s]"
      ]
     },
     "metadata": {},
     "output_type": "display_data"
    },
    {
     "data": {
      "application/vnd.jupyter.widget-view+json": {
       "model_id": "4205f01082d549699a05d1a26a42959c",
       "version_major": 2,
       "version_minor": 0
      },
      "text/plain": [
       "Map:   0%|          | 0/1336 [00:00<?, ? examples/s]"
      ]
     },
     "metadata": {},
     "output_type": "display_data"
    }
   ],
   "source": [
    "tokenized_dataset = dataset.map(tokenize_and_align_labels, batched=True)"
   ]
  },
  {
   "cell_type": "code",
   "execution_count": 24,
   "metadata": {
    "id": "w2AYwFnAUX2d"
   },
   "outputs": [],
   "source": [
    "ex = tokenized_dataset['train'][1200]"
   ]
  },
  {
   "cell_type": "code",
   "execution_count": 25,
   "metadata": {
    "colab": {
     "base_uri": "https://localhost:8080/"
    },
    "id": "iuh7Ki1-H9x1",
    "outputId": "49a71037-ca57-443e-ed35-4cba217ae63b"
   },
   "outputs": [
    {
     "name": "stdout",
     "output_type": "stream",
     "text": [
      "[CLS] -100\n",
      "Su 0\n",
      "##mma 0\n",
      "##ry 0\n",
      "Imagine 0\n",
      "what 0\n",
      "you 0\n",
      "could 0\n",
      "do 0\n",
      "here 0\n",
      ". 0\n",
      "At 0\n",
      "Apple 0\n",
      ", 0\n",
      "new 0\n",
      "ideas 0\n",
      "have 0\n",
      "a 0\n",
      "way 0\n",
      "of 0\n",
      "becoming 0\n",
      "extraordinary 0\n",
      "products 0\n",
      ", 0\n",
      "services 0\n",
      ", 0\n",
      "and 0\n",
      "customer 0\n",
      "experiences 0\n",
      "very 0\n",
      "quickly 0\n",
      ". 0\n",
      "' 0\n",
      ", 0\n",
      "\" 0\n",
      "Bring 0\n",
      "passion 0\n",
      "and 0\n",
      "dedication 0\n",
      "to 0\n",
      "your 0\n",
      "job 0\n",
      "and 0\n",
      "there 0\n",
      "' 0\n",
      "s 0\n",
      "no 0\n",
      "telling 0\n",
      "what 0\n",
      "you 0\n",
      "could 0\n",
      "accomplish 0\n",
      "! 0\n",
      "\" 0\n",
      ", 0\n",
      "' 0\n",
      "Jo 0\n",
      "##in 0\n",
      "us 0\n",
      "to 0\n",
      "help 0\n",
      "deliver 0\n",
      "system 0\n",
      "design 0\n",
      "of 0\n",
      "next 0\n",
      "generation 0\n",
      "wireless 0\n",
      "solutions 0\n",
      "by 0\n",
      "groundbreaking 0\n",
      "AI 1\n",
      "/ 2\n",
      "M 2\n",
      "##L 2\n",
      "techniques 0\n",
      ". 0\n",
      "Do 0\n",
      "you 0\n",
      "love 0\n",
      "working 0\n",
      "on 0\n",
      "challenges 0\n",
      "that 0\n",
      "no 0\n",
      "one 0\n",
      "has 0\n",
      "solved 0\n",
      "yet 0\n",
      "? 0\n",
      "As 0\n",
      "a 0\n",
      "member 0\n",
      "of 0\n",
      "our 0\n",
      "dynamic 0\n",
      "R 0\n",
      "& 0\n",
      "D 0\n",
      "group 0\n",
      ", 0\n",
      "you 0\n",
      "will 0\n",
      "experience 0\n",
      "the 0\n",
      "unique 0\n",
      "and 0\n",
      "reward 0\n",
      "##ing 0\n",
      "opportunity 0\n",
      "to 0\n",
      "craft 0\n",
      "next 0\n",
      "generation 0\n",
      "wireless 0\n",
      "technologies 0\n",
      "that 0\n",
      "will 0\n",
      "generate 0\n",
      "deep 0\n",
      "impact 0\n",
      "on 0\n",
      "future 0\n",
      "Apple 0\n",
      "products 0\n",
      "and 0\n",
      "inspire 0\n",
      "global 0\n",
      "Apple 0\n",
      "’ 0\n",
      "s 0\n",
      "customers 0\n",
      "every 0\n",
      "single 0\n",
      "day 0\n",
      ". 0\n",
      "Wireless 0\n",
      "and 0\n",
      "AI 1\n",
      "/ 2\n",
      "M 2\n",
      "##L 2\n",
      "technologies 0\n",
      "have 0\n",
      "become 0\n",
      "a 0\n",
      "crucial 0\n",
      "part 0\n",
      "in 0\n",
      "all 0\n",
      "Apple 0\n",
      "devices 0\n",
      "that 0\n",
      "delight 0\n",
      "our 0\n",
      "customers 0\n",
      ". 0\n",
      "[SEP] -100\n"
     ]
    }
   ],
   "source": [
    "for i,j in zip([tokenizer.decode(i) for i in ex['input_ids']], ex['labels']):\n",
    "    print(i,j)"
   ]
  },
  {
   "cell_type": "markdown",
   "metadata": {
    "id": "KaSQ4m2JQ0fi"
   },
   "source": [
    "Now create a batch of examples using [DataCollatorWithPadding](https://huggingface.co/docs/transformers/main/en/main_classes/data_collator#transformers.DataCollatorWithPadding). It's more efficient to *dynamically pad* the sentences to the longest length in a batch during collation, instead of padding the whole dataset to the maximum length."
   ]
  },
  {
   "cell_type": "code",
   "execution_count": 26,
   "metadata": {
    "id": "9iY1DJv_Q0fi"
   },
   "outputs": [],
   "source": [
    "from transformers import DataCollatorForTokenClassification\n",
    "\n",
    "data_collator = DataCollatorForTokenClassification(tokenizer=tokenizer)"
   ]
  },
  {
   "cell_type": "markdown",
   "metadata": {
    "id": "BOJWB7TkQ0fi"
   },
   "source": [
    "## Evaluate"
   ]
  },
  {
   "cell_type": "markdown",
   "metadata": {
    "id": "Egt-aJhfQ0fi"
   },
   "source": [
    "Including a metric during training is often helpful for evaluating your model's performance. You can quickly load a evaluation method with the 🤗 [Evaluate](https://huggingface.co/docs/evaluate/index) library. For this task, load the [seqeval](https://huggingface.co/spaces/evaluate-metric/seqeval) framework (see the 🤗 Evaluate [quick tour](https://huggingface.co/docs/evaluate/a_quick_tour) to learn more about how to load and compute a metric). Seqeval actually produces several scores: precision, recall, F1, and accuracy."
   ]
  },
  {
   "cell_type": "code",
   "execution_count": 27,
   "metadata": {
    "colab": {
     "base_uri": "https://localhost:8080/"
    },
    "id": "b6IULrGUS6__",
    "outputId": "a2738f4a-5351-4f39-e0c9-a5782b9a4336"
   },
   "outputs": [
    {
     "name": "stdout",
     "output_type": "stream",
     "text": [
      "Looking in indexes: https://pypi.org/simple, https://us-python.pkg.dev/colab-wheels/public/simple/\n",
      "Requirement already satisfied: transformers in /usr/local/lib/python3.10/dist-packages (4.28.1)\n",
      "Requirement already satisfied: datasets in /usr/local/lib/python3.10/dist-packages (2.12.0)\n",
      "Requirement already satisfied: evaluate in /usr/local/lib/python3.10/dist-packages (0.4.0)\n",
      "Requirement already satisfied: seqeval in /usr/local/lib/python3.10/dist-packages (1.2.2)\n",
      "Requirement already satisfied: numpy>=1.17 in /usr/local/lib/python3.10/dist-packages (from transformers) (1.22.4)\n",
      "Requirement already satisfied: tqdm>=4.27 in /usr/local/lib/python3.10/dist-packages (from transformers) (4.65.0)\n",
      "Requirement already satisfied: filelock in /usr/local/lib/python3.10/dist-packages (from transformers) (3.12.0)\n",
      "Requirement already satisfied: regex!=2019.12.17 in /usr/local/lib/python3.10/dist-packages (from transformers) (2022.10.31)\n",
      "Requirement already satisfied: packaging>=20.0 in /usr/local/lib/python3.10/dist-packages (from transformers) (23.1)\n",
      "Requirement already satisfied: tokenizers!=0.11.3,<0.14,>=0.11.1 in /usr/local/lib/python3.10/dist-packages (from transformers) (0.13.3)\n",
      "Requirement already satisfied: pyyaml>=5.1 in /usr/local/lib/python3.10/dist-packages (from transformers) (6.0)\n",
      "Requirement already satisfied: requests in /usr/local/lib/python3.10/dist-packages (from transformers) (2.27.1)\n",
      "Requirement already satisfied: huggingface-hub<1.0,>=0.11.0 in /usr/local/lib/python3.10/dist-packages (from transformers) (0.14.1)\n",
      "Requirement already satisfied: multiprocess in /usr/local/lib/python3.10/dist-packages (from datasets) (0.70.14)\n",
      "Requirement already satisfied: aiohttp in /usr/local/lib/python3.10/dist-packages (from datasets) (3.8.4)\n",
      "Requirement already satisfied: pandas in /usr/local/lib/python3.10/dist-packages (from datasets) (1.5.3)\n",
      "Requirement already satisfied: dill<0.3.7,>=0.3.0 in /usr/local/lib/python3.10/dist-packages (from datasets) (0.3.6)\n",
      "Requirement already satisfied: pyarrow>=8.0.0 in /usr/local/lib/python3.10/dist-packages (from datasets) (9.0.0)\n",
      "Requirement already satisfied: xxhash in /usr/local/lib/python3.10/dist-packages (from datasets) (3.2.0)\n",
      "Requirement already satisfied: responses<0.19 in /usr/local/lib/python3.10/dist-packages (from datasets) (0.18.0)\n",
      "Requirement already satisfied: fsspec[http]>=2021.11.1 in /usr/local/lib/python3.10/dist-packages (from datasets) (2023.4.0)\n",
      "Requirement already satisfied: scikit-learn>=0.21.3 in /usr/local/lib/python3.10/dist-packages (from seqeval) (1.2.2)\n",
      "Requirement already satisfied: frozenlist>=1.1.1 in /usr/local/lib/python3.10/dist-packages (from aiohttp->datasets) (1.3.3)\n",
      "Requirement already satisfied: async-timeout<5.0,>=4.0.0a3 in /usr/local/lib/python3.10/dist-packages (from aiohttp->datasets) (4.0.2)\n",
      "Requirement already satisfied: multidict<7.0,>=4.5 in /usr/local/lib/python3.10/dist-packages (from aiohttp->datasets) (6.0.4)\n",
      "Requirement already satisfied: aiosignal>=1.1.2 in /usr/local/lib/python3.10/dist-packages (from aiohttp->datasets) (1.3.1)\n",
      "Requirement already satisfied: yarl<2.0,>=1.0 in /usr/local/lib/python3.10/dist-packages (from aiohttp->datasets) (1.9.2)\n",
      "Requirement already satisfied: attrs>=17.3.0 in /usr/local/lib/python3.10/dist-packages (from aiohttp->datasets) (23.1.0)\n",
      "Requirement already satisfied: charset-normalizer<4.0,>=2.0 in /usr/local/lib/python3.10/dist-packages (from aiohttp->datasets) (2.0.12)\n",
      "Requirement already satisfied: typing-extensions>=3.7.4.3 in /usr/local/lib/python3.10/dist-packages (from huggingface-hub<1.0,>=0.11.0->transformers) (4.5.0)\n",
      "Requirement already satisfied: urllib3<1.27,>=1.21.1 in /usr/local/lib/python3.10/dist-packages (from requests->transformers) (1.26.15)\n",
      "Requirement already satisfied: idna<4,>=2.5 in /usr/local/lib/python3.10/dist-packages (from requests->transformers) (3.4)\n",
      "Requirement already satisfied: certifi>=2017.4.17 in /usr/local/lib/python3.10/dist-packages (from requests->transformers) (2022.12.7)\n",
      "Requirement already satisfied: scipy>=1.3.2 in /usr/local/lib/python3.10/dist-packages (from scikit-learn>=0.21.3->seqeval) (1.10.1)\n",
      "Requirement already satisfied: joblib>=1.1.1 in /usr/local/lib/python3.10/dist-packages (from scikit-learn>=0.21.3->seqeval) (1.2.0)\n",
      "Requirement already satisfied: threadpoolctl>=2.0.0 in /usr/local/lib/python3.10/dist-packages (from scikit-learn>=0.21.3->seqeval) (3.1.0)\n",
      "Requirement already satisfied: pytz>=2020.1 in /usr/local/lib/python3.10/dist-packages (from pandas->datasets) (2022.7.1)\n",
      "Requirement already satisfied: python-dateutil>=2.8.1 in /usr/local/lib/python3.10/dist-packages (from pandas->datasets) (2.8.2)\n",
      "Requirement already satisfied: six>=1.5 in /usr/local/lib/python3.10/dist-packages (from python-dateutil>=2.8.1->pandas->datasets) (1.16.0)\n"
     ]
    }
   ],
   "source": [
    "!pip install transformers datasets evaluate seqeval"
   ]
  },
  {
   "cell_type": "code",
   "execution_count": 28,
   "metadata": {
    "id": "jNm7d14RQ0fj"
   },
   "outputs": [],
   "source": [
    "import evaluate\n",
    "\n",
    "seqeval = evaluate.load(\"seqeval\")"
   ]
  },
  {
   "cell_type": "markdown",
   "metadata": {
    "id": "9IJxp-r4Q0fj"
   },
   "source": [
    "Get the NER labels first, and then create a function that passes your true predictions and true labels to [compute](https://huggingface.co/docs/evaluate/main/en/package_reference/main_classes#evaluate.EvaluationModule.compute) to calculate the scores:"
   ]
  },
  {
   "cell_type": "code",
   "execution_count": 29,
   "metadata": {
    "id": "WE9T5C8bTGFs"
   },
   "outputs": [],
   "source": [
    "label_list = [\"O\", \"B\", \"I\"]"
   ]
  },
  {
   "cell_type": "code",
   "execution_count": 30,
   "metadata": {
    "id": "VZ3DTa_WQ0fj"
   },
   "outputs": [],
   "source": [
    "import numpy as np\n",
    "from sklearn.metrics import confusion_matrix\n",
    "import seaborn as sns\n",
    "import matplotlib.pyplot as plt\n",
    "\n",
    "labels = [label_list[i] for i in example[\"ner_tags\"]]\n",
    "\n",
    "\n",
    "def compute_metrics(p):\n",
    "    predictions, labels = p\n",
    "    predictions = np.argmax(predictions, axis=2)\n",
    "\n",
    "    true_predictions = [\n",
    "        [label_list[p] for (p, l) in zip(prediction, label) if l != -100]\n",
    "        for prediction, label in zip(predictions, labels)\n",
    "    ]\n",
    "    true_labels = [\n",
    "        [label_list[l] for (p, l) in zip(prediction, label) if l != -100]\n",
    "        for prediction, label in zip(predictions, labels)\n",
    "    ]\n",
    "\n",
    "    # Flatten the true labels and predictions lists\n",
    "    true_labels_flat = [item for sublist in true_labels for item in sublist]\n",
    "    true_predictions_flat = [item for sublist in true_predictions for item in sublist]\n",
    "\n",
    "    # Compute the confusion matrix\n",
    "    cm = confusion_matrix(true_labels_flat, true_predictions_flat, labels=label_list)\n",
    "\n",
    "    # Create a heatmap to visualize the confusion matrix\n",
    "    sns.heatmap(cm, annot=True, fmt=\"d\", xticklabels=label_list, yticklabels=label_list)\n",
    "\n",
    "    # Show the plot\n",
    "    plt.show()\n",
    "\n",
    "    results = seqeval.compute(predictions=true_predictions, references=true_labels)\n",
    "    return {\n",
    "        \"precision\": results[\"overall_precision\"],\n",
    "        \"recall\": results[\"overall_recall\"],\n",
    "        \"f1\": results[\"overall_f1\"],\n",
    "        \"accuracy\": results[\"overall_accuracy\"],\n",
    "    }"
   ]
  },
  {
   "cell_type": "markdown",
   "metadata": {
    "id": "00TUyBEXQ0fj"
   },
   "source": [
    "Your `compute_metrics` function is ready to go now, and you'll return to it when you setup your training."
   ]
  },
  {
   "cell_type": "markdown",
   "metadata": {
    "id": "1L4UCQpZQ0fj"
   },
   "source": [
    "## Train"
   ]
  },
  {
   "cell_type": "markdown",
   "metadata": {
    "id": "WWrrfRm4Q0fj"
   },
   "source": [
    "Before you start training your model, create a map of the expected ids to their labels with `id2label` and `label2id`:"
   ]
  },
  {
   "cell_type": "code",
   "execution_count": 31,
   "metadata": {
    "id": "xd7dENQOQ0fj"
   },
   "outputs": [],
   "source": [
    "id2label = {\n",
    "    0: \"O\",\n",
    "    1: \"B\",\n",
    "    2: \"I\",\n",
    "}\n",
    "label2id = {\n",
    "    \"O\": 0,\n",
    "    \"B\": 1,\n",
    "    \"I\": 2,\n",
    "}"
   ]
  },
  {
   "cell_type": "markdown",
   "metadata": {
    "id": "PyStU9M4Q0fj"
   },
   "source": [
    "<Tip>\n",
    "\n",
    "If you aren't familiar with finetuning a model with the [Trainer](https://huggingface.co/docs/transformers/main/en/main_classes/trainer#transformers.Trainer), take a look at the basic tutorial [here](https://huggingface.co/docs/transformers/main/en/tasks/../training#train-with-pytorch-trainer)!\n",
    "\n",
    "</Tip>\n",
    "\n",
    "You're ready to start training your model now! Load DistilBERT with [AutoModelForTokenClassification](https://huggingface.co/docs/transformers/main/en/model_doc/auto#transformers.AutoModelForTokenClassification) along with the number of expected labels, and the label mappings:"
   ]
  },
  {
   "cell_type": "code",
   "execution_count": 32,
   "metadata": {
    "colab": {
     "base_uri": "https://localhost:8080/"
    },
    "id": "tdE2ezDlQ0fj",
    "outputId": "74696c30-d659-481a-a580-3eb55e21d84c"
   },
   "outputs": [
    {
     "name": "stderr",
     "output_type": "stream",
     "text": [
      "Some weights of the model checkpoint at bert-base-cased were not used when initializing BertForTokenClassification: ['cls.predictions.transform.LayerNorm.weight', 'cls.predictions.transform.dense.bias', 'cls.predictions.transform.LayerNorm.bias', 'cls.seq_relationship.weight', 'cls.seq_relationship.bias', 'cls.predictions.bias', 'cls.predictions.transform.dense.weight', 'cls.predictions.decoder.weight']\n",
      "- This IS expected if you are initializing BertForTokenClassification from the checkpoint of a model trained on another task or with another architecture (e.g. initializing a BertForSequenceClassification model from a BertForPreTraining model).\n",
      "- This IS NOT expected if you are initializing BertForTokenClassification from the checkpoint of a model that you expect to be exactly identical (initializing a BertForSequenceClassification model from a BertForSequenceClassification model).\n",
      "Some weights of BertForTokenClassification were not initialized from the model checkpoint at bert-base-cased and are newly initialized: ['classifier.bias', 'classifier.weight']\n",
      "You should probably TRAIN this model on a down-stream task to be able to use it for predictions and inference.\n"
     ]
    }
   ],
   "source": [
    "from transformers import AutoModelForTokenClassification, TrainingArguments, Trainer\n",
    "\n",
    "model = AutoModelForTokenClassification.from_pretrained(\n",
    "    \"bert-base-cased\", num_labels=3, id2label=id2label, label2id=label2id\n",
    ")"
   ]
  },
  {
   "cell_type": "markdown",
   "metadata": {
    "id": "EvER_Ww-Q0fj"
   },
   "source": [
    "At this point, only three steps remain:\n",
    "\n",
    "1. Define your training hyperparameters in [TrainingArguments](https://huggingface.co/docs/transformers/main/en/main_classes/trainer#transformers.TrainingArguments). The only required parameter is `output_dir` which specifies where to save your model. You'll push this model to the Hub by setting `push_to_hub=True` (you need to be signed in to Hugging Face to upload your model). At the end of each epoch, the [Trainer](https://huggingface.co/docs/transformers/main/en/main_classes/trainer#transformers.Trainer) will evaluate the seqeval scores and save the training checkpoint.\n",
    "2. Pass the training arguments to [Trainer](https://huggingface.co/docs/transformers/main/en/main_classes/trainer#transformers.Trainer) along with the model, dataset, tokenizer, data collator, and `compute_metrics` function.\n",
    "3. Call [train()](https://huggingface.co/docs/transformers/main/en/main_classes/trainer#transformers.Trainer.train) to finetune your model."
   ]
  },
  {
   "cell_type": "code",
   "execution_count": 45,
   "metadata": {
    "colab": {
     "base_uri": "https://localhost:8080/",
     "height": 1000
    },
    "id": "SF-EYKeEQ0fj",
    "outputId": "4fbd3eb9-63de-4634-949f-219133bf3d25"
   },
   "outputs": [
    {
     "name": "stderr",
     "output_type": "stream",
     "text": [
      "/usr/local/lib/python3.10/dist-packages/transformers/optimization.py:391: FutureWarning: This implementation of AdamW is deprecated and will be removed in a future version. Use the PyTorch implementation torch.optim.AdamW instead, or set `no_deprecation_warning=True` to disable this warning\n",
      "  warnings.warn(\n"
     ]
    },
    {
     "data": {
      "text/html": [
       "\n",
       "    <div>\n",
       "      \n",
       "      <progress value='2672' max='2672' style='width:300px; height:20px; vertical-align: middle;'></progress>\n",
       "      [2672/2672 12:05, Epoch 2/2]\n",
       "    </div>\n",
       "    <table border=\"1\" class=\"dataframe\">\n",
       "  <thead>\n",
       " <tr style=\"text-align: left;\">\n",
       "      <th>Epoch</th>\n",
       "      <th>Training Loss</th>\n",
       "      <th>Validation Loss</th>\n",
       "      <th>Precision</th>\n",
       "      <th>Recall</th>\n",
       "      <th>F1</th>\n",
       "      <th>Accuracy</th>\n",
       "    </tr>\n",
       "  </thead>\n",
       "  <tbody>\n",
       "    <tr>\n",
       "      <td>1</td>\n",
       "      <td>0.044200</td>\n",
       "      <td>0.051166</td>\n",
       "      <td>0.445159</td>\n",
       "      <td>0.491907</td>\n",
       "      <td>0.467367</td>\n",
       "      <td>0.980860</td>\n",
       "    </tr>\n",
       "    <tr>\n",
       "      <td>2</td>\n",
       "      <td>0.034000</td>\n",
       "      <td>0.046590</td>\n",
       "      <td>0.509450</td>\n",
       "      <td>0.478879</td>\n",
       "      <td>0.493691</td>\n",
       "      <td>0.983747</td>\n",
       "    </tr>\n",
       "  </tbody>\n",
       "</table><p>"
      ],
      "text/plain": [
       "<IPython.core.display.HTML object>"
      ]
     },
     "metadata": {},
     "output_type": "display_data"
    },
    {
     "data": {
      "image/png": "[encoded data removed]",
      "text/plain": [
       "<Figure size 640x480 with 2 Axes>"
      ]
     },
     "metadata": {},
     "output_type": "display_data"
    },
    {
     "data": {
      "image/png": "[encoded data removed]",
      "text/plain": [
       "<Figure size 640x480 with 2 Axes>"
      ]
     },
     "metadata": {},
     "output_type": "display_data"
    },
    {
     "data": {
      "text/plain": [
       "TrainOutput(global_step=2672, training_loss=0.04031095444085355, metrics={'train_runtime': 726.0484, 'train_samples_per_second': 14.718, 'train_steps_per_second': 3.68, 'total_flos': 1573880126140008.0, 'train_loss': 0.04031095444085355, 'epoch': 2.0})"
      ]
     },
     "execution_count": 45,
     "metadata": {},
     "output_type": "execute_result"
    }
   ],
   "source": [
    "training_args = TrainingArguments(\n",
    "    output_dir=\"skill_extract_model\",\n",
    "    learning_rate=2e-5,\n",
    "    per_device_train_batch_size=4,\n",
    "    per_device_eval_batch_size=4,\n",
    "    num_train_epochs=2,\n",
    "    weight_decay=0.01,\n",
    "    evaluation_strategy=\"epoch\",\n",
    "    save_strategy=\"epoch\",\n",
    "    load_best_model_at_end=True,\n",
    "    # push_to_hub=True,\n",
    ")\n",
    "\n",
    "trainer = Trainer(\n",
    "    model=model,\n",
    "    args=training_args,\n",
    "    train_dataset=tokenized_dataset[\"train\"],\n",
    "    eval_dataset=tokenized_dataset[\"validation\"],\n",
    "    tokenizer=tokenizer,\n",
    "    data_collator=data_collator,\n",
    "    compute_metrics=compute_metrics,\n",
    ")\n",
    "\n",
    "trainer.train()"
   ]
  },
  {
   "cell_type": "markdown",
   "metadata": {
    "id": "TSxCtFe8Q0fj"
   },
   "source": [
    "Once training is completed, share your model to the Hub with the [push_to_hub()](https://huggingface.co/docs/transformers/main/en/main_classes/trainer#transformers.Trainer.push_to_hub) method so everyone can use your model:"
   ]
  },
  {
   "cell_type": "code",
   "execution_count": 34,
   "metadata": {
    "id": "MAy8cST2Q0fj"
   },
   "outputs": [],
   "source": [
    "# trainer.push_to_hub() "
   ]
  },
  {
   "cell_type": "code",
   "execution_count": 35,
   "metadata": {
    "id": "dUoZN1U8cHHv"
   },
   "outputs": [],
   "source": [
    "# trainer.dataset[\"validation\"]"
   ]
  },
  {
   "cell_type": "markdown",
   "metadata": {
    "id": "rzEjuBgeQ0fj"
   },
   "source": [
    "<Tip>\n",
    "\n",
    "For a more in-depth example of how to finetune a model for token classification, take a look at the corresponding\n",
    "[PyTorch notebook](https://colab.research.google.com/github/huggingface/notebooks/blob/main/examples/token_classification.ipynb)\n",
    "or [TensorFlow notebook](https://colab.research.google.com/github/huggingface/notebooks/blob/main/examples/token_classification-tf.ipynb).\n",
    "\n",
    "</Tip>"
   ]
  },
  {
   "cell_type": "markdown",
   "metadata": {
    "id": "8oAXUaILQ0fj"
   },
   "source": [
    "## Inference"
   ]
  },
  {
   "cell_type": "markdown",
   "metadata": {
    "id": "2q7ZImk8Q0fj"
   },
   "source": [
    "Great, now that you've finetuned a model, you can use it for inference!\n",
    "\n",
    "Grab some text you'd like to run inference on:"
   ]
  },
  {
   "cell_type": "code",
   "execution_count": 46,
   "metadata": {
    "id": "KpeZil_-Q0fj"
   },
   "outputs": [],
   "source": [
    "text = 'We need someone who is good at Python and Java and C and knows .Net too.'\n",
    "text2 = ['Good with Machine Learning. Excellent Azure knowledge.','Good with Python and NLP']\n",
    "# sents = ['We need someone who is good at Python and Java.',\n",
    "#          'Good with machine learning. Excellent Azure knowledge. Good with data science and NLP',]"
   ]
  },
  {
   "cell_type": "markdown",
   "metadata": {
    "id": "Ao_JSvQrQ0fj"
   },
   "source": [
    "The simplest way to try out your finetuned model for inference is to use it in a [pipeline()](https://huggingface.co/docs/transformers/main/en/main_classes/pipelines#transformers.pipeline). Instantiate a `pipeline` for NER with your model, and pass your text to it:"
   ]
  },
  {
   "cell_type": "code",
   "execution_count": 47,
   "metadata": {
    "colab": {
     "base_uri": "https://localhost:8080/",
     "height": 37
    },
    "id": "OmXQ37emK6Qy",
    "outputId": "003937fc-314f-42cc-a35d-2c6b8df51e5c"
   },
   "outputs": [
    {
     "data": {
      "application/vnd.google.colaboratory.intrinsic+json": {
       "type": "string"
      },
      "text/plain": [
       "'public cloud, Cloud Engineer, Cloud, Cloud Security, Go, Python'"
      ]
     },
     "execution_count": 47,
     "metadata": {},
     "output_type": "execute_result"
    }
   ],
   "source": [
    "ex2 = tokenized_dataset['validation'][369]\n",
    "ex2['skills']"
   ]
  },
  {
   "cell_type": "code",
   "execution_count": 48,
   "metadata": {
    "colab": {
     "base_uri": "https://localhost:8080/"
    },
    "id": "T3hIqxE1Lc71",
    "outputId": "83c4d269-11fe-4803-8788-e8329dc408e2"
   },
   "outputs": [
    {
     "name": "stdout",
     "output_type": "stream",
     "text": [
      "[CLS] -100\n",
      "The 0\n",
      "Cloud 1\n",
      "Engineer 2\n",
      "will 0\n",
      "contribute 0\n",
      "to 0\n",
      "the 0\n",
      "design 0\n",
      "and 0\n",
      "implementation 0\n",
      "of 0\n",
      "these 0\n",
      "systems 0\n",
      ", 0\n",
      "with 0\n",
      "a 0\n",
      "primary 0\n",
      "focus 0\n",
      "on 0\n",
      "public 1\n",
      "cloud 2\n",
      ", 0\n",
      "including 0\n",
      "the 0\n",
      "integration 0\n",
      "of 0\n",
      "cloud 0\n",
      "with 0\n",
      "on 0\n",
      "- 0\n",
      "premises 0\n",
      "systems 0\n",
      ". 0\n",
      "You 0\n",
      "’ 0\n",
      "ll 0\n",
      "work 0\n",
      "on 0\n",
      "systems 0\n",
      "to 0\n",
      "auto 0\n",
      "##mate 0\n",
      "the 0\n",
      "management 0\n",
      "of 0\n",
      "the 0\n",
      "public 1\n",
      "cloud 2\n",
      "infrastructure 0\n",
      ", 0\n",
      "advise 0\n",
      "developers 0\n",
      "and 0\n",
      "peer 0\n",
      "teams 0\n",
      "on 0\n",
      "best 0\n",
      "practices 0\n",
      ", 0\n",
      "and 0\n",
      "interpret 0\n",
      "and 0\n",
      "enforce 0\n",
      "the 0\n",
      "firm 0\n",
      "’ 0\n",
      "s 0\n",
      "security 0\n",
      "policy 0\n",
      ". 0\n",
      "The 0\n",
      "ideal 0\n",
      "Cloud 1\n",
      "Security 2\n",
      "Engineer 0\n",
      "will 0\n",
      "have 0\n",
      ": 0\n",
      "A 0\n",
      "degree 0\n",
      "form 0\n",
      "a 0\n",
      "top 0\n",
      "institution 0\n",
      "##E 0\n",
      "##x 0\n",
      "##tensive 0\n",
      "knowledge 0\n",
      "of 0\n",
      "modern 0\n",
      "cloud 0\n",
      "environments 0\n",
      "( 0\n",
      "I 0\n",
      "##dea 0\n",
      "##lly 0\n",
      "A 0\n",
      "##WS 0\n",
      "but 0\n",
      "others 0\n",
      "considered 0\n",
      ") 0\n",
      ", 0\n",
      "including 0\n",
      "their 0\n",
      "security 0\n",
      "properties 0\n",
      ", 0\n",
      "constraints 0\n",
      ", 0\n",
      "and 0\n",
      "the 0\n",
      "trade 0\n",
      "##offs 0\n",
      "between 0\n",
      "different 0\n",
      "deployment 0\n",
      "options 0\n",
      ", 0\n",
      "is 0\n",
      "required 0\n",
      ", 0\n",
      "as 0\n",
      "is 0\n",
      "a 0\n",
      "knowledge 0\n",
      "of 0\n",
      "operating 0\n",
      "systems 0\n",
      ", 0\n",
      "networking 0\n",
      ", 0\n",
      "and 0\n",
      "infrastructure 0\n",
      "as 0\n",
      "code 0\n",
      "( 0\n",
      "e 0\n",
      ". 0\n",
      "g 0\n",
      ". 0\n",
      ", 0\n",
      "Terra 0\n",
      "##form 0\n",
      ") 0\n",
      ". 0\n",
      "Prof 0\n",
      "##iciency 0\n",
      "in 0\n",
      "coding 0\n",
      "infrastructure 0\n",
      "products 0\n",
      "in 0\n",
      "Python 1\n",
      ", 0\n",
      "Go 1\n",
      ", 0\n",
      "or 0\n",
      "a 0\n",
      "similar 0\n",
      "language 0\n",
      "is 0\n",
      "required 0\n",
      ". 0\n",
      "Previous 0\n",
      "experience 0\n",
      "with 0\n",
      "the 0\n",
      "design 0\n",
      "and 0\n",
      "maintenance 0\n",
      "of 0\n",
      "mid 0\n",
      "- 0\n",
      "size 0\n",
      "cloud 0\n",
      "deployment 0\n",
      "##s 0\n",
      "( 0\n",
      "hundreds 0\n",
      "to 0\n",
      "thousands 0\n",
      "of 0\n",
      "nodes 0\n",
      ") 0\n",
      "is 0\n",
      "essential 0\n",
      ". 0\n",
      "In 0\n",
      "- 0\n",
      "depth 0\n",
      "knowledge 0\n",
      "of 0\n",
      "storage 0\n",
      "and 0\n",
      "networking 0\n",
      "configuration 0\n",
      "options 0\n",
      "available 0\n",
      "from 0\n",
      "different 0\n",
      "cloud 0\n",
      "providers 0\n",
      "is 0\n",
      "a 0\n",
      "pre 0\n",
      "##re 0\n",
      "##quisite 0\n",
      ". 0\n",
      "[SEP] -100\n"
     ]
    }
   ],
   "source": [
    "for i,j in zip([tokenizer.decode(i) for i in ex2['input_ids']], ex2['labels']):\n",
    "    print(i,j)"
   ]
  },
  {
   "cell_type": "code",
   "execution_count": 51,
   "metadata": {
    "colab": {
     "base_uri": "https://localhost:8080/"
    },
    "id": "I5mZ0qcPQ0fj",
    "outputId": "5c44e1a6-40f4-4bf0-a879-81022a8d8e6b"
   },
   "outputs": [
    {
     "data": {
      "text/plain": [
       "[{'entity': 'B',\n",
       "  'score': 0.8795693,\n",
       "  'index': 2,\n",
       "  'word': 'Cloud',\n",
       "  'start': 4,\n",
       "  'end': 9},\n",
       " {'entity': 'I',\n",
       "  'score': 0.8595094,\n",
       "  'index': 3,\n",
       "  'word': 'Engineer',\n",
       "  'start': 10,\n",
       "  'end': 18},\n",
       " {'entity': 'B',\n",
       "  'score': 0.85775924,\n",
       "  'index': 97,\n",
       "  'word': 'A',\n",
       "  'start': 508,\n",
       "  'end': 509},\n",
       " {'entity': 'I',\n",
       "  'score': 0.8512836,\n",
       "  'index': 98,\n",
       "  'word': '##WS',\n",
       "  'start': 509,\n",
       "  'end': 511},\n",
       " {'entity': 'B',\n",
       "  'score': 0.95142895,\n",
       "  'index': 154,\n",
       "  'word': 'Python',\n",
       "  'start': 801,\n",
       "  'end': 807},\n",
       " {'entity': 'B',\n",
       "  'score': 0.9194241,\n",
       "  'index': 156,\n",
       "  'word': 'Go',\n",
       "  'start': 809,\n",
       "  'end': 811}]"
      ]
     },
     "execution_count": 51,
     "metadata": {},
     "output_type": "execute_result"
    }
   ],
   "source": [
    "from transformers import pipeline\n",
    "\n",
    "classifier = pipeline(\"ner\", model=\"/content/skill_extract_model/checkpoint-2672\")\n",
    "classifier(ex2['job_desc'])"
   ]
  },
  {
   "cell_type": "code",
   "execution_count": 52,
   "metadata": {
    "id": "g0LX92SGhH1Q"
   },
   "outputs": [],
   "source": [
    "def extract_entities(bio_result):\n",
    "    entity = ''\n",
    "    entities = []\n",
    "    flag = 0\n",
    "    for i in bio_result:\n",
    "        if i['entity'] == 'I' and flag == 1:\n",
    "            entity += i['word'].replace(\" ##\", \"\").replace(\"##\", \"\")\n",
    "        elif i[\"entity\"] == 'B':\n",
    "            if entity != '':\n",
    "                entities.append(entity)\n",
    "            entity = ''\n",
    "            flag = 1\n",
    "            entity = i['word'].replace(\" ##\", \"\").replace(\"##\", \"\")\n",
    "        else:\n",
    "            flag = 0\n",
    "            if entity != '':\n",
    "                entities.append(entity)\n",
    "            entity = ''\n",
    "\n",
    "    if entity != '':\n",
    "                entities.append(entity)\n",
    "    return entities"
   ]
  },
  {
   "cell_type": "code",
   "execution_count": 53,
   "metadata": {
    "colab": {
     "base_uri": "https://localhost:8080/"
    },
    "id": "rBnIq7fTiLBt",
    "outputId": "cf22c863-b754-43cb-ed2f-83e76664c3fe"
   },
   "outputs": [
    {
     "data": {
      "text/plain": [
       "['CloudEngineer', 'AWS', 'Python', 'Go']"
      ]
     },
     "execution_count": 53,
     "metadata": {},
     "output_type": "execute_result"
    }
   ],
   "source": [
    "extract_entities(classifier(ex2['job_desc']))\n",
    "# classifier(text2)[0]"
   ]
  },
  {
   "cell_type": "code",
   "execution_count": 54,
   "metadata": {
    "colab": {
     "base_uri": "https://localhost:8080/"
    },
    "id": "-utm0TjpdxQo",
    "outputId": "0c0e073e-8e63-466c-e66e-4b27af7b9568"
   },
   "outputs": [
    {
     "data": {
      "text/plain": [
       "3248                                                  SQL\n",
       "4602                                                  AWS\n",
       "5952    Data Science, Medidata, data science, SQL, Mat...\n",
       "1562                                        Web Developer\n",
       "1617                                                  NaN\n",
       "                              ...                        \n",
       "807                                    data science, data\n",
       "462                                    front-end, Sunroom\n",
       "879                                  Information Security\n",
       "5493               Cyber Security, Enterprise Engineering\n",
       "3326                                                  NaN\n",
       "Name: skills, Length: 1336, dtype: object"
      ]
     },
     "execution_count": 54,
     "metadata": {},
     "output_type": "execute_result"
    }
   ],
   "source": [
    "val_df[\"skills\"]"
   ]
  },
  {
   "cell_type": "code",
   "execution_count": 55,
   "metadata": {
    "colab": {
     "base_uri": "https://localhost:8080/"
    },
    "id": "6B9Jt416dCLe",
    "outputId": "dd4ad958-d9a5-4282-a014-8f4d037e3e8b"
   },
   "outputs": [
    {
     "name": "stderr",
     "output_type": "stream",
     "text": [
      "100%|██████████| 1336/1336 [14:30<00:00,  1.54it/s]\n"
     ]
    }
   ],
   "source": [
    "from tqdm import tqdm\n",
    "\n",
    "preds = []\n",
    "for i in tqdm(val_df[\"job_desc\"].tolist()):\n",
    "    preds.append(classifier(i))\n"
   ]
  },
  {
   "cell_type": "code",
   "execution_count": 61,
   "metadata": {
    "id": "qAnUlHrvxWbe"
   },
   "outputs": [],
   "source": [
    "gold = val_df[\"skills\"].tolist()"
   ]
  },
  {
   "cell_type": "code",
   "execution_count": 62,
   "metadata": {
    "id": "wAkUdMC5klwj"
   },
   "outputs": [],
   "source": [
    "def evaluate(gold, pred):\n",
    "    gold_count = 0\n",
    "    pred_count = 0\n",
    "    TP = 0\n",
    "    for i,j in zip(gold, pred):\n",
    "        if type(i) != str:\n",
    "            i = set()\n",
    "        else:\n",
    "            i = set([s.strip().replace(\" \", \"\") for s in i.split(',')])\n",
    "        j = set(j)\n",
    "        TP += len(i.intersection(j))\n",
    "        gold_count += len(i)\n",
    "        pred_count += len(j)\n",
    "    prec = TP / pred_count\n",
    "    recall = TP / gold_count\n",
    "    f1 = 2 * prec * recall / (prec + recall)\n",
    "    return prec, recall, f1"
   ]
  },
  {
   "cell_type": "code",
   "execution_count": 63,
   "metadata": {
    "colab": {
     "base_uri": "https://localhost:8080/"
    },
    "id": "mS-PjaBznAY8",
    "outputId": "b8f083d2-3d1d-48c2-8988-c5b217e5af94"
   },
   "outputs": [
    {
     "data": {
      "text/plain": [
       "(0.5042892156862745, 0.40803173029251366, 0.4510824883529734)"
      ]
     },
     "execution_count": 63,
     "metadata": {},
     "output_type": "execute_result"
    }
   ],
   "source": [
    "evaluate(gold, predictions)"
   ]
  },
  {
   "cell_type": "code",
   "execution_count": null,
   "metadata": {
    "id": "VmonpdD-fOAl"
   },
   "outputs": [],
   "source": []
  }
 ],
 "metadata": {
  "accelerator": "GPU",
  "colab": {
   "provenance": []
  },
  "gpuClass": "standard",
  "kernelspec": {
   "display_name": "Python 3 (ipykernel)",
   "language": "python",
   "name": "python3"
  },
  "language_info": {
   "codemirror_mode": {
    "name": "ipython",
    "version": 3
   },
   "file_extension": ".py",
   "mimetype": "text/x-python",
   "name": "python",
   "nbconvert_exporter": "python",
   "pygments_lexer": "ipython3",
   "version": "3.10.8"
  },
  "widgets": {
   "application/vnd.jupyter.widget-state+json": {
    "09600afae88548049eb69e2eccce09ec": {
     "model_module": "@jupyter-widgets/base",
     "model_module_version": "1.2.0",
     "model_name": "LayoutModel",
     "state": {
      "_model_module": "@jupyter-widgets/base",
      "_model_module_version": "1.2.0",
      "_model_name": "LayoutModel",
      "_view_count": null,
      "_view_module": "@jupyter-widgets/base",
      "_view_module_version": "1.2.0",
      "_view_name": "LayoutView",
      "align_content": null,
      "align_items": null,
      "align_self": null,
      "border": null,
      "bottom": null,
      "display": null,
      "flex": null,
      "flex_flow": null,
      "grid_area": null,
      "grid_auto_columns": null,
      "grid_auto_flow": null,
      "grid_auto_rows": null,
      "grid_column": null,
      "grid_gap": null,
      "grid_row": null,
      "grid_template_areas": null,
      "grid_template_columns": null,
      "grid_template_rows": null,
      "height": null,
      "justify_content": null,
      "justify_items": null,
      "left": null,
      "margin": null,
      "max_height": null,
      "max_width": null,
      "min_height": null,
      "min_width": null,
      "object_fit": null,
      "object_position": null,
      "order": null,
      "overflow": null,
      "overflow_x": null,
      "overflow_y": null,
      "padding": null,
      "right": null,
      "top": null,
      "visibility": null,
      "width": null
     }
    },
    "0d2a0779db1145f38a547c6ce76307aa": {
     "model_module": "@jupyter-widgets/controls",
     "model_module_version": "1.5.0",
     "model_name": "HTMLModel",
     "state": {
      "_dom_classes": [],
      "_model_module": "@jupyter-widgets/controls",
      "_model_module_version": "1.5.0",
      "_model_name": "HTMLModel",
      "_view_count": null,
      "_view_module": "@jupyter-widgets/controls",
      "_view_module_version": "1.5.0",
      "_view_name": "HTMLView",
      "description": "",
      "description_tooltip": null,
      "layout": "IPY_MODEL_157945539bf94deaafdebf7cb8aa19cb",
      "placeholder": "​",
      "style": "IPY_MODEL_49ee8072352346818ca1c7c6dd14723b",
      "value": "100%"
     }
    },
    "157945539bf94deaafdebf7cb8aa19cb": {
     "model_module": "@jupyter-widgets/base",
     "model_module_version": "1.2.0",
     "model_name": "LayoutModel",
     "state": {
      "_model_module": "@jupyter-widgets/base",
      "_model_module_version": "1.2.0",
      "_model_name": "LayoutModel",
      "_view_count": null,
      "_view_module": "@jupyter-widgets/base",
      "_view_module_version": "1.2.0",
      "_view_name": "LayoutView",
      "align_content": null,
      "align_items": null,
      "align_self": null,
      "border": null,
      "bottom": null,
      "display": null,
      "flex": null,
      "flex_flow": null,
      "grid_area": null,
      "grid_auto_columns": null,
      "grid_auto_flow": null,
      "grid_auto_rows": null,
      "grid_column": null,
      "grid_gap": null,
      "grid_row": null,
      "grid_template_areas": null,
      "grid_template_columns": null,
      "grid_template_rows": null,
      "height": null,
      "justify_content": null,
      "justify_items": null,
      "left": null,
      "margin": null,
      "max_height": null,
      "max_width": null,
      "min_height": null,
      "min_width": null,
      "object_fit": null,
      "object_position": null,
      "order": null,
      "overflow": null,
      "overflow_x": null,
      "overflow_y": null,
      "padding": null,
      "right": null,
      "top": null,
      "visibility": null,
      "width": null
     }
    },
    "1e80e8605cc4477e92f5b7133d6a1ac2": {
     "model_module": "@jupyter-widgets/controls",
     "model_module_version": "1.5.0",
     "model_name": "DescriptionStyleModel",
     "state": {
      "_model_module": "@jupyter-widgets/controls",
      "_model_module_version": "1.5.0",
      "_model_name": "DescriptionStyleModel",
      "_view_count": null,
      "_view_module": "@jupyter-widgets/base",
      "_view_module_version": "1.2.0",
      "_view_name": "StyleView",
      "description_width": ""
     }
    },
    "297048d3df0646e88df996f4292e2de6": {
     "model_module": "@jupyter-widgets/controls",
     "model_module_version": "1.5.0",
     "model_name": "FloatProgressModel",
     "state": {
      "_dom_classes": [],
      "_model_module": "@jupyter-widgets/controls",
      "_model_module_version": "1.5.0",
      "_model_name": "FloatProgressModel",
      "_view_count": null,
      "_view_module": "@jupyter-widgets/controls",
      "_view_module_version": "1.5.0",
      "_view_name": "ProgressView",
      "bar_style": "",
      "description": "",
      "description_tooltip": null,
      "layout": "IPY_MODEL_58e9bd88712b49a4ba4b21d2ae073776",
      "max": 1336,
      "min": 0,
      "orientation": "horizontal",
      "style": "IPY_MODEL_a0354d643f05493181e9be43e5e6f240",
      "value": 1336
     }
    },
    "2f1dfacdea4246b3a76e5ac668eebef5": {
     "model_module": "@jupyter-widgets/controls",
     "model_module_version": "1.5.0",
     "model_name": "HBoxModel",
     "state": {
      "_dom_classes": [],
      "_model_module": "@jupyter-widgets/controls",
      "_model_module_version": "1.5.0",
      "_model_name": "HBoxModel",
      "_view_count": null,
      "_view_module": "@jupyter-widgets/controls",
      "_view_module_version": "1.5.0",
      "_view_name": "HBoxView",
      "box_style": "",
      "children": [
       "IPY_MODEL_0d2a0779db1145f38a547c6ce76307aa",
       "IPY_MODEL_4d8876ea811449428c412ca6c4d395ab",
       "IPY_MODEL_880a6a3d0d5249afa0984f362bcf145c"
      ],
      "layout": "IPY_MODEL_938c76e1e3da465987e9b84585d07cd2"
     }
    },
    "38cbb0fbfdbf4c06bd828d7eec15cf43": {
     "model_module": "@jupyter-widgets/controls",
     "model_module_version": "1.5.0",
     "model_name": "ProgressStyleModel",
     "state": {
      "_model_module": "@jupyter-widgets/controls",
      "_model_module_version": "1.5.0",
      "_model_name": "ProgressStyleModel",
      "_view_count": null,
      "_view_module": "@jupyter-widgets/base",
      "_view_module_version": "1.2.0",
      "_view_name": "StyleView",
      "bar_color": null,
      "description_width": ""
     }
    },
    "4205f01082d549699a05d1a26a42959c": {
     "model_module": "@jupyter-widgets/controls",
     "model_module_version": "1.5.0",
     "model_name": "HBoxModel",
     "state": {
      "_dom_classes": [],
      "_model_module": "@jupyter-widgets/controls",
      "_model_module_version": "1.5.0",
      "_model_name": "HBoxModel",
      "_view_count": null,
      "_view_module": "@jupyter-widgets/controls",
      "_view_module_version": "1.5.0",
      "_view_name": "HBoxView",
      "box_style": "",
      "children": [
       "IPY_MODEL_6fa26607ef0c40ea88bdddcc73d44bbc",
       "IPY_MODEL_297048d3df0646e88df996f4292e2de6",
       "IPY_MODEL_6b2069b69b764fe38dc91a96e0b96bee"
      ],
      "layout": "IPY_MODEL_50ad9e7d17b342f3911fc02aca12039b"
     }
    },
    "49ee8072352346818ca1c7c6dd14723b": {
     "model_module": "@jupyter-widgets/controls",
     "model_module_version": "1.5.0",
     "model_name": "DescriptionStyleModel",
     "state": {
      "_model_module": "@jupyter-widgets/controls",
      "_model_module_version": "1.5.0",
      "_model_name": "DescriptionStyleModel",
      "_view_count": null,
      "_view_module": "@jupyter-widgets/base",
      "_view_module_version": "1.2.0",
      "_view_name": "StyleView",
      "description_width": ""
     }
    },
    "4d8876ea811449428c412ca6c4d395ab": {
     "model_module": "@jupyter-widgets/controls",
     "model_module_version": "1.5.0",
     "model_name": "FloatProgressModel",
     "state": {
      "_dom_classes": [],
      "_model_module": "@jupyter-widgets/controls",
      "_model_module_version": "1.5.0",
      "_model_name": "FloatProgressModel",
      "_view_count": null,
      "_view_module": "@jupyter-widgets/controls",
      "_view_module_version": "1.5.0",
      "_view_name": "ProgressView",
      "bar_style": "success",
      "description": "",
      "description_tooltip": null,
      "layout": "IPY_MODEL_09600afae88548049eb69e2eccce09ec",
      "max": 3,
      "min": 0,
      "orientation": "horizontal",
      "style": "IPY_MODEL_ddc2d8aa25354aabaaab47b0c5bf1d49",
      "value": 3
     }
    },
    "50ad9e7d17b342f3911fc02aca12039b": {
     "model_module": "@jupyter-widgets/base",
     "model_module_version": "1.2.0",
     "model_name": "LayoutModel",
     "state": {
      "_model_module": "@jupyter-widgets/base",
      "_model_module_version": "1.2.0",
      "_model_name": "LayoutModel",
      "_view_count": null,
      "_view_module": "@jupyter-widgets/base",
      "_view_module_version": "1.2.0",
      "_view_name": "LayoutView",
      "align_content": null,
      "align_items": null,
      "align_self": null,
      "border": null,
      "bottom": null,
      "display": null,
      "flex": null,
      "flex_flow": null,
      "grid_area": null,
      "grid_auto_columns": null,
      "grid_auto_flow": null,
      "grid_auto_rows": null,
      "grid_column": null,
      "grid_gap": null,
      "grid_row": null,
      "grid_template_areas": null,
      "grid_template_columns": null,
      "grid_template_rows": null,
      "height": null,
      "justify_content": null,
      "justify_items": null,
      "left": null,
      "margin": null,
      "max_height": null,
      "max_width": null,
      "min_height": null,
      "min_width": null,
      "object_fit": null,
      "object_position": null,
      "order": null,
      "overflow": null,
      "overflow_x": null,
      "overflow_y": null,
      "padding": null,
      "right": null,
      "top": null,
      "visibility": "hidden",
      "width": null
     }
    },
    "58e9bd88712b49a4ba4b21d2ae073776": {
     "model_module": "@jupyter-widgets/base",
     "model_module_version": "1.2.0",
     "model_name": "LayoutModel",
     "state": {
      "_model_module": "@jupyter-widgets/base",
      "_model_module_version": "1.2.0",
      "_model_name": "LayoutModel",
      "_view_count": null,
      "_view_module": "@jupyter-widgets/base",
      "_view_module_version": "1.2.0",
      "_view_name": "LayoutView",
      "align_content": null,
      "align_items": null,
      "align_self": null,
      "border": null,
      "bottom": null,
      "display": null,
      "flex": null,
      "flex_flow": null,
      "grid_area": null,
      "grid_auto_columns": null,
      "grid_auto_flow": null,
      "grid_auto_rows": null,
      "grid_column": null,
      "grid_gap": null,
      "grid_row": null,
      "grid_template_areas": null,
      "grid_template_columns": null,
      "grid_template_rows": null,
      "height": null,
      "justify_content": null,
      "justify_items": null,
      "left": null,
      "margin": null,
      "max_height": null,
      "max_width": null,
      "min_height": null,
      "min_width": null,
      "object_fit": null,
      "object_position": null,
      "order": null,
      "overflow": null,
      "overflow_x": null,
      "overflow_y": null,
      "padding": null,
      "right": null,
      "top": null,
      "visibility": null,
      "width": null
     }
    },
    "6b2069b69b764fe38dc91a96e0b96bee": {
     "model_module": "@jupyter-widgets/controls",
     "model_module_version": "1.5.0",
     "model_name": "HTMLModel",
     "state": {
      "_dom_classes": [],
      "_model_module": "@jupyter-widgets/controls",
      "_model_module_version": "1.5.0",
      "_model_name": "HTMLModel",
      "_view_count": null,
      "_view_module": "@jupyter-widgets/controls",
      "_view_module_version": "1.5.0",
      "_view_name": "HTMLView",
      "description": "",
      "description_tooltip": null,
      "layout": "IPY_MODEL_f186d9e5ddb2442480303ba452d7fd06",
      "placeholder": "​",
      "style": "IPY_MODEL_991189e4575e4b86818aac7fb84bce9b",
      "value": " 1336/1336 [00:02&lt;00:00, 633.73 examples/s]"
     }
    },
    "6fa26607ef0c40ea88bdddcc73d44bbc": {
     "model_module": "@jupyter-widgets/controls",
     "model_module_version": "1.5.0",
     "model_name": "HTMLModel",
     "state": {
      "_dom_classes": [],
      "_model_module": "@jupyter-widgets/controls",
      "_model_module_version": "1.5.0",
      "_model_name": "HTMLModel",
      "_view_count": null,
      "_view_module": "@jupyter-widgets/controls",
      "_view_module_version": "1.5.0",
      "_view_name": "HTMLView",
      "description": "",
      "description_tooltip": null,
      "layout": "IPY_MODEL_c094d9191229440bb75818a345e644b0",
      "placeholder": "​",
      "style": "IPY_MODEL_feb21989533f4c7b9b345f33d2fb817e",
      "value": "Map: 100%"
     }
    },
    "880a6a3d0d5249afa0984f362bcf145c": {
     "model_module": "@jupyter-widgets/controls",
     "model_module_version": "1.5.0",
     "model_name": "HTMLModel",
     "state": {
      "_dom_classes": [],
      "_model_module": "@jupyter-widgets/controls",
      "_model_module_version": "1.5.0",
      "_model_name": "HTMLModel",
      "_view_count": null,
      "_view_module": "@jupyter-widgets/controls",
      "_view_module_version": "1.5.0",
      "_view_name": "HTMLView",
      "description": "",
      "description_tooltip": null,
      "layout": "IPY_MODEL_c078e1d4c3c2488e8fd9d2acffa631c2",
      "placeholder": "​",
      "style": "IPY_MODEL_1e80e8605cc4477e92f5b7133d6a1ac2",
      "value": " 3/3 [00:00&lt;00:00, 52.80it/s]"
     }
    },
    "938c76e1e3da465987e9b84585d07cd2": {
     "model_module": "@jupyter-widgets/base",
     "model_module_version": "1.2.0",
     "model_name": "LayoutModel",
     "state": {
      "_model_module": "@jupyter-widgets/base",
      "_model_module_version": "1.2.0",
      "_model_name": "LayoutModel",
      "_view_count": null,
      "_view_module": "@jupyter-widgets/base",
      "_view_module_version": "1.2.0",
      "_view_name": "LayoutView",
      "align_content": null,
      "align_items": null,
      "align_self": null,
      "border": null,
      "bottom": null,
      "display": null,
      "flex": null,
      "flex_flow": null,
      "grid_area": null,
      "grid_auto_columns": null,
      "grid_auto_flow": null,
      "grid_auto_rows": null,
      "grid_column": null,
      "grid_gap": null,
      "grid_row": null,
      "grid_template_areas": null,
      "grid_template_columns": null,
      "grid_template_rows": null,
      "height": null,
      "justify_content": null,
      "justify_items": null,
      "left": null,
      "margin": null,
      "max_height": null,
      "max_width": null,
      "min_height": null,
      "min_width": null,
      "object_fit": null,
      "object_position": null,
      "order": null,
      "overflow": null,
      "overflow_x": null,
      "overflow_y": null,
      "padding": null,
      "right": null,
      "top": null,
      "visibility": null,
      "width": null
     }
    },
    "991189e4575e4b86818aac7fb84bce9b": {
     "model_module": "@jupyter-widgets/controls",
     "model_module_version": "1.5.0",
     "model_name": "DescriptionStyleModel",
     "state": {
      "_model_module": "@jupyter-widgets/controls",
      "_model_module_version": "1.5.0",
      "_model_name": "DescriptionStyleModel",
      "_view_count": null,
      "_view_module": "@jupyter-widgets/base",
      "_view_module_version": "1.2.0",
      "_view_name": "StyleView",
      "description_width": ""
     }
    },
    "9f29217c3b874c1fa6a2ee7d57fcd54e": {
     "model_module": "@jupyter-widgets/controls",
     "model_module_version": "1.5.0",
     "model_name": "FloatProgressModel",
     "state": {
      "_dom_classes": [],
      "_model_module": "@jupyter-widgets/controls",
      "_model_module_version": "1.5.0",
      "_model_name": "FloatProgressModel",
      "_view_count": null,
      "_view_module": "@jupyter-widgets/controls",
      "_view_module_version": "1.5.0",
      "_view_name": "ProgressView",
      "bar_style": "",
      "description": "",
      "description_tooltip": null,
      "layout": "IPY_MODEL_c2fc052377684e589de9a16ad4f8df71",
      "max": 5343,
      "min": 0,
      "orientation": "horizontal",
      "style": "IPY_MODEL_38cbb0fbfdbf4c06bd828d7eec15cf43",
      "value": 5343
     }
    },
    "a0354d643f05493181e9be43e5e6f240": {
     "model_module": "@jupyter-widgets/controls",
     "model_module_version": "1.5.0",
     "model_name": "ProgressStyleModel",
     "state": {
      "_model_module": "@jupyter-widgets/controls",
      "_model_module_version": "1.5.0",
      "_model_name": "ProgressStyleModel",
      "_view_count": null,
      "_view_module": "@jupyter-widgets/base",
      "_view_module_version": "1.2.0",
      "_view_name": "StyleView",
      "bar_color": null,
      "description_width": ""
     }
    },
    "ba4b9bac6b7449c3a767622866264e8e": {
     "model_module": "@jupyter-widgets/controls",
     "model_module_version": "1.5.0",
     "model_name": "HTMLModel",
     "state": {
      "_dom_classes": [],
      "_model_module": "@jupyter-widgets/controls",
      "_model_module_version": "1.5.0",
      "_model_name": "HTMLModel",
      "_view_count": null,
      "_view_module": "@jupyter-widgets/controls",
      "_view_module_version": "1.5.0",
      "_view_name": "HTMLView",
      "description": "",
      "description_tooltip": null,
      "layout": "IPY_MODEL_c3328d10c41c4cfcad5b59093ec30f72",
      "placeholder": "​",
      "style": "IPY_MODEL_c1dd6486a4b04d21b97249f0d0848457",
      "value": " 5343/5343 [00:12&lt;00:00, 456.21 examples/s]"
     }
    },
    "bb739f80b4354baa851eb6b92b878b23": {
     "model_module": "@jupyter-widgets/controls",
     "model_module_version": "1.5.0",
     "model_name": "HBoxModel",
     "state": {
      "_dom_classes": [],
      "_model_module": "@jupyter-widgets/controls",
      "_model_module_version": "1.5.0",
      "_model_name": "HBoxModel",
      "_view_count": null,
      "_view_module": "@jupyter-widgets/controls",
      "_view_module_version": "1.5.0",
      "_view_name": "HBoxView",
      "box_style": "",
      "children": [
       "IPY_MODEL_c477a00900624fa1805f5fee1936b7a7",
       "IPY_MODEL_9f29217c3b874c1fa6a2ee7d57fcd54e",
       "IPY_MODEL_ba4b9bac6b7449c3a767622866264e8e"
      ],
      "layout": "IPY_MODEL_d0cf1922b8a24f149602bd085fc796b2"
     }
    },
    "c078e1d4c3c2488e8fd9d2acffa631c2": {
     "model_module": "@jupyter-widgets/base",
     "model_module_version": "1.2.0",
     "model_name": "LayoutModel",
     "state": {
      "_model_module": "@jupyter-widgets/base",
      "_model_module_version": "1.2.0",
      "_model_name": "LayoutModel",
      "_view_count": null,
      "_view_module": "@jupyter-widgets/base",
      "_view_module_version": "1.2.0",
      "_view_name": "LayoutView",
      "align_content": null,
      "align_items": null,
      "align_self": null,
      "border": null,
      "bottom": null,
      "display": null,
      "flex": null,
      "flex_flow": null,
      "grid_area": null,
      "grid_auto_columns": null,
      "grid_auto_flow": null,
      "grid_auto_rows": null,
      "grid_column": null,
      "grid_gap": null,
      "grid_row": null,
      "grid_template_areas": null,
      "grid_template_columns": null,
      "grid_template_rows": null,
      "height": null,
      "justify_content": null,
      "justify_items": null,
      "left": null,
      "margin": null,
      "max_height": null,
      "max_width": null,
      "min_height": null,
      "min_width": null,
      "object_fit": null,
      "object_position": null,
      "order": null,
      "overflow": null,
      "overflow_x": null,
      "overflow_y": null,
      "padding": null,
      "right": null,
      "top": null,
      "visibility": null,
      "width": null
     }
    },
    "c094d9191229440bb75818a345e644b0": {
     "model_module": "@jupyter-widgets/base",
     "model_module_version": "1.2.0",
     "model_name": "LayoutModel",
     "state": {
      "_model_module": "@jupyter-widgets/base",
      "_model_module_version": "1.2.0",
      "_model_name": "LayoutModel",
      "_view_count": null,
      "_view_module": "@jupyter-widgets/base",
      "_view_module_version": "1.2.0",
      "_view_name": "LayoutView",
      "align_content": null,
      "align_items": null,
      "align_self": null,
      "border": null,
      "bottom": null,
      "display": null,
      "flex": null,
      "flex_flow": null,
      "grid_area": null,
      "grid_auto_columns": null,
      "grid_auto_flow": null,
      "grid_auto_rows": null,
      "grid_column": null,
      "grid_gap": null,
      "grid_row": null,
      "grid_template_areas": null,
      "grid_template_columns": null,
      "grid_template_rows": null,
      "height": null,
      "justify_content": null,
      "justify_items": null,
      "left": null,
      "margin": null,
      "max_height": null,
      "max_width": null,
      "min_height": null,
      "min_width": null,
      "object_fit": null,
      "object_position": null,
      "order": null,
      "overflow": null,
      "overflow_x": null,
      "overflow_y": null,
      "padding": null,
      "right": null,
      "top": null,
      "visibility": null,
      "width": null
     }
    },
    "c1dd6486a4b04d21b97249f0d0848457": {
     "model_module": "@jupyter-widgets/controls",
     "model_module_version": "1.5.0",
     "model_name": "DescriptionStyleModel",
     "state": {
      "_model_module": "@jupyter-widgets/controls",
      "_model_module_version": "1.5.0",
      "_model_name": "DescriptionStyleModel",
      "_view_count": null,
      "_view_module": "@jupyter-widgets/base",
      "_view_module_version": "1.2.0",
      "_view_name": "StyleView",
      "description_width": ""
     }
    },
    "c2fc052377684e589de9a16ad4f8df71": {
     "model_module": "@jupyter-widgets/base",
     "model_module_version": "1.2.0",
     "model_name": "LayoutModel",
     "state": {
      "_model_module": "@jupyter-widgets/base",
      "_model_module_version": "1.2.0",
      "_model_name": "LayoutModel",
      "_view_count": null,
      "_view_module": "@jupyter-widgets/base",
      "_view_module_version": "1.2.0",
      "_view_name": "LayoutView",
      "align_content": null,
      "align_items": null,
      "align_self": null,
      "border": null,
      "bottom": null,
      "display": null,
      "flex": null,
      "flex_flow": null,
      "grid_area": null,
      "grid_auto_columns": null,
      "grid_auto_flow": null,
      "grid_auto_rows": null,
      "grid_column": null,
      "grid_gap": null,
      "grid_row": null,
      "grid_template_areas": null,
      "grid_template_columns": null,
      "grid_template_rows": null,
      "height": null,
      "justify_content": null,
      "justify_items": null,
      "left": null,
      "margin": null,
      "max_height": null,
      "max_width": null,
      "min_height": null,
      "min_width": null,
      "object_fit": null,
      "object_position": null,
      "order": null,
      "overflow": null,
      "overflow_x": null,
      "overflow_y": null,
      "padding": null,
      "right": null,
      "top": null,
      "visibility": null,
      "width": null
     }
    },
    "c3328d10c41c4cfcad5b59093ec30f72": {
     "model_module": "@jupyter-widgets/base",
     "model_module_version": "1.2.0",
     "model_name": "LayoutModel",
     "state": {
      "_model_module": "@jupyter-widgets/base",
      "_model_module_version": "1.2.0",
      "_model_name": "LayoutModel",
      "_view_count": null,
      "_view_module": "@jupyter-widgets/base",
      "_view_module_version": "1.2.0",
      "_view_name": "LayoutView",
      "align_content": null,
      "align_items": null,
      "align_self": null,
      "border": null,
      "bottom": null,
      "display": null,
      "flex": null,
      "flex_flow": null,
      "grid_area": null,
      "grid_auto_columns": null,
      "grid_auto_flow": null,
      "grid_auto_rows": null,
      "grid_column": null,
      "grid_gap": null,
      "grid_row": null,
      "grid_template_areas": null,
      "grid_template_columns": null,
      "grid_template_rows": null,
      "height": null,
      "justify_content": null,
      "justify_items": null,
      "left": null,
      "margin": null,
      "max_height": null,
      "max_width": null,
      "min_height": null,
      "min_width": null,
      "object_fit": null,
      "object_position": null,
      "order": null,
      "overflow": null,
      "overflow_x": null,
      "overflow_y": null,
      "padding": null,
      "right": null,
      "top": null,
      "visibility": null,
      "width": null
     }
    },
    "c477a00900624fa1805f5fee1936b7a7": {
     "model_module": "@jupyter-widgets/controls",
     "model_module_version": "1.5.0",
     "model_name": "HTMLModel",
     "state": {
      "_dom_classes": [],
      "_model_module": "@jupyter-widgets/controls",
      "_model_module_version": "1.5.0",
      "_model_name": "HTMLModel",
      "_view_count": null,
      "_view_module": "@jupyter-widgets/controls",
      "_view_module_version": "1.5.0",
      "_view_name": "HTMLView",
      "description": "",
      "description_tooltip": null,
      "layout": "IPY_MODEL_f3e60b23b0af44d8a21140ebdcf46e97",
      "placeholder": "​",
      "style": "IPY_MODEL_d94d5518ddba476c9c56fe4c25f22bd7",
      "value": "Map: 100%"
     }
    },
    "d0cf1922b8a24f149602bd085fc796b2": {
     "model_module": "@jupyter-widgets/base",
     "model_module_version": "1.2.0",
     "model_name": "LayoutModel",
     "state": {
      "_model_module": "@jupyter-widgets/base",
      "_model_module_version": "1.2.0",
      "_model_name": "LayoutModel",
      "_view_count": null,
      "_view_module": "@jupyter-widgets/base",
      "_view_module_version": "1.2.0",
      "_view_name": "LayoutView",
      "align_content": null,
      "align_items": null,
      "align_self": null,
      "border": null,
      "bottom": null,
      "display": null,
      "flex": null,
      "flex_flow": null,
      "grid_area": null,
      "grid_auto_columns": null,
      "grid_auto_flow": null,
      "grid_auto_rows": null,
      "grid_column": null,
      "grid_gap": null,
      "grid_row": null,
      "grid_template_areas": null,
      "grid_template_columns": null,
      "grid_template_rows": null,
      "height": null,
      "justify_content": null,
      "justify_items": null,
      "left": null,
      "margin": null,
      "max_height": null,
      "max_width": null,
      "min_height": null,
      "min_width": null,
      "object_fit": null,
      "object_position": null,
      "order": null,
      "overflow": null,
      "overflow_x": null,
      "overflow_y": null,
      "padding": null,
      "right": null,
      "top": null,
      "visibility": "hidden",
      "width": null
     }
    },
    "d94d5518ddba476c9c56fe4c25f22bd7": {
     "model_module": "@jupyter-widgets/controls",
     "model_module_version": "1.5.0",
     "model_name": "DescriptionStyleModel",
     "state": {
      "_model_module": "@jupyter-widgets/controls",
      "_model_module_version": "1.5.0",
      "_model_name": "DescriptionStyleModel",
      "_view_count": null,
      "_view_module": "@jupyter-widgets/base",
      "_view_module_version": "1.2.0",
      "_view_name": "StyleView",
      "description_width": ""
     }
    },
    "ddc2d8aa25354aabaaab47b0c5bf1d49": {
     "model_module": "@jupyter-widgets/controls",
     "model_module_version": "1.5.0",
     "model_name": "ProgressStyleModel",
     "state": {
      "_model_module": "@jupyter-widgets/controls",
      "_model_module_version": "1.5.0",
      "_model_name": "ProgressStyleModel",
      "_view_count": null,
      "_view_module": "@jupyter-widgets/base",
      "_view_module_version": "1.2.0",
      "_view_name": "StyleView",
      "bar_color": null,
      "description_width": ""
     }
    },
    "f186d9e5ddb2442480303ba452d7fd06": {
     "model_module": "@jupyter-widgets/base",
     "model_module_version": "1.2.0",
     "model_name": "LayoutModel",
     "state": {
      "_model_module": "@jupyter-widgets/base",
      "_model_module_version": "1.2.0",
      "_model_name": "LayoutModel",
      "_view_count": null,
      "_view_module": "@jupyter-widgets/base",
      "_view_module_version": "1.2.0",
      "_view_name": "LayoutView",
      "align_content": null,
      "align_items": null,
      "align_self": null,
      "border": null,
      "bottom": null,
      "display": null,
      "flex": null,
      "flex_flow": null,
      "grid_area": null,
      "grid_auto_columns": null,
      "grid_auto_flow": null,
      "grid_auto_rows": null,
      "grid_column": null,
      "grid_gap": null,
      "grid_row": null,
      "grid_template_areas": null,
      "grid_template_columns": null,
      "grid_template_rows": null,
      "height": null,
      "justify_content": null,
      "justify_items": null,
      "left": null,
      "margin": null,
      "max_height": null,
      "max_width": null,
      "min_height": null,
      "min_width": null,
      "object_fit": null,
      "object_position": null,
      "order": null,
      "overflow": null,
      "overflow_x": null,
      "overflow_y": null,
      "padding": null,
      "right": null,
      "top": null,
      "visibility": null,
      "width": null
     }
    },
    "f3e60b23b0af44d8a21140ebdcf46e97": {
     "model_module": "@jupyter-widgets/base",
     "model_module_version": "1.2.0",
     "model_name": "LayoutModel",
     "state": {
      "_model_module": "@jupyter-widgets/base",
      "_model_module_version": "1.2.0",
      "_model_name": "LayoutModel",
      "_view_count": null,
      "_view_module": "@jupyter-widgets/base",
      "_view_module_version": "1.2.0",
      "_view_name": "LayoutView",
      "align_content": null,
      "align_items": null,
      "align_self": null,
      "border": null,
      "bottom": null,
      "display": null,
      "flex": null,
      "flex_flow": null,
      "grid_area": null,
      "grid_auto_columns": null,
      "grid_auto_flow": null,
      "grid_auto_rows": null,
      "grid_column": null,
      "grid_gap": null,
      "grid_row": null,
      "grid_template_areas": null,
      "grid_template_columns": null,
      "grid_template_rows": null,
      "height": null,
      "justify_content": null,
      "justify_items": null,
      "left": null,
      "margin": null,
      "max_height": null,
      "max_width": null,
      "min_height": null,
      "min_width": null,
      "object_fit": null,
      "object_position": null,
      "order": null,
      "overflow": null,
      "overflow_x": null,
      "overflow_y": null,
      "padding": null,
      "right": null,
      "top": null,
      "visibility": null,
      "width": null
     }
    },
    "feb21989533f4c7b9b345f33d2fb817e": {
     "model_module": "@jupyter-widgets/controls",
     "model_module_version": "1.5.0",
     "model_name": "DescriptionStyleModel",
     "state": {
      "_model_module": "@jupyter-widgets/controls",
      "_model_module_version": "1.5.0",
      "_model_name": "DescriptionStyleModel",
      "_view_count": null,
      "_view_module": "@jupyter-widgets/base",
      "_view_module_version": "1.2.0",
      "_view_name": "StyleView",
      "description_width": ""
     }
    }
   }
  }
 },
 "nbformat": 4,
 "nbformat_minor": 4
}
