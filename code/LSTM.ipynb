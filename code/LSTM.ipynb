{
 "cells": [
  {
   "cell_type": "code",
   "execution_count": 1,
   "metadata": {
    "colab": {},
    "colab_type": "code",
    "id": "QrbFsgi4rd6G"
   },
   "outputs": [],
   "source": [
    "import os, time\n",
    "import pandas as pd\n",
    "#import codecs\n",
    "import numpy as np\n",
    "from tqdm import tqdm\n",
    "import torch\n",
    "import torch.nn as nn\n",
    "import torch.nn.functional as F\n",
    "import torch.optim as optim\n",
    "from sklearn.metrics import f1_score, classification_report, confusion_matrix, ConfusionMatrixDisplay\n",
    "from torch.utils.data import DataLoader, Dataset\n",
    "import spacy\n",
    "import random"
   ]
  },
  {
   "cell_type": "code",
   "execution_count": 2,
   "metadata": {},
   "outputs": [],
   "source": [
    "nlp = spacy.load('en_core_web_sm')"
   ]
  },
  {
   "cell_type": "markdown",
   "metadata": {},
   "source": [
    "### Loading the data"
   ]
  },
  {
   "cell_type": "code",
   "execution_count": 3,
   "metadata": {
    "colab": {},
    "colab_type": "code",
    "id": "1AmDceburd6K"
   },
   "outputs": [],
   "source": [
    "path = \"Data/\""
   ]
  },
  {
   "cell_type": "code",
   "execution_count": 4,
   "metadata": {},
   "outputs": [
    {
     "data": {
      "text/html": [
       "<div>\n",
       "<style scoped>\n",
       "    .dataframe tbody tr th:only-of-type {\n",
       "        vertical-align: middle;\n",
       "    }\n",
       "\n",
       "    .dataframe tbody tr th {\n",
       "        vertical-align: top;\n",
       "    }\n",
       "\n",
       "    .dataframe thead th {\n",
       "        text-align: right;\n",
       "    }\n",
       "</style>\n",
       "<table border=\"1\" class=\"dataframe\">\n",
       "  <thead>\n",
       "    <tr style=\"text-align: right;\">\n",
       "      <th></th>\n",
       "      <th>index</th>\n",
       "      <th>Unnamed: 0</th>\n",
       "      <th>job_id</th>\n",
       "      <th>job_segment</th>\n",
       "      <th>skills</th>\n",
       "    </tr>\n",
       "  </thead>\n",
       "  <tbody>\n",
       "    <tr>\n",
       "      <th>0</th>\n",
       "      <td>0</td>\n",
       "      <td>0</td>\n",
       "      <td>0</td>\n",
       "      <td>SummaryThe Database Developer is part of the C...</td>\n",
       "      <td>CEMCO, C#, database performance, .Net</td>\n",
       "    </tr>\n",
       "    <tr>\n",
       "      <th>1</th>\n",
       "      <td>1</td>\n",
       "      <td>1</td>\n",
       "      <td>0</td>\n",
       "      <td>Perform database security administration.Ensur...</td>\n",
       "      <td>C#, .Net</td>\n",
       "    </tr>\n",
       "    <tr>\n",
       "      <th>2</th>\n",
       "      <td>2</td>\n",
       "      <td>2</td>\n",
       "      <td>0</td>\n",
       "      <td>Education And/Or Experience, Certifications, R...</td>\n",
       "      <td>teamwork, Project management, SQL, T-SQL</td>\n",
       "    </tr>\n",
       "    <tr>\n",
       "      <th>3</th>\n",
       "      <td>3</td>\n",
       "      <td>3</td>\n",
       "      <td>0</td>\n",
       "      <td>Physical DemandsWhile performing the duties of...</td>\n",
       "      <td>close vision, distance vision</td>\n",
       "    </tr>\n",
       "    <tr>\n",
       "      <th>4</th>\n",
       "      <td>4</td>\n",
       "      <td>4</td>\n",
       "      <td>0</td>\n",
       "      <td>CEMCO, LLC, is the premier manufacturer of ste...</td>\n",
       "      <td>CEMCO, LLC</td>\n",
       "    </tr>\n",
       "    <tr>\n",
       "      <th>...</th>\n",
       "      <td>...</td>\n",
       "      <td>...</td>\n",
       "      <td>...</td>\n",
       "      <td>...</td>\n",
       "      <td>...</td>\n",
       "    </tr>\n",
       "    <tr>\n",
       "      <th>6674</th>\n",
       "      <td>6686</td>\n",
       "      <td>6686</td>\n",
       "      <td>1840</td>\n",
       "      <td>Sr. Full Stack DeveloperWelcome to Beaker &amp; Wr...</td>\n",
       "      <td>NaN</td>\n",
       "    </tr>\n",
       "    <tr>\n",
       "      <th>6675</th>\n",
       "      <td>6687</td>\n",
       "      <td>6687</td>\n",
       "      <td>1840</td>\n",
       "      <td>We need a full-stack developer who is a self-s...</td>\n",
       "      <td>NaN</td>\n",
       "    </tr>\n",
       "    <tr>\n",
       "      <th>6676</th>\n",
       "      <td>6688</td>\n",
       "      <td>6688</td>\n",
       "      <td>1840</td>\n",
       "      <td>The desired developer will head development an...</td>\n",
       "      <td>HTML, Wordpress, Python</td>\n",
       "    </tr>\n",
       "    <tr>\n",
       "      <th>6677</th>\n",
       "      <td>6689</td>\n",
       "      <td>6689</td>\n",
       "      <td>1841</td>\n",
       "      <td>Become part of one of a large, high-performing...</td>\n",
       "      <td>CI/CD</td>\n",
       "    </tr>\n",
       "    <tr>\n",
       "      <th>6678</th>\n",
       "      <td>6690</td>\n",
       "      <td>6690</td>\n",
       "      <td>1841</td>\n",
       "      <td>What should you have?4 Years working in a tech...</td>\n",
       "      <td>CI/CD, Python</td>\n",
       "    </tr>\n",
       "  </tbody>\n",
       "</table>\n",
       "<p>6679 rows × 5 columns</p>\n",
       "</div>"
      ],
      "text/plain": [
       "      index  Unnamed: 0  job_id  \\\n",
       "0         0           0       0   \n",
       "1         1           1       0   \n",
       "2         2           2       0   \n",
       "3         3           3       0   \n",
       "4         4           4       0   \n",
       "...     ...         ...     ...   \n",
       "6674   6686        6686    1840   \n",
       "6675   6687        6687    1840   \n",
       "6676   6688        6688    1840   \n",
       "6677   6689        6689    1841   \n",
       "6678   6690        6690    1841   \n",
       "\n",
       "                                            job_segment  \\\n",
       "0     SummaryThe Database Developer is part of the C...   \n",
       "1     Perform database security administration.Ensur...   \n",
       "2     Education And/Or Experience, Certifications, R...   \n",
       "3     Physical DemandsWhile performing the duties of...   \n",
       "4     CEMCO, LLC, is the premier manufacturer of ste...   \n",
       "...                                                 ...   \n",
       "6674  Sr. Full Stack DeveloperWelcome to Beaker & Wr...   \n",
       "6675  We need a full-stack developer who is a self-s...   \n",
       "6676  The desired developer will head development an...   \n",
       "6677  Become part of one of a large, high-performing...   \n",
       "6678  What should you have?4 Years working in a tech...   \n",
       "\n",
       "                                        skills  \n",
       "0        CEMCO, C#, database performance, .Net  \n",
       "1                                     C#, .Net  \n",
       "2     teamwork, Project management, SQL, T-SQL  \n",
       "3                close vision, distance vision  \n",
       "4                                   CEMCO, LLC  \n",
       "...                                        ...  \n",
       "6674                                       NaN  \n",
       "6675                                       NaN  \n",
       "6676                   HTML, Wordpress, Python  \n",
       "6677                                     CI/CD  \n",
       "6678                             CI/CD, Python  \n",
       "\n",
       "[6679 rows x 5 columns]"
      ]
     },
     "execution_count": 4,
     "metadata": {},
     "output_type": "execute_result"
    }
   ],
   "source": [
    "df = pd.read_csv(path+'GPT-3_data_split_into_128_word_paragraphs.csv')\n",
    "df = df[~df['job_segment'].isna()].reset_index()\n",
    "df"
   ]
  },
  {
   "cell_type": "markdown",
   "metadata": {},
   "source": [
    "### Converting the data to BIO tags notation"
   ]
  },
  {
   "cell_type": "code",
   "execution_count": 5,
   "metadata": {},
   "outputs": [],
   "source": [
    "def get_tags(job, skills):\n",
    "    try:\n",
    "        doc = nlp(job)\n",
    "    except:\n",
    "        print(job)\n",
    "    tokens  = [str(i) for i in doc]\n",
    "    tags = ['O' for i in tokens]\n",
    "    if type(skills) != float:\n",
    "        try:\n",
    "            skills = [i.strip() for i in skills.split(',')]\n",
    "        except:\n",
    "            print(skills)\n",
    "        for skill in skills:\n",
    "            for i, token in enumerate(tokens):\n",
    "                if token == skill:\n",
    "                    tags[i] = 'B'\n",
    "                unigrams = skill.split()\n",
    "                if len(unigrams) > 1:\n",
    "                    if i< len(tokens)-1 and token == unigrams[0] and tokens[i+1] == unigrams[1]:\n",
    "                        tags[i] = 'B'\n",
    "                        tags[i+1] = 'I'\n",
    "    return tokens, tags"
   ]
  },
  {
   "cell_type": "code",
   "execution_count": 6,
   "metadata": {},
   "outputs": [],
   "source": [
    "tokens, tags = get_tags(df['job_segment'][0],  df['skills'][0])"
   ]
  },
  {
   "cell_type": "markdown",
   "metadata": {},
   "source": [
    "for token, tag in zip(tokens, tags):\n",
    "    if tag in {'B', 'I'}:\n",
    "        print(token, tag)"
   ]
  },
  {
   "cell_type": "code",
   "execution_count": 7,
   "metadata": {},
   "outputs": [
    {
     "name": "stderr",
     "output_type": "stream",
     "text": [
      "6679it [02:27, 45.14it/s]\n"
     ]
    }
   ],
   "source": [
    "all_tokens = []\n",
    "all_tags = []\n",
    "for job, skills in tqdm(zip(df['job_segment'], df['skills'])):\n",
    "    tokens, tags = get_tags(job, skills)\n",
    "    all_tokens.append(tokens)\n",
    "    all_tags.append(tags)"
   ]
  },
  {
   "cell_type": "markdown",
   "metadata": {},
   "source": [
    "#### Limiting the input token length to 200 tokens"
   ]
  },
  {
   "cell_type": "code",
   "execution_count": 8,
   "metadata": {},
   "outputs": [
    {
     "data": {
      "text/plain": [
       "200"
      ]
     },
     "execution_count": 8,
     "metadata": {},
     "output_type": "execute_result"
    }
   ],
   "source": [
    "# Finding the longest sentence\n",
    "LONGEST_SENTENCE = 200\n",
    "LONGEST_SENTENCE"
   ]
  },
  {
   "cell_type": "code",
   "execution_count": 9,
   "metadata": {},
   "outputs": [
    {
     "data": {
      "text/plain": [
       "5669"
      ]
     },
     "execution_count": 9,
     "metadata": {},
     "output_type": "execute_result"
    }
   ],
   "source": [
    "input_tokens, output_tags = [], []\n",
    "for i, j in zip(all_tokens, all_tags):\n",
    "    if len(i) <= LONGEST_SENTENCE:\n",
    "        input_tokens.append(i)\n",
    "        output_tags.append(j)\n",
    "len(input_tokens)"
   ]
  },
  {
   "cell_type": "code",
   "execution_count": 10,
   "metadata": {
    "colab": {},
    "colab_type": "code",
    "id": "qjayFFzsrd6s"
   },
   "outputs": [],
   "source": [
    "def pad_tokens(input_tokens, longest_sentence):\n",
    "    padded = []\n",
    "    for sent in input_tokens:\n",
    "        padding = [\"<null>\" for i in range(longest_sentence - len(sent))]\n",
    "        padded.append(sent + padding)\n",
    "    return padded\n",
    "\n",
    "def pad_tags(output_tags, longest_sentence):\n",
    "    padded = []\n",
    "    for sent in output_tags:\n",
    "        padding = [ \"<null>\" for i in range(longest_sentence - len(sent))]\n",
    "        padded.append(sent + padding)\n",
    "    return padded\n"
   ]
  },
  {
   "cell_type": "code",
   "execution_count": 11,
   "metadata": {
    "colab": {},
    "colab_type": "code",
    "id": "tVoe-A39rd6u",
    "outputId": "f1c90533-1868-4b04-f8e5-8da93dd64bb0"
   },
   "outputs": [
    {
     "name": "stdout",
     "output_type": "stream",
     "text": [
      "Success!\n"
     ]
    }
   ],
   "source": [
    "padded_input_tokens = pad_tokens(input_tokens[0:1], LONGEST_SENTENCE) \n",
    "padded_output_tags = pad_tags(output_tags[0:1], LONGEST_SENTENCE)\n",
    "\n",
    "assert len(padded_input_tokens[0]) == LONGEST_SENTENCE\n",
    "assert len(padded_output_tags[0]) == LONGEST_SENTENCE\n",
    "assert padded_input_tokens[0][-1] == \"<null>\"\n",
    "assert padded_output_tags[0][-1] == \"<null>\" \n",
    "print('Success!')"
   ]
  },
  {
   "cell_type": "markdown",
   "metadata": {
    "colab_type": "text",
    "id": "ceIZb3Sprd6x"
   },
   "source": [
    "Now, we need to vectorize our input vocabulary and output tags. The code below creates a number of global variables to help us with this. \n",
    "\n",
    "* The `WORD_TO_IDX` dictionary maps words occurring in the training data into unique integers. \n",
    "* The `TAG_TO_IDX` dictionary maps *every* tag in our data to a unique integer. \n",
    "* The `IDX_TO_TAG` dictionary maps the other way so you can decode tags later."
   ]
  },
  {
   "cell_type": "code",
   "execution_count": 12,
   "metadata": {
    "colab": {},
    "colab_type": "code",
    "id": "TySaTC7urd6y"
   },
   "outputs": [],
   "source": [
    "PAD = \"<null>\"\n",
    "UNK = \"<unk>\"\n",
    "\n",
    "words = set([word for sent_words in input_tokens for word in sent_words])\n",
    "\n",
    "# Padding and unknown token\n",
    "words.add(PAD)\n",
    "words.add(UNK)\n",
    "\n",
    "tags = list(set([tag for sent_tags in output_tags for tag in sent_tags]))\n",
    "\n",
    "# Padding tag\n",
    "tags.append(PAD)\n",
    "\n",
    "WORD_TO_IDX = {w:i for i,w in enumerate(words)}\n",
    "TAG_TO_IDX = {t:i for i,t in enumerate(tags)}\n",
    "IDX_TO_TAG = tags"
   ]
  },
  {
   "cell_type": "code",
   "execution_count": 13,
   "metadata": {},
   "outputs": [
    {
     "data": {
      "text/plain": [
       "33850"
      ]
     },
     "execution_count": 13,
     "metadata": {},
     "output_type": "execute_result"
    }
   ],
   "source": [
    "len(WORD_TO_IDX)"
   ]
  },
  {
   "cell_type": "code",
   "execution_count": 14,
   "metadata": {},
   "outputs": [
    {
     "data": {
      "text/plain": [
       "{'B': 0, 'O': 1, 'I': 2, '<null>': 3}"
      ]
     },
     "execution_count": 14,
     "metadata": {},
     "output_type": "execute_result"
    }
   ],
   "source": [
    "TAG_TO_IDX"
   ]
  },
  {
   "cell_type": "code",
   "execution_count": 15,
   "metadata": {
    "colab": {},
    "colab_type": "code",
    "id": "1Qe5VPxPrd64"
   },
   "outputs": [],
   "source": [
    "def converttokens2tensors(input_tokens):\n",
    "    '''\n",
    "        Convert input_tokens into a tensor\n",
    "        \n",
    "        input:  A list of sentences consisting of (token, is_target_pred) pairs.\n",
    "        output: A list of 2 x sentence_length tensor t\n",
    "        \n",
    "        where t[0][i] gives the index number for token i, t[1][i] is either 0 or 1 \n",
    "        depending on is_target_pred and t[2][i] indicates whether this is a regular\n",
    "        token or padding token PAD.\n",
    "    '''\n",
    "    token_tensors = []\n",
    "    #your code here\n",
    "    unk = WORD_TO_IDX[\"<unk>\"]\n",
    "\n",
    "    for sent in input_tokens:\n",
    "        tokens = [i for i in sent]\n",
    "        ids = [WORD_TO_IDX[token] if token in WORD_TO_IDX else WORD_TO_IDX['<unk>'] for token in tokens]\n",
    "        pad_status = [1 if i!='<null>' else 0 for i in tokens]\n",
    "        t =  torch.tensor([ids, pad_status])\n",
    "        token_tensors.append(t)\n",
    "    \n",
    "    return token_tensors\n",
    "\n",
    "def converttags2tensors(output_tags):\n",
    "    '''\n",
    "        Convert output_tags into a tensor\n",
    "\n",
    "        input:  A list of IOB tag sequences.\n",
    "        output: A list of vectors of index numbers correspinding to IOB tags \n",
    "    '''\n",
    "    tag_tensors = []\n",
    "    #your code here\n",
    "    for sent in output_tags:\n",
    "        t = torch.tensor([TAG_TO_IDX[i] for i in sent]) \n",
    "        tag_tensors.append(t)\n",
    "   \n",
    "    return tag_tensors"
   ]
  },
  {
   "cell_type": "markdown",
   "metadata": {},
   "source": [
    "Assertions to check your code."
   ]
  },
  {
   "cell_type": "code",
   "execution_count": 16,
   "metadata": {
    "colab": {},
    "colab_type": "code",
    "id": "4e0PSFqUrd67",
    "outputId": "65f5c69c-3750-47c4-9284-18833582d02a"
   },
   "outputs": [
    {
     "name": "stdout",
     "output_type": "stream",
     "text": [
      "Success!\n"
     ]
    }
   ],
   "source": [
    "check_tokens, check_tags = converttokens2tensors(padded_input_tokens[:5]), converttags2tensors(padded_output_tags[:5])\n",
    "assert check_tokens[0].shape == torch.Size([2, LONGEST_SENTENCE])\n",
    "assert check_tags[0].shape == torch.Size([LONGEST_SENTENCE])\n",
    "print('Success!')"
   ]
  },
  {
   "cell_type": "markdown",
   "metadata": {},
   "source": [
    "### Tran, test and dev split"
   ]
  },
  {
   "cell_type": "code",
   "execution_count": 17,
   "metadata": {},
   "outputs": [],
   "source": [
    "test_dev_index = random.sample(range(len(input_tokens)), 2000)\n",
    "dev_index = random.sample(test_dev_index, 1000)\n",
    "test_index = [i for i in test_dev_index if i not in dev_index]"
   ]
  },
  {
   "cell_type": "code",
   "execution_count": 18,
   "metadata": {},
   "outputs": [],
   "source": [
    "train_input = [v for i, v in enumerate(input_tokens) if i not in test_dev_index]\n",
    "train_output = [v for i, v in enumerate(output_tags) if i not in test_dev_index]"
   ]
  },
  {
   "cell_type": "code",
   "execution_count": 19,
   "metadata": {},
   "outputs": [
    {
     "name": "stdout",
     "output_type": "stream",
     "text": [
      "SummaryThe , O\n",
      "Database , O\n",
      "Developer , O\n",
      "is , O\n",
      "part , O\n",
      "of , O\n",
      "the , O\n",
      "CEMCO , B\n",
      "development , O\n",
      "team , O\n",
      "whose , O\n",
      "responsibilities , O\n",
      "include , O\n",
      "managing , O\n",
      "and , O\n",
      "maintaining , O\n",
      "the , O\n",
      "enterprise , O\n",
      "data , O\n",
      "warehouse , O\n",
      ". , O\n",
      "Strong , O\n",
      "development , O\n",
      "skills , O\n",
      "in , O\n",
      "C , O\n",
      "# , O\n",
      "and , O\n",
      ".Net , B\n",
      ", , O\n",
      "including , O\n",
      "Excel , O\n",
      "VSTO.The , O\n",
      "ideal , O\n",
      "candidate , O\n",
      "should , O\n",
      "have , O\n",
      "a , O\n",
      "deep , O\n",
      "understanding , O\n",
      "of , O\n",
      "database , O\n",
      "management , O\n",
      "systems , O\n",
      ", , O\n",
      "as , O\n",
      "well , O\n",
      "as , O\n",
      "the , O\n",
      "ability , O\n",
      "to , O\n",
      "write , O\n",
      "complex , O\n",
      "code , O\n",
      "in , O\n",
      "C , O\n",
      "# , O\n",
      "and , O\n",
      ".Net , B\n",
      "to , O\n",
      "build , O\n",
      ", , O\n",
      "maintain , O\n",
      "and , O\n",
      "optimize , O\n",
      "databases , O\n",
      ". , O\n",
      "Effective , O\n",
      "at , O\n",
      "communicating , O\n",
      "with , O\n",
      "users , O\n",
      "to , O\n",
      "define , O\n",
      "requirements , O\n",
      "and , O\n",
      "design , O\n",
      ", , O\n",
      "solutions , O\n",
      "based , O\n",
      "on , O\n",
      "those , O\n",
      "requirements , O\n",
      ". , O\n",
      "This , O\n",
      "position , O\n",
      "is , O\n",
      "also , O\n",
      "responsible , O\n",
      "for , O\n",
      "creating , O\n",
      "tools , O\n",
      "that , O\n",
      "provide , O\n",
      "insight , O\n",
      "to , O\n",
      "various , O\n",
      "departments , O\n",
      ", , O\n",
      "including , O\n",
      "Finance , O\n",
      ", , O\n",
      "Accounting , O\n",
      ", , O\n",
      "and , O\n",
      "Customer , O\n",
      "Service , O\n",
      "to , O\n",
      "build , O\n",
      "data , O\n",
      "visualizations , O\n",
      "and , O\n",
      "dashboards , O\n",
      ". , O\n",
      "Essential , O\n",
      "Duties , O\n",
      "And , O\n",
      "ResponsibilitiesDesign , O\n",
      ", , O\n",
      "install , O\n",
      ", , O\n",
      "configure , O\n",
      ", , O\n",
      "and , O\n",
      "maintain , O\n",
      "database , O\n",
      "management , O\n",
      "systems , O\n",
      ". , O\n",
      "Monitor , O\n",
      "database , B\n",
      "performance , I\n",
      "and , O\n",
      "provide , O\n",
      "optimization , O\n",
      ". , O\n",
      "Develop , O\n",
      ", , O\n",
      "implement , O\n",
      ", , O\n",
      "and , O\n",
      "maintain , O\n",
      "backup , O\n",
      "and , O\n",
      "recovery , O\n",
      "procedures , O\n",
      ". , O\n"
     ]
    }
   ],
   "source": [
    "for i,j in zip(train_input[0], train_output[0]):\n",
    "    print(i,',',j)"
   ]
  },
  {
   "cell_type": "code",
   "execution_count": 20,
   "metadata": {},
   "outputs": [],
   "source": [
    "dev_input = [v for i, v in enumerate(input_tokens) if i in dev_index]\n",
    "dev_output = [v for i, v in enumerate(output_tags) if i in dev_index]\n",
    "\n",
    "test_input = [v for i, v in enumerate(input_tokens) if i in test_index]\n",
    "test_output = [v for i, v in enumerate(output_tags) if i in test_index]"
   ]
  },
  {
   "cell_type": "code",
   "execution_count": 21,
   "metadata": {},
   "outputs": [
    {
     "name": "stdout",
     "output_type": "stream",
     "text": [
      "3669 1000 1000\n"
     ]
    }
   ],
   "source": [
    "print(len(train_input), len(test_input), len(dev_input))"
   ]
  },
  {
   "cell_type": "code",
   "execution_count": 22,
   "metadata": {
    "colab": {},
    "colab_type": "code",
    "id": "hxsHbKhqrd6-"
   },
   "outputs": [],
   "source": [
    "class SRL_dataset(Dataset):\n",
    "    def __init__(self, input_data, output_data):\n",
    "        self.input_data = input_data\n",
    "        self.output_data = output_data\n",
    "        \n",
    "    def __len__(self):\n",
    "        return len(self.input_data)\n",
    "    \n",
    "    def __getitem__(self, index):\n",
    "        target = self.output_data[index]\n",
    "        data_val = self.input_data[index]\n",
    "        return data_val,target     "
   ]
  },
  {
   "cell_type": "markdown",
   "metadata": {
    "colab_type": "text",
    "id": "nxRCQTHard7A"
   },
   "source": [
    "The function below loads a set of files as a `SRL_dataset` in the correct format"
   ]
  },
  {
   "cell_type": "code",
   "execution_count": 23,
   "metadata": {
    "colab": {},
    "colab_type": "code",
    "id": "2ldOquKBrd7B"
   },
   "outputs": [],
   "source": [
    "def prepare_dataset(input_tokens, output_tags):\n",
    "    '''given a list of Ontonotes SRL, loads them into a pytorch Dataset'''\n",
    "    padded_input_tokens, padded_output_tokens = pad_tokens(input_tokens, LONGEST_SENTENCE), pad_tags(output_tags, LONGEST_SENTENCE)\n",
    "    input_token_tensors, output_tags_tensors = converttokens2tensors(padded_input_tokens), converttags2tensors(padded_output_tokens)\n",
    "    return SRL_dataset(input_token_tensors, output_tags_tensors)"
   ]
  },
  {
   "cell_type": "markdown",
   "metadata": {},
   "source": [
    "Assertions to check that everything is working correctly."
   ]
  },
  {
   "cell_type": "code",
   "execution_count": 24,
   "metadata": {
    "colab": {
     "base_uri": "https://localhost:8080/",
     "height": 35
    },
    "colab_type": "code",
    "id": "eoyJ9Rv7rd7D",
    "outputId": "edc60915-24d1-4275-fdf3-3d6e3d11e03f"
   },
   "outputs": [
    {
     "name": "stdout",
     "output_type": "stream",
     "text": [
      "Success!\n"
     ]
    }
   ],
   "source": [
    "batch_size = 64\n",
    "\n",
    "dev_dataset = prepare_dataset(dev_input, dev_output)\n",
    "\n",
    "dev_dataloader = DataLoader(dev_dataset, batch_size=1, shuffle=False)\n",
    "\n",
    "train_dataset = prepare_dataset(train_input, train_output)\n",
    "\n",
    "train_dataloader = DataLoader(train_dataset, batch_size=batch_size, shuffle=False)\n",
    "for train_token_batch, train_tag_batch in train_dataloader:\n",
    "    assert train_token_batch.shape == torch.Size([batch_size, 2, LONGEST_SENTENCE])\n",
    "    assert train_tag_batch.shape == torch.Size([batch_size, LONGEST_SENTENCE])\n",
    "    break\n",
    "    \n",
    "print('Success!')"
   ]
  },
  {
   "cell_type": "markdown",
   "metadata": {},
   "source": [
    "### LSTM model"
   ]
  },
  {
   "cell_type": "code",
   "execution_count": 25,
   "metadata": {},
   "outputs": [],
   "source": [
    "from torch.nn.utils.rnn import pack_padded_sequence, pad_packed_sequence\n",
    "\n",
    "# Here are the embedding and hidden dimensionalities as well as LSTM layer count\n",
    "EMBEDDING_DIM=75\n",
    "HIDDEN_DIM=50\n",
    "LAYERS=1\n",
    "\n",
    "# your code here\n",
    "class biLSTMTagger(nn.Module):\n",
    "\n",
    "    def __init__(self, vocab, tagset):\n",
    "        super(biLSTMTagger, self).__init__()\n",
    "\n",
    "        # requires vocab, tagset; \n",
    "\n",
    "        self.word_embeddings = nn.Embedding(len(vocab), EMBEDDING_DIM)       # `Embedding` with `len(vocab)` with EMBEDDING_DIM; \n",
    "        #self.indicator_embedding = nn.Embedding(2, EMBEDDING_DIM)   # another `Embedding` for \"indicator_embedding (len(0 or 1)) == 2) with EMBEDDING_DIM ; \n",
    "        #self.lstm = nn.LSTM(2 * EMBEDDING_DIM, HIDDEN_DIM, num_layers=LAYERS, bidirectional = True)                       # `LSTM` with 2 * EMBEDDING_DIM, HIDDEN_DIM, and bidrectional = True\n",
    "\n",
    "        #self.hidden2tag = nn.Linear(2 * HIDDEN_DIM, len(tagset))               # The linear layer that maps from hidden state space to tag space (output = len(tagset))\n",
    "        \n",
    "        #self.indicator_embedding = nn.Embedding(2, EMBEDDING_DIM)   # another `Embedding` for \"indicator_embedding (len(0 or 1)) == 2) with EMBEDDING_DIM ; \n",
    "        self.lstm = nn.LSTM(EMBEDDING_DIM, HIDDEN_DIM, num_layers=LAYERS, bidirectional = True)                       # `LSTM` with 2 * EMBEDDING_DIM, HIDDEN_DIM, and bidrectional = True\n",
    "\n",
    "        self.hidden2tag = nn.Linear(2 * HIDDEN_DIM, len(tagset)) \n",
    "        \n",
    "        \n",
    "    def forward(self, batch):\n",
    "        batch = batch.permute(1, 2, 0)  # required to be permuted: 3 x sent_len x batch_size\n",
    "\n",
    "        #embeds_word = self.word_embeddings(batch[0])\n",
    "        #embeds_ind = self.word_embeddings(batch[1])\n",
    "        #embeds = torch.cat((embeds_word, embeds_ind), dim=2)                        # sent_len x batch_size x 2*EMBEDDING_DIM\n",
    "        embeds = self.word_embeddings(batch[0])\n",
    "        word_lengths = batch[-1].sum(dim=0)\n",
    "        lstm_input =  pack_padded_sequence(embeds, word_lengths, enforce_sorted=False)                            # requires `pack_padded_sequence`\n",
    " \n",
    "        lstm_out, _ = self.lstm(lstm_input)                        # sent_len x batch_size x 2*HIDDEN_DIM\n",
    "        lstm_out, _ =  pad_packed_sequence(lstm_out, total_length = LONGEST_SENTENCE)                          # requires again `pack_padded_sequence` \n",
    "        \n",
    "        tag_space =  self.hidden2tag(lstm_out)                               # generated by `hidden2tag`: sent_len x batch_size x tagset_size\n",
    "        tag_scores = F.log_softmax(tag_space, dim=2)                # then, softmax; \n",
    "\n",
    "        return tag_scores"
   ]
  },
  {
   "cell_type": "markdown",
   "metadata": {},
   "source": [
    "An assertion to check your code:"
   ]
  },
  {
   "cell_type": "code",
   "execution_count": 26,
   "metadata": {},
   "outputs": [],
   "source": [
    "tagger = biLSTMTagger(WORD_TO_IDX, TAG_TO_IDX)\n",
    "batch = next(iter(train_dataloader))[0]\n",
    "assert tagger(batch).size() == (batch.size()[2], batch_size, len(TAG_TO_IDX))"
   ]
  },
  {
   "cell_type": "code",
   "execution_count": 27,
   "metadata": {
    "colab": {},
    "colab_type": "code",
    "id": "8MTLTnzCrd7J"
   },
   "outputs": [],
   "source": [
    "# your code here\n",
    "EPOCHS = 20 \n",
    "model = biLSTMTagger(WORD_TO_IDX, TAG_TO_IDX)\n",
    "loss_function = nn.CrossEntropyLoss(weight = torch.tensor([0.5, 0.05, 0.4, 0.05]))\n",
    "optimizer = optim.SGD(model.parameters(), lr=5)"
   ]
  },
  {
   "cell_type": "code",
   "execution_count": 28,
   "metadata": {},
   "outputs": [
    {
     "data": {
      "text/plain": [
       "{'B': 0, 'O': 1, 'I': 2, '<null>': 3}"
      ]
     },
     "execution_count": 28,
     "metadata": {},
     "output_type": "execute_result"
    }
   ],
   "source": [
    "TAG_TO_IDX"
   ]
  },
  {
   "cell_type": "markdown",
   "metadata": {},
   "source": [
    "### training"
   ]
  },
  {
   "cell_type": "code",
   "execution_count": 29,
   "metadata": {},
   "outputs": [
    {
     "name": "stdout",
     "output_type": "stream",
     "text": [
      "Epoch 1\n"
     ]
    },
    {
     "name": "stderr",
     "output_type": "stream",
     "text": [
      "100%|███████████████████████████████████████████| 58/58 [00:22<00:00,  2.57it/s]\n"
     ]
    },
    {
     "name": "stdout",
     "output_type": "stream",
     "text": [
      "Avg loss per sentence: 0.0013678073561910924\n",
      "macro f1 score for dev data: 0.6242859476425062\n",
      "Epoch 2\n"
     ]
    },
    {
     "name": "stderr",
     "output_type": "stream",
     "text": [
      "100%|███████████████████████████████████████████| 58/58 [00:22<00:00,  2.53it/s]\n"
     ]
    },
    {
     "name": "stdout",
     "output_type": "stream",
     "text": [
      "Avg loss per sentence: 0.000740359704901368\n",
      "macro f1 score for dev data: 0.6832209577213689\n",
      "Epoch 3\n"
     ]
    },
    {
     "name": "stderr",
     "output_type": "stream",
     "text": [
      "100%|███████████████████████████████████████████| 58/58 [00:23<00:00,  2.51it/s]\n"
     ]
    },
    {
     "name": "stdout",
     "output_type": "stream",
     "text": [
      "Avg loss per sentence: 0.0006237992206949677\n",
      "macro f1 score for dev data: 0.6915326292365429\n",
      "Epoch 4\n"
     ]
    },
    {
     "name": "stderr",
     "output_type": "stream",
     "text": [
      "100%|███████████████████████████████████████████| 58/58 [00:23<00:00,  2.50it/s]\n"
     ]
    },
    {
     "name": "stdout",
     "output_type": "stream",
     "text": [
      "Avg loss per sentence: 0.0005502616936453329\n",
      "macro f1 score for dev data: 0.6966632140913931\n",
      "Epoch 5\n"
     ]
    },
    {
     "name": "stderr",
     "output_type": "stream",
     "text": [
      "100%|███████████████████████████████████████████| 58/58 [00:22<00:00,  2.52it/s]\n"
     ]
    },
    {
     "name": "stdout",
     "output_type": "stream",
     "text": [
      "Avg loss per sentence: 0.0004968399920597158\n",
      "macro f1 score for dev data: 0.7025203124447804\n",
      "Epoch 6\n"
     ]
    },
    {
     "name": "stderr",
     "output_type": "stream",
     "text": [
      "100%|███████████████████████████████████████████| 58/58 [00:23<00:00,  2.50it/s]\n"
     ]
    },
    {
     "name": "stdout",
     "output_type": "stream",
     "text": [
      "Avg loss per sentence: 0.00045592273065643704\n",
      "macro f1 score for dev data: 0.7016768713259433\n",
      "Epoch 7\n"
     ]
    },
    {
     "name": "stderr",
     "output_type": "stream",
     "text": [
      "100%|███████████████████████████████████████████| 58/58 [00:23<00:00,  2.52it/s]\n"
     ]
    },
    {
     "name": "stdout",
     "output_type": "stream",
     "text": [
      "Avg loss per sentence: 0.0004229824974980398\n",
      "macro f1 score for dev data: 0.7033686123167607\n",
      "Epoch 8\n"
     ]
    },
    {
     "name": "stderr",
     "output_type": "stream",
     "text": [
      "100%|███████████████████████████████████████████| 58/58 [00:23<00:00,  2.47it/s]\n"
     ]
    },
    {
     "name": "stdout",
     "output_type": "stream",
     "text": [
      "Avg loss per sentence: 0.00039620090909262093\n",
      "macro f1 score for dev data: 0.7048522180410199\n",
      "Epoch 9\n"
     ]
    },
    {
     "name": "stderr",
     "output_type": "stream",
     "text": [
      "100%|███████████████████████████████████████████| 58/58 [00:23<00:00,  2.48it/s]\n"
     ]
    },
    {
     "name": "stdout",
     "output_type": "stream",
     "text": [
      "Avg loss per sentence: 0.0003726921294683366\n",
      "macro f1 score for dev data: 0.7059419251702775\n",
      "Epoch 10\n"
     ]
    },
    {
     "name": "stderr",
     "output_type": "stream",
     "text": [
      "100%|███████████████████████████████████████████| 58/58 [00:23<00:00,  2.50it/s]\n"
     ]
    },
    {
     "name": "stdout",
     "output_type": "stream",
     "text": [
      "Avg loss per sentence: 0.00035180548980735755\n",
      "macro f1 score for dev data: 0.7070491463930506\n",
      "Epoch 11\n"
     ]
    },
    {
     "name": "stderr",
     "output_type": "stream",
     "text": [
      "100%|███████████████████████████████████████████| 58/58 [00:23<00:00,  2.51it/s]\n"
     ]
    },
    {
     "name": "stdout",
     "output_type": "stream",
     "text": [
      "Avg loss per sentence: 0.00033252839032151124\n",
      "macro f1 score for dev data: 0.7056881740437919\n",
      "Epoch 12\n"
     ]
    },
    {
     "name": "stderr",
     "output_type": "stream",
     "text": [
      "100%|███████████████████████████████████████████| 58/58 [00:23<00:00,  2.50it/s]\n"
     ]
    },
    {
     "name": "stdout",
     "output_type": "stream",
     "text": [
      "Avg loss per sentence: 0.0003146832881109982\n",
      "macro f1 score for dev data: 0.705796933661043\n",
      "Epoch 13\n"
     ]
    },
    {
     "name": "stderr",
     "output_type": "stream",
     "text": [
      "100%|███████████████████████████████████████████| 58/58 [00:23<00:00,  2.52it/s]\n"
     ]
    },
    {
     "name": "stdout",
     "output_type": "stream",
     "text": [
      "Avg loss per sentence: 0.0002978550910484046\n",
      "macro f1 score for dev data: 0.7117955436353198\n",
      "Epoch 14\n"
     ]
    },
    {
     "name": "stderr",
     "output_type": "stream",
     "text": [
      "100%|███████████████████████████████████████████| 58/58 [00:23<00:00,  2.50it/s]\n"
     ]
    },
    {
     "name": "stdout",
     "output_type": "stream",
     "text": [
      "Avg loss per sentence: 0.0002819597199238066\n",
      "macro f1 score for dev data: 0.7132882376681751\n",
      "Epoch 15\n"
     ]
    },
    {
     "name": "stderr",
     "output_type": "stream",
     "text": [
      "100%|███████████████████████████████████████████| 58/58 [00:22<00:00,  2.53it/s]\n"
     ]
    },
    {
     "name": "stdout",
     "output_type": "stream",
     "text": [
      "Avg loss per sentence: 0.00026676785085422535\n",
      "macro f1 score for dev data: 0.7122583753446399\n",
      "Epoch 16\n"
     ]
    },
    {
     "name": "stderr",
     "output_type": "stream",
     "text": [
      "100%|███████████████████████████████████████████| 58/58 [00:23<00:00,  2.50it/s]\n"
     ]
    },
    {
     "name": "stdout",
     "output_type": "stream",
     "text": [
      "Avg loss per sentence: 0.0002521750720916316\n",
      "macro f1 score for dev data: 0.7128424675062279\n",
      "Epoch 17\n"
     ]
    },
    {
     "name": "stderr",
     "output_type": "stream",
     "text": [
      "100%|███████████████████████████████████████████| 58/58 [00:23<00:00,  2.45it/s]\n"
     ]
    },
    {
     "name": "stdout",
     "output_type": "stream",
     "text": [
      "Avg loss per sentence: 0.0002380918697875539\n",
      "macro f1 score for dev data: 0.7110352079533475\n",
      "Epoch 18\n"
     ]
    },
    {
     "name": "stderr",
     "output_type": "stream",
     "text": [
      "100%|███████████████████████████████████████████| 58/58 [05:24<00:00,  5.59s/it]\n"
     ]
    },
    {
     "name": "stdout",
     "output_type": "stream",
     "text": [
      "Avg loss per sentence: 0.00022449417407062418\n",
      "macro f1 score for dev data: 0.7087573159762011\n",
      "Epoch 19\n"
     ]
    },
    {
     "name": "stderr",
     "output_type": "stream",
     "text": [
      "100%|███████████████████████████████████████████| 58/58 [00:22<00:00,  2.54it/s]\n"
     ]
    },
    {
     "name": "stdout",
     "output_type": "stream",
     "text": [
      "Avg loss per sentence: 0.0002114651013408579\n",
      "macro f1 score for dev data: 0.710602044811448\n",
      "Epoch 20\n"
     ]
    },
    {
     "name": "stderr",
     "output_type": "stream",
     "text": [
      "100%|███████████████████████████████████████████| 58/58 [05:22<00:00,  5.57s/it]\n"
     ]
    },
    {
     "name": "stdout",
     "output_type": "stream",
     "text": [
      "Avg loss per sentence: 0.00019915215094003762\n",
      "macro f1 score for dev data: 0.7118814201305476\n"
     ]
    }
   ],
   "source": [
    "BATCH_SIZE = 64\n",
    "SENT_PER_BATCH = 4\n",
    "\n",
    "\n",
    "for epoch in range(EPOCHS):\n",
    "    print(f\"Epoch {epoch+1}\")\n",
    "    tot_loss = 0\n",
    "    model.train()\n",
    "    for sent_batch, tag_batch in tqdm(train_dataloader):\n",
    "        optimizer.zero_grad()\n",
    "        tag_scores = model(sent_batch)\n",
    "        tag_scores = tag_scores.permute(1, 2, 0)\n",
    "        loss = loss_function(tag_scores, tag_batch)\n",
    "        loss.backward()\n",
    "        optimizer.step()\n",
    "        tot_loss += loss.item()\n",
    "    # Print the average loss per sentence for the epoch\n",
    "    avg_loss = tot_loss / (len(train_dataloader) * BATCH_SIZE * SENT_PER_BATCH)\n",
    "    targets = []\n",
    "    preds = []\n",
    "    for sent_batch, tag_batch in dev_dataloader:\n",
    "        targets.extend(tag_batch[0].tolist())\n",
    "        tag_scores = model(sent_batch)\n",
    "        tag_scores = tag_scores.argmax(axis=2).squeeze().tolist()\n",
    "        preds.extend(tag_scores)\n",
    "    preds = [IDX_TO_TAG[i] for i in preds] \n",
    "    targets = [IDX_TO_TAG[i] for i in targets]\n",
    "    print(f\"Avg loss per sentence: {avg_loss}\")\n",
    "    print('macro f1 score for dev data:',f1_score(targets,preds, average='macro'))"
   ]
  },
  {
   "cell_type": "markdown",
   "metadata": {},
   "source": [
    "## Test performance"
   ]
  },
  {
   "cell_type": "code",
   "execution_count": 30,
   "metadata": {},
   "outputs": [],
   "source": [
    "test_dataset = prepare_dataset(test_input, test_output)\n",
    "\n",
    "test_dataloader = DataLoader(test_dataset, batch_size=1, shuffle=False)"
   ]
  },
  {
   "cell_type": "code",
   "execution_count": 31,
   "metadata": {},
   "outputs": [
    {
     "name": "stdout",
     "output_type": "stream",
     "text": [
      "macro f1 score for test data: 0.7213589842627985\n"
     ]
    }
   ],
   "source": [
    "targets = []\n",
    "preds = []\n",
    "for sent_batch, tag_batch in test_dataloader:\n",
    "    targets.extend(tag_batch[0].tolist())\n",
    "    tag_scores = model(sent_batch)\n",
    "    tag_scores = tag_scores.argmax(axis=2).squeeze().tolist()\n",
    "    preds.extend(tag_scores)\n",
    "preds = [IDX_TO_TAG[i] for i in preds] \n",
    "targets = [IDX_TO_TAG[i] for i in targets]\n",
    "print('macro f1 score for test data:',f1_score(targets,preds, average='macro'))"
   ]
  },
  {
   "cell_type": "code",
   "execution_count": 66,
   "metadata": {},
   "outputs": [
    {
     "name": "stdout",
     "output_type": "stream",
     "text": [
      "              precision    recall  f1-score   support\n",
      "\n",
      "           B       0.46      0.52      0.49      1652\n",
      "           I       0.42      0.39      0.40       396\n",
      "           O       0.99      0.99      0.99    129245\n",
      "\n",
      "   micro avg       0.98      0.98      0.98    131293\n",
      "   macro avg       0.63      0.63      0.63    131293\n",
      "weighted avg       0.98      0.98      0.98    131293\n",
      "\n"
     ]
    }
   ],
   "source": [
    "print(classification_report(targets,preds, labels=['B', 'I', 'O']))"
   ]
  },
  {
   "cell_type": "code",
   "execution_count": 62,
   "metadata": {},
   "outputs": [],
   "source": [
    "cm = confusion_matrix(targets,preds)"
   ]
  },
  {
   "cell_type": "code",
   "execution_count": 65,
   "metadata": {},
   "outputs": [
    {
     "data": {
      "text/plain": [
       "<sklearn.metrics._plot.confusion_matrix.ConfusionMatrixDisplay at 0x296f9b880>"
      ]
     },
     "execution_count": 65,
     "metadata": {},
     "output_type": "execute_result"
    },
    {
     "data": {
      "image/png": "[encoded data removed]",
      "text/plain": [
       "<Figure size 640x480 with 2 Axes>"
      ]
     },
     "metadata": {},
     "output_type": "display_data"
    }
   ],
   "source": [
    "disp = ConfusionMatrixDisplay(confusion_matrix=cm[1:,1:],\n",
    "                             display_labels = ['B', 'I', 'O'])\n",
    "disp.plot()\n"
   ]
  },
  {
   "cell_type": "code",
   "execution_count": 74,
   "metadata": {},
   "outputs": [
    {
     "name": "stdout",
     "output_type": "stream",
     "text": [
      "Input: We need someone who is good at Python and Java.\n",
      "Skills: ['Python', 'Java']\n",
      "\n",
      "Input: Good with machine learning. Excellent Azure knowledge. Good with data science and NLP\n",
      "Skills: ['Azure', 'data science', 'NLP']\n",
      "\n"
     ]
    }
   ],
   "source": [
    "## Some manual testing\n",
    "\n",
    "def get_skills(sentence_list):\n",
    "    prediction = []\n",
    "    token_list = []\n",
    "    tag_list = []\n",
    "    for sentence in sentence_list:\n",
    "        if type(sentence) == str:\n",
    "            doc = nlp(sentence)\n",
    "            tokens = [str(i) for i in doc]\n",
    "            output = ['O' for i in range(len(tokens))]\n",
    "            tokens = tokens[:200]\n",
    "            token_list.append(tokens)\n",
    "            tag_list.append(output)\n",
    "    dataset = prepare_dataset(token_list, tag_list)\n",
    "    loader = DataLoader(dataset, batch_size=1, shuffle=False)\n",
    "    preds = []\n",
    "    for sent_batch, tag_batch in loader:\n",
    "        tag_scores = model(sent_batch)\n",
    "        tag_scores = tag_scores.argmax(axis=2).squeeze().tolist()\n",
    "        preds = [IDX_TO_TAG[i] for i in tag_scores] \n",
    "        prediction.append(preds)\n",
    "    #result = []\n",
    "    \n",
    "    entity_list = []\n",
    "    for i, p in enumerate(prediction):\n",
    "        tokens = token_list[i]\n",
    "        entity = ''\n",
    "        entities = []\n",
    "        for j in range(len(p)):\n",
    "            if p[j] == 'B':\n",
    "                if entity != '':\n",
    "                    entities.append(entity)\n",
    "                entity = tokens[j]\n",
    "            elif p[j] == 'I':\n",
    "                if entity != '':\n",
    "                    entity += ' '+tokens[j]\n",
    "            else:\n",
    "                if entity != '':\n",
    "                    entities.append(entity)\n",
    "                entity = ''\n",
    "        entity_list.append(entities)\n",
    "        \n",
    "        #result.append([(t,j) for t, j in zip(tokens, p) if j in {'B', 'I'}])\n",
    "    return  entity_list\n",
    "\n",
    "sentence = ['We need someone who is good at Python and Java.',\n",
    "            \n",
    "'Good with machine learning. Excellent Azure knowledge. Good with data science and NLP',\n",
    "            ]\n",
    "for i,j in zip(sentence,get_skills(sentence)):\n",
    "    print('Input:',i)\n",
    "    print('Skills:',j)\n",
    "    print()"
   ]
  },
  {
   "cell_type": "code",
   "execution_count": 75,
   "metadata": {},
   "outputs": [],
   "source": [
    "sentence_list = [df['job_segment'][i] for i in test_index if type(df['job_segment'][i])==str]\n",
    "gold = [df['skills'][i] for i in test_index if type(df['job_segment'][i])==str]"
   ]
  },
  {
   "cell_type": "code",
   "execution_count": 76,
   "metadata": {},
   "outputs": [
    {
     "data": {
      "text/plain": [
       "[nan,\n",
       " nan,\n",
       " 'business, Engineering, technology',\n",
       " nan,\n",
       " nan,\n",
       " 'EVC, monitors, Cybersecurity Engineer',\n",
       " 'Business Analytics',\n",
       " nan,\n",
       " 'Nimble',\n",
       " 'Research Engineer, Machine Learning']"
      ]
     },
     "execution_count": 76,
     "metadata": {},
     "output_type": "execute_result"
    }
   ],
   "source": [
    "gold[-10:]"
   ]
  },
  {
   "cell_type": "code",
   "execution_count": 77,
   "metadata": {},
   "outputs": [],
   "source": [
    "predictions = get_skills(sentence_list)"
   ]
  },
  {
   "cell_type": "code",
   "execution_count": 78,
   "metadata": {},
   "outputs": [
    {
     "data": {
      "text/plain": [
       "[[],\n",
       " [],\n",
       " ['Beeline'],\n",
       " ['Big', 'NLP'],\n",
       " [],\n",
       " ['Cybersecurity',\n",
       "  'Cybersecurity',\n",
       "  'EVC',\n",
       "  'monitors',\n",
       "  'Cybersecurity',\n",
       "  'business'],\n",
       " ['data', 'business', 'data'],\n",
       " [],\n",
       " ['AI', 'AI'],\n",
       " ['Machine Learning']]"
      ]
     },
     "execution_count": 78,
     "metadata": {},
     "output_type": "execute_result"
    }
   ],
   "source": [
    "predictions[-10:]"
   ]
  },
  {
   "cell_type": "code",
   "execution_count": 79,
   "metadata": {},
   "outputs": [
    {
     "data": {
      "text/plain": [
       "(0.41523605150214593, 0.5375, 0.4685230024213075)"
      ]
     },
     "execution_count": 79,
     "metadata": {},
     "output_type": "execute_result"
    }
   ],
   "source": [
    "def evaluate(gold, pred):\n",
    "    gold_count = 0\n",
    "    pred_count = 0\n",
    "    TP = 0\n",
    "    for i,j in zip(gold, pred):\n",
    "        if type(i) != str:\n",
    "            i = set()\n",
    "        else:\n",
    "            i = set([s.strip().lower() for s in i.split(',')])\n",
    "        j = set([i.lower() for i in j])\n",
    "        TP += len(i.intersection(j))\n",
    "        gold_count += len(i)\n",
    "        pred_count += len(j)\n",
    "    prec = TP / pred_count\n",
    "    recall = TP / gold_count\n",
    "    f1 = 2 * prec * recall / (prec + recall)\n",
    "    return prec, recall, f1\n",
    "\n",
    "evaluate(gold, predictions)"
   ]
  },
  {
   "cell_type": "markdown",
   "metadata": {},
   "source": [
    "### Testing our model on human annotated data"
   ]
  },
  {
   "cell_type": "code",
   "execution_count": 80,
   "metadata": {},
   "outputs": [],
   "source": [
    "import re\n",
    "\n",
    "def jd_clean(job):\n",
    "    return ' '.join(re.split(r'[\\'\\\"], [\\'\\\"]', job[2:-2]))\n",
    "\n",
    "df_eval = pd.read_csv('final_annotated_data.csv')\n",
    "df_eval['job'] = df_eval['job_description'].apply(jd_clean)"
   ]
  },
  {
   "cell_type": "code",
   "execution_count": 81,
   "metadata": {},
   "outputs": [
    {
     "data": {
      "text/html": [
       "<div>\n",
       "<style scoped>\n",
       "    .dataframe tbody tr th:only-of-type {\n",
       "        vertical-align: middle;\n",
       "    }\n",
       "\n",
       "    .dataframe tbody tr th {\n",
       "        vertical-align: top;\n",
       "    }\n",
       "\n",
       "    .dataframe thead th {\n",
       "        text-align: right;\n",
       "    }\n",
       "</style>\n",
       "<table border=\"1\" class=\"dataframe\">\n",
       "  <thead>\n",
       "    <tr style=\"text-align: right;\">\n",
       "      <th></th>\n",
       "      <th>url</th>\n",
       "      <th>title</th>\n",
       "      <th>job_description</th>\n",
       "      <th>seniority_level</th>\n",
       "      <th>employment_type</th>\n",
       "      <th>skills</th>\n",
       "      <th>class_name</th>\n",
       "      <th>experience</th>\n",
       "      <th>job</th>\n",
       "    </tr>\n",
       "  </thead>\n",
       "  <tbody>\n",
       "    <tr>\n",
       "      <th>0</th>\n",
       "      <td>https://www.linkedin.com/jobs/view/full-stack-...</td>\n",
       "      <td>Full Stack Software Engineer</td>\n",
       "      <td>['SpaceX was founded under the belief that a f...</td>\n",
       "      <td>Entry level</td>\n",
       "      <td>Full-time</td>\n",
       "      <td>sql,python,server,react,database,scala,c#.net,...</td>\n",
       "      <td>full_stack_engineer</td>\n",
       "      <td>junior</td>\n",
       "      <td>SpaceX was founded under the belief that a fut...</td>\n",
       "    </tr>\n",
       "    <tr>\n",
       "      <th>1</th>\n",
       "      <td>https://www.linkedin.com/jobs/view/associate-d...</td>\n",
       "      <td>Intermediate Full-Stack Web Developer (C#/MSSQ...</td>\n",
       "      <td>['Splashdot is looking for a Intermediate Full...</td>\n",
       "      <td>Not Applicable</td>\n",
       "      <td>Full-time</td>\n",
       "      <td>asp net,asp.net,sql,c#,server,realm,html/css,r...</td>\n",
       "      <td>full_stack_engineer</td>\n",
       "      <td>intermediate</td>\n",
       "      <td>Splashdot is looking for a Intermediate Full-S...</td>\n",
       "    </tr>\n",
       "    <tr>\n",
       "      <th>2</th>\n",
       "      <td>https://www.linkedin.com/jobs/view/associate-d...</td>\n",
       "      <td>Frontend Software Engineer</td>\n",
       "      <td>[\"ResponsibilitiesFounded in 2012, ByteDance's...</td>\n",
       "      <td>Mid-Senior level</td>\n",
       "      <td>Full-time</td>\n",
       "      <td>ambiguity,sql,server,swift,broadcasting,react,...</td>\n",
       "      <td>full_stack_engineer</td>\n",
       "      <td>intermediate</td>\n",
       "      <td>ResponsibilitiesFounded in 2012, ByteDance's m...</td>\n",
       "    </tr>\n",
       "    <tr>\n",
       "      <th>3</th>\n",
       "      <td>https://www.linkedin.com/jobs/view/associate-d...</td>\n",
       "      <td>Full Stack Engineer</td>\n",
       "      <td>['About The JobTome is building across a broad...</td>\n",
       "      <td>Entry level</td>\n",
       "      <td>Full-time</td>\n",
       "      <td>postgresql,typescript,react,node</td>\n",
       "      <td>full_stack_engineer</td>\n",
       "      <td>junior</td>\n",
       "      <td>About The JobTome is building across a broad s...</td>\n",
       "    </tr>\n",
       "    <tr>\n",
       "      <th>4</th>\n",
       "      <td>https://www.linkedin.com/jobs/view/associate-d...</td>\n",
       "      <td>Full Stack Developer (Remote)</td>\n",
       "      <td>['MonetizeMore builds industry-leading ad tech...</td>\n",
       "      <td>Mid-Senior level</td>\n",
       "      <td>Full-time</td>\n",
       "      <td>git,python,react,deployment,node,linux,ruby,sc...</td>\n",
       "      <td>full_stack_engineer</td>\n",
       "      <td>intermediate</td>\n",
       "      <td>MonetizeMore builds industry-leading ad techno...</td>\n",
       "    </tr>\n",
       "  </tbody>\n",
       "</table>\n",
       "</div>"
      ],
      "text/plain": [
       "                                                 url  \\\n",
       "0  https://www.linkedin.com/jobs/view/full-stack-...   \n",
       "1  https://www.linkedin.com/jobs/view/associate-d...   \n",
       "2  https://www.linkedin.com/jobs/view/associate-d...   \n",
       "3  https://www.linkedin.com/jobs/view/associate-d...   \n",
       "4  https://www.linkedin.com/jobs/view/associate-d...   \n",
       "\n",
       "                                               title  \\\n",
       "0                       Full Stack Software Engineer   \n",
       "1  Intermediate Full-Stack Web Developer (C#/MSSQ...   \n",
       "2                         Frontend Software Engineer   \n",
       "3                                Full Stack Engineer   \n",
       "4                      Full Stack Developer (Remote)   \n",
       "\n",
       "                                     job_description   seniority_level  \\\n",
       "0  ['SpaceX was founded under the belief that a f...       Entry level   \n",
       "1  ['Splashdot is looking for a Intermediate Full...    Not Applicable   \n",
       "2  [\"ResponsibilitiesFounded in 2012, ByteDance's...  Mid-Senior level   \n",
       "3  ['About The JobTome is building across a broad...       Entry level   \n",
       "4  ['MonetizeMore builds industry-leading ad tech...  Mid-Senior level   \n",
       "\n",
       "  employment_type                                             skills  \\\n",
       "0       Full-time  sql,python,server,react,database,scala,c#.net,...   \n",
       "1       Full-time  asp net,asp.net,sql,c#,server,realm,html/css,r...   \n",
       "2       Full-time  ambiguity,sql,server,swift,broadcasting,react,...   \n",
       "3       Full-time                   postgresql,typescript,react,node   \n",
       "4       Full-time  git,python,react,deployment,node,linux,ruby,sc...   \n",
       "\n",
       "            class_name    experience  \\\n",
       "0  full_stack_engineer        junior   \n",
       "1  full_stack_engineer  intermediate   \n",
       "2  full_stack_engineer  intermediate   \n",
       "3  full_stack_engineer        junior   \n",
       "4  full_stack_engineer  intermediate   \n",
       "\n",
       "                                                 job  \n",
       "0  SpaceX was founded under the belief that a fut...  \n",
       "1  Splashdot is looking for a Intermediate Full-S...  \n",
       "2  ResponsibilitiesFounded in 2012, ByteDance's m...  \n",
       "3  About The JobTome is building across a broad s...  \n",
       "4  MonetizeMore builds industry-leading ad techno...  "
      ]
     },
     "execution_count": 81,
     "metadata": {},
     "output_type": "execute_result"
    }
   ],
   "source": [
    "df_eval.head()"
   ]
  },
  {
   "cell_type": "code",
   "execution_count": 82,
   "metadata": {},
   "outputs": [],
   "source": [
    "nlp = spacy.load('en_core_web_sm')\n",
    "\n",
    "\n",
    "def get_token_number(text):\n",
    "    doc = nlp(text)\n",
    "    return len([i for i in doc])\n",
    "\n",
    "\n",
    "def sentence_segmentation(job_desc):\n",
    "    \"\"\"\n",
    "    This function return a list of sentences for a job description\n",
    "    \"\"\"\n",
    "    doc = nlp(job_desc)\n",
    "    return [sent for sent in doc.sents]\n",
    "\n",
    "\n",
    "def get_paras(sents, skills_list, limit = 128):\n",
    "    '''\n",
    "    Converts a list of sentences to a list of paragraphs (so that we could limit the number of API calls to some extent)\n",
    "    '''\n",
    "    num_token = 0\n",
    "    paragraphs = []\n",
    "    sub_skills = []\n",
    "    para = ''\n",
    "    for sent in sents:\n",
    "        sent = sent.text\n",
    "        num_token += get_token_number(sent)\n",
    "        if num_token >= limit:\n",
    "            paragraphs.append(para)\n",
    "            sub_skills.append(', '.join([i for i in skills_list if i in para.lower()]))\n",
    "            para = ''\n",
    "            num_token = 0\n",
    "        para += ' ' + sent\n",
    "    paragraphs.append(para)\n",
    "    sub_skills.append(', '.join([i for i in skills_list if i in para]))\n",
    "    return paragraphs, sub_skills"
   ]
  },
  {
   "cell_type": "code",
   "execution_count": 642,
   "metadata": {},
   "outputs": [
    {
     "name": "stderr",
     "output_type": "stream",
     "text": [
      "278it [00:48,  5.75it/s]\n"
     ]
    }
   ],
   "source": [
    "paras_list = []\n",
    "skills_list = []\n",
    "job_id = []\n",
    "i = 0\n",
    "for job, skills in tqdm(zip(df_eval['job'], df_eval['skills'])):\n",
    "    sents = sentence_segmentation(job)\n",
    "    skills_list_temp = [i.strip() for i in skills.split(',')]\n",
    "    paras, skill = get_paras(sents, skills_list_temp, limit = 128)\n",
    "    paras_list.extend(paras)\n",
    "    skills_list.extend(skill)\n",
    "    job_id.extend([i for j in range(len(skill))])\n",
    "    i+=1"
   ]
  },
  {
   "cell_type": "code",
   "execution_count": 643,
   "metadata": {},
   "outputs": [
    {
     "data": {
      "text/html": [
       "<div>\n",
       "<style scoped>\n",
       "    .dataframe tbody tr th:only-of-type {\n",
       "        vertical-align: middle;\n",
       "    }\n",
       "\n",
       "    .dataframe tbody tr th {\n",
       "        vertical-align: top;\n",
       "    }\n",
       "\n",
       "    .dataframe thead th {\n",
       "        text-align: right;\n",
       "    }\n",
       "</style>\n",
       "<table border=\"1\" class=\"dataframe\">\n",
       "  <thead>\n",
       "    <tr style=\"text-align: right;\">\n",
       "      <th></th>\n",
       "      <th>job_id</th>\n",
       "      <th>job_segment</th>\n",
       "      <th>skills</th>\n",
       "    </tr>\n",
       "  </thead>\n",
       "  <tbody>\n",
       "    <tr>\n",
       "      <th>0</th>\n",
       "      <td>0</td>\n",
       "      <td>SpaceX was founded under the belief that a fu...</td>\n",
       "      <td>software, go</td>\n",
       "    </tr>\n",
       "    <tr>\n",
       "      <th>1</th>\n",
       "      <td>0</td>\n",
       "      <td>We design, build, test, and operate all parts...</td>\n",
       "      <td>software, engineering</td>\n",
       "    </tr>\n",
       "    <tr>\n",
       "      <th>2</th>\n",
       "      <td>0</td>\n",
       "      <td>On this team, we will rely on you to be a key...</td>\n",
       "      <td>software</td>\n",
       "    </tr>\n",
       "    <tr>\n",
       "      <th>3</th>\n",
       "      <td>0</td>\n",
       "      <td>Develop well-architected, responsive, and per...</td>\n",
       "      <td>sql, python, server, react, database, scala, c...</td>\n",
       "    </tr>\n",
       "    <tr>\n",
       "      <th>4</th>\n",
       "      <td>0</td>\n",
       "      <td>Base salary is just one part of your total re...</td>\n",
       "      <td></td>\n",
       "    </tr>\n",
       "    <tr>\n",
       "      <th>...</th>\n",
       "      <td>...</td>\n",
       "      <td>...</td>\n",
       "      <td>...</td>\n",
       "    </tr>\n",
       "    <tr>\n",
       "      <th>1085</th>\n",
       "      <td>276</td>\n",
       "      <td>We work to build each other up and support on...</td>\n",
       "      <td></td>\n",
       "    </tr>\n",
       "    <tr>\n",
       "      <th>1086</th>\n",
       "      <td>276</td>\n",
       "      <td>Throughout the year, the advantage of being p...</td>\n",
       "      <td></td>\n",
       "    </tr>\n",
       "    <tr>\n",
       "      <th>1087</th>\n",
       "      <td>277</td>\n",
       "      <td>Cybersecurity Specialist â€“ Network and Comm...</td>\n",
       "      <td></td>\n",
       "    </tr>\n",
       "    <tr>\n",
       "      <th>1088</th>\n",
       "      <td>277</td>\n",
       "      <td>This role will give you the opportunity to in...</td>\n",
       "      <td>iso, nist, iam</td>\n",
       "    </tr>\n",
       "    <tr>\n",
       "      <th>1089</th>\n",
       "      <td>277</td>\n",
       "      <td>OpportunitiesDevelop your skills within the s...</td>\n",
       "      <td></td>\n",
       "    </tr>\n",
       "  </tbody>\n",
       "</table>\n",
       "<p>1090 rows × 3 columns</p>\n",
       "</div>"
      ],
      "text/plain": [
       "      job_id                                        job_segment  \\\n",
       "0          0   SpaceX was founded under the belief that a fu...   \n",
       "1          0   We design, build, test, and operate all parts...   \n",
       "2          0   On this team, we will rely on you to be a key...   \n",
       "3          0   Develop well-architected, responsive, and per...   \n",
       "4          0   Base salary is just one part of your total re...   \n",
       "...      ...                                                ...   \n",
       "1085     276   We work to build each other up and support on...   \n",
       "1086     276   Throughout the year, the advantage of being p...   \n",
       "1087     277   Cybersecurity Specialist â€“ Network and Comm...   \n",
       "1088     277   This role will give you the opportunity to in...   \n",
       "1089     277   OpportunitiesDevelop your skills within the s...   \n",
       "\n",
       "                                                 skills  \n",
       "0                                          software, go  \n",
       "1                                 software, engineering  \n",
       "2                                              software  \n",
       "3     sql, python, server, react, database, scala, c...  \n",
       "4                                                        \n",
       "...                                                 ...  \n",
       "1085                                                     \n",
       "1086                                                     \n",
       "1087                                                     \n",
       "1088                                     iso, nist, iam  \n",
       "1089                                                     \n",
       "\n",
       "[1090 rows x 3 columns]"
      ]
     },
     "execution_count": 643,
     "metadata": {},
     "output_type": "execute_result"
    }
   ],
   "source": [
    "df_split = pd.DataFrame({'job_id': job_id, 'job_segment':paras_list, 'skills':skills_list})\n",
    "df_split"
   ]
  },
  {
   "cell_type": "code",
   "execution_count": 651,
   "metadata": {},
   "outputs": [],
   "source": [
    "df_split = df_split[df_split['job_segment']!='']"
   ]
  },
  {
   "cell_type": "code",
   "execution_count": 652,
   "metadata": {},
   "outputs": [
    {
     "name": "stdout",
     "output_type": "stream",
     "text": [
      "CPU times: user 25 s, sys: 259 ms, total: 25.2 s\n",
      "Wall time: 25.4 s\n"
     ]
    }
   ],
   "source": [
    "%%time\n",
    "pred_skills = get_skills(df_split['job_segment'].tolist())"
   ]
  },
  {
   "cell_type": "code",
   "execution_count": 659,
   "metadata": {},
   "outputs": [
    {
     "name": "stderr",
     "output_type": "stream",
     "text": [
      "/var/folders/10/1dfn6jyd4m1chbgpv0qm29nw0000gn/T/ipykernel_26741/1370963735.py:1: SettingWithCopyWarning: \n",
      "A value is trying to be set on a copy of a slice from a DataFrame.\n",
      "Try using .loc[row_indexer,col_indexer] = value instead\n",
      "\n",
      "See the caveats in the documentation: https://pandas.pydata.org/pandas-docs/stable/user_guide/indexing.html#returning-a-view-versus-a-copy\n",
      "  df_split['prediction'] = [','.join(p).lower() for p in pred_skills]\n"
     ]
    }
   ],
   "source": [
    "df_split['prediction'] = [','.join(p).lower() for p in pred_skills]"
   ]
  },
  {
   "cell_type": "code",
   "execution_count": 677,
   "metadata": {},
   "outputs": [
    {
     "name": "stdout",
     "output_type": "stream",
     "text": [
      "Precision: 0.27315914489311166\n",
      "Recall: 0.23354995938261575\n",
      "F1: 0.2518064374863148\n"
     ]
    }
   ],
   "source": [
    "TP = 0\n",
    "len_gold = 0\n",
    "len_pred = 0\n",
    "for i in df_split['job_id'].unique():\n",
    "    temp = df_split[df_split['job_id']==i]\n",
    "    gold = ','.join(temp['skills'])\n",
    "    pred = ','.join(temp['prediction'])\n",
    "    gold = set([i.strip() for i in gold.split(',') if i.strip()!=''])\n",
    "    pred = set([i.strip() for i in pred.split(',') if i.strip()!=''])\n",
    "    TP += len(gold.intersection(pred))\n",
    "    len_gold += len(gold)\n",
    "    len_pred += len(pred)\n",
    "prec = TP / len_pred\n",
    "recall = TP / len_gold\n",
    "f1 = 2 * prec * recall / (prec + recall)\n",
    "print('Precision:', prec)\n",
    "print('Recall:', recall)\n",
    "print('F1:', f1)"
   ]
  },
  {
   "cell_type": "markdown",
   "metadata": {},
   "source": [
    "## Adding more features to LSTM"
   ]
  },
  {
   "cell_type": "code",
   "execution_count": 128,
   "metadata": {},
   "outputs": [
    {
     "name": "stderr",
     "output_type": "stream",
     "text": [
      "6679it [04:36, 24.13it/s]\n"
     ]
    }
   ],
   "source": [
    "all_inputs = []\n",
    "all_tags = []\n",
    "for job, skills in tqdm(zip(df['job_segment'], df['skills'])):\n",
    "    tokens, tags = get_tags(job, skills)\n",
    "    inputs = [(i, int(i.istitle()), int(i.isupper()), int(i.islower())) for i in tokens]\n",
    "    all_inputs.append(inputs)\n",
    "    all_tags.append(tags)"
   ]
  },
  {
   "cell_type": "code",
   "execution_count": 129,
   "metadata": {},
   "outputs": [
    {
     "data": {
      "text/plain": [
       "5669"
      ]
     },
     "execution_count": 129,
     "metadata": {},
     "output_type": "execute_result"
    }
   ],
   "source": [
    "input_tokens, output_tags = [], []\n",
    "for i, j in zip(all_inputs, all_tags):\n",
    "    if len(i) <= LONGEST_SENTENCE:\n",
    "        input_tokens.append(i)\n",
    "        output_tags.append(j)\n",
    "len(input_tokens)"
   ]
  },
  {
   "cell_type": "code",
   "execution_count": 130,
   "metadata": {},
   "outputs": [
    {
     "data": {
      "text/plain": [
       "[('SummaryThe', 0, 0, 0),\n",
       " ('Database', 1, 0, 0),\n",
       " ('Developer', 1, 0, 0),\n",
       " ('is', 0, 0, 1),\n",
       " ('part', 0, 0, 1)]"
      ]
     },
     "execution_count": 130,
     "metadata": {},
     "output_type": "execute_result"
    }
   ],
   "source": [
    "input_tokens[0][:5]"
   ]
  },
  {
   "cell_type": "code",
   "execution_count": 131,
   "metadata": {},
   "outputs": [],
   "source": [
    "def pad_tokens(input_tokens, longest_sentence):\n",
    "    padded = []\n",
    "    for sent in input_tokens:\n",
    "        padding = [(\"<null>\", \"<null>\", \"<null>\", \"<null>\") for i in range(longest_sentence - len(sent))]\n",
    "        padded.append(sent + padding)\n",
    "    return padded"
   ]
  },
  {
   "cell_type": "code",
   "execution_count": 132,
   "metadata": {},
   "outputs": [],
   "source": [
    "def converttokens2tensors(input_tokens):\n",
    "    '''\n",
    "        Convert input_tokens into a tensor\n",
    "        \n",
    "        input:  A list of sentences consisting of (token, is_target_pred) pairs.\n",
    "        output: A list of 2 x sentence_length tensor t\n",
    "        \n",
    "        where t[0][i] gives the index number for token i, t[1][i] is either 0 or 1 \n",
    "        depending on is_target_pred and t[2][i] indicates whether this is a regular\n",
    "        token or padding token PAD.\n",
    "    '''\n",
    "    token_tensors = []\n",
    "    #your code here\n",
    "    unk = WORD_TO_IDX[\"<unk>\"]\n",
    "\n",
    "    for sent in input_tokens:\n",
    "        tokens = [i[0] for i in sent]\n",
    "        is_title = [i[1] if i[1]!='<null>' else 2 for i in sent]\n",
    "        is_capital = [i[2] if i[2]!='<null>' else 2 for i in sent]\n",
    "        is_lower = [i[3] if i[3]!='<null>' else 2 for i in sent]\n",
    "        ids = [WORD_TO_IDX[token] if token in WORD_TO_IDX else WORD_TO_IDX['<unk>'] for token in tokens]\n",
    "        pad_status = [1 if i[0]!='<null>' else 0 for i in tokens]\n",
    "        #print(ids, is_title, is_capital, is_lower, pad_status)\n",
    "        t =  torch.tensor([ids, is_title, is_capital, is_lower, pad_status])\n",
    "        token_tensors.append(t)\n",
    "    \n",
    "    return token_tensors"
   ]
  },
  {
   "cell_type": "code",
   "execution_count": 133,
   "metadata": {},
   "outputs": [],
   "source": [
    "train_input = [v for i, v in enumerate(input_tokens) if i not in test_dev_index]\n",
    "train_output = [v for i, v in enumerate(output_tags) if i not in test_dev_index]\n",
    "\n",
    "dev_input = [v for i, v in enumerate(input_tokens) if i in dev_index]\n",
    "dev_output = [v for i, v in enumerate(output_tags) if i in dev_index]\n",
    "\n",
    "test_input = [v for i, v in enumerate(input_tokens) if i in test_index]\n",
    "test_output = [v for i, v in enumerate(output_tags) if i in test_index]"
   ]
  },
  {
   "cell_type": "code",
   "execution_count": 134,
   "metadata": {},
   "outputs": [
    {
     "name": "stdout",
     "output_type": "stream",
     "text": [
      "Success!\n"
     ]
    }
   ],
   "source": [
    "batch_size = 64\n",
    "\n",
    "dev_dataset = prepare_dataset(dev_input, dev_output)\n",
    "\n",
    "dev_dataloader = DataLoader(dev_dataset, batch_size=1, shuffle=False)\n",
    "\n",
    "train_dataset = prepare_dataset(train_input, train_output)\n",
    "\n",
    "train_dataloader = DataLoader(train_dataset, batch_size=batch_size, shuffle=False)\n",
    "for train_token_batch, train_tag_batch in train_dataloader:\n",
    "    assert train_token_batch.shape == torch.Size([batch_size, 5, LONGEST_SENTENCE])\n",
    "    assert train_tag_batch.shape == torch.Size([batch_size, LONGEST_SENTENCE])\n",
    "    break\n",
    "    \n",
    "print('Success!')"
   ]
  },
  {
   "cell_type": "code",
   "execution_count": 135,
   "metadata": {},
   "outputs": [],
   "source": [
    "from torch.nn.utils.rnn import pack_padded_sequence, pad_packed_sequence\n",
    "\n",
    "# Here are the embedding and hidden dimensionalities as well as LSTM layer count\n",
    "EMBEDDING_DIM=75\n",
    "SMALL_EMBEDDING_DIM = 5\n",
    "HIDDEN_DIM=50\n",
    "LAYERS=1\n",
    "\n",
    "# your code here\n",
    "class biLSTMTagger(nn.Module):\n",
    "\n",
    "    def __init__(self, vocab, tagset):\n",
    "        super(biLSTMTagger, self).__init__()\n",
    "\n",
    "        # requires vocab, tagset; \n",
    "\n",
    "        self.word_embeddings = nn.Embedding(len(vocab), EMBEDDING_DIM)       # `Embedding` with `len(vocab)` with EMBEDDING_DIM; \n",
    "        self.title_embedding = nn.Embedding(3, SMALL_EMBEDDING_DIM)   # another `Embedding` for \"indicator_embedding (len(0 or 1)) == 2) with EMBEDDING_DIM ; \n",
    "        self.capital_embedding = nn.Embedding(3, SMALL_EMBEDDING_DIM)\n",
    "        self.lower_embedding = nn.Embedding(3, SMALL_EMBEDDING_DIM)\n",
    "        #self.lstm = nn.LSTM(2 * EMBEDDING_DIM, HIDDEN_DIM, num_layers=LAYERS, bidirectional = True)                       # `LSTM` with 2 * EMBEDDING_DIM, HIDDEN_DIM, and bidrectional = True\n",
    "\n",
    "        #self.hidden2tag = nn.Linear(2 * HIDDEN_DIM, len(tagset))               # The linear layer that maps from hidden state space to tag space (output = len(tagset))\n",
    "        \n",
    "        #self.indicator_embedding = nn.Embedding(2, EMBEDDING_DIM)   # another `Embedding` for \"indicator_embedding (len(0 or 1)) == 2) with EMBEDDING_DIM ; \n",
    "        self.lstm = nn.LSTM(EMBEDDING_DIM + 3 * SMALL_EMBEDDING_DIM, HIDDEN_DIM, num_layers=LAYERS, bidirectional = True)                       # `LSTM` with 2 * EMBEDDING_DIM, HIDDEN_DIM, and bidrectional = True\n",
    "\n",
    "        self.hidden2tag = nn.Linear(2 * HIDDEN_DIM, len(tagset)) \n",
    "        \n",
    "        \n",
    "    def forward(self, batch):\n",
    "        batch = batch.permute(1, 2, 0)  # required to be permuted: 3 x sent_len x batch_size\n",
    "\n",
    "        #embeds_word = self.word_embeddings(batch[0])\n",
    "        #embeds_ind = self.word_embeddings(batch[1])\n",
    "        #embeds = torch.cat((embeds_word, embeds_ind), dim=2)                        # sent_len x batch_size x 2*EMBEDDING_DIM\n",
    "        embeds_word = self.word_embeddings(batch[0])\n",
    "        embeds_title = self.title_embedding(batch[1])\n",
    "        embeds_capital = self.capital_embedding(batch[2])\n",
    "        embeds_lower = self.lower_embedding(batch[3])\n",
    "        embeds = torch.cat((embeds_word, embeds_title, embeds_capital, embeds_lower), dim=2) \n",
    "        word_lengths = batch[-1].sum(dim=0)\n",
    "        lstm_input =  pack_padded_sequence(embeds, word_lengths, enforce_sorted=False)                            # requires `pack_padded_sequence`\n",
    " \n",
    "        lstm_out, _ = self.lstm(lstm_input)                        # sent_len x batch_size x 2*HIDDEN_DIM\n",
    "        lstm_out, _ =  pad_packed_sequence(lstm_out, total_length = LONGEST_SENTENCE)                          # requires again `pack_padded_sequence` \n",
    "        \n",
    "        tag_space =  self.hidden2tag(lstm_out)                               # generated by `hidden2tag`: sent_len x batch_size x tagset_size\n",
    "        tag_scores = F.log_softmax(tag_space, dim=2)                # then, softmax; \n",
    "\n",
    "        return tag_scores"
   ]
  },
  {
   "cell_type": "code",
   "execution_count": 136,
   "metadata": {},
   "outputs": [],
   "source": [
    "# your code here\n",
    "EPOCHS = 20 \n",
    "model = biLSTMTagger(WORD_TO_IDX, TAG_TO_IDX)\n",
    "loss_function = nn.CrossEntropyLoss(weight = torch.tensor([0.5, 0.05, 0.4, 0.05]))\n",
    "optimizer = optim.SGD(model.parameters(), lr=5)"
   ]
  },
  {
   "cell_type": "code",
   "execution_count": null,
   "metadata": {},
   "outputs": [
    {
     "name": "stdout",
     "output_type": "stream",
     "text": [
      "Epoch 1\n"
     ]
    },
    {
     "name": "stderr",
     "output_type": "stream",
     "text": [
      "100%|███████████████████████████████████████████| 58/58 [00:22<00:00,  2.52it/s]\n"
     ]
    },
    {
     "name": "stdout",
     "output_type": "stream",
     "text": [
      "Avg loss per sentence: 0.0009753545846565273\n",
      "macro f1 score for dev data: 0.6809434989551382\n",
      "Epoch 2\n"
     ]
    },
    {
     "name": "stderr",
     "output_type": "stream",
     "text": [
      "100%|███████████████████████████████████████████| 58/58 [00:23<00:00,  2.48it/s]\n"
     ]
    },
    {
     "name": "stdout",
     "output_type": "stream",
     "text": [
      "Avg loss per sentence: 0.0005921428543435217\n",
      "macro f1 score for dev data: 0.6868706368049946\n",
      "Epoch 3\n"
     ]
    },
    {
     "name": "stderr",
     "output_type": "stream",
     "text": [
      "100%|███████████████████████████████████████████| 58/58 [00:22<00:00,  2.59it/s]\n"
     ]
    },
    {
     "name": "stdout",
     "output_type": "stream",
     "text": [
      "Avg loss per sentence: 0.0005179991517095538\n",
      "macro f1 score for dev data: 0.7013654005184906\n",
      "Epoch 4\n"
     ]
    },
    {
     "name": "stderr",
     "output_type": "stream",
     "text": [
      "100%|███████████████████████████████████████████| 58/58 [00:22<00:00,  2.59it/s]\n"
     ]
    },
    {
     "name": "stdout",
     "output_type": "stream",
     "text": [
      "Avg loss per sentence: 0.0004683632116588154\n",
      "macro f1 score for dev data: 0.7163325157490211\n",
      "Epoch 5\n"
     ]
    },
    {
     "name": "stderr",
     "output_type": "stream",
     "text": [
      "100%|███████████████████████████████████████████| 58/58 [00:22<00:00,  2.59it/s]\n"
     ]
    },
    {
     "name": "stdout",
     "output_type": "stream",
     "text": [
      "Avg loss per sentence: 0.00043179755849795864\n",
      "macro f1 score for dev data: 0.7223161863263432\n",
      "Epoch 6\n"
     ]
    },
    {
     "name": "stderr",
     "output_type": "stream",
     "text": [
      "100%|███████████████████████████████████████████| 58/58 [00:22<00:00,  2.60it/s]\n"
     ]
    },
    {
     "name": "stdout",
     "output_type": "stream",
     "text": [
      "Avg loss per sentence: 0.0004028752109975201\n",
      "macro f1 score for dev data: 0.7255407828625914\n",
      "Epoch 7\n"
     ]
    },
    {
     "name": "stderr",
     "output_type": "stream",
     "text": [
      "100%|███████████████████████████████████████████| 58/58 [00:25<00:00,  2.27it/s]\n"
     ]
    },
    {
     "name": "stdout",
     "output_type": "stream",
     "text": [
      "Avg loss per sentence: 0.00037854696560755437\n",
      "macro f1 score for dev data: 0.7256003732229488\n",
      "Epoch 8\n"
     ]
    },
    {
     "name": "stderr",
     "output_type": "stream",
     "text": [
      "100%|███████████████████████████████████████████| 58/58 [00:26<00:00,  2.20it/s]\n"
     ]
    },
    {
     "name": "stdout",
     "output_type": "stream",
     "text": [
      "Avg loss per sentence: 0.0003572873854487813\n",
      "macro f1 score for dev data: 0.7297349937426335\n",
      "Epoch 9\n"
     ]
    },
    {
     "name": "stderr",
     "output_type": "stream",
     "text": [
      "100%|███████████████████████████████████████████| 58/58 [00:25<00:00,  2.25it/s]\n"
     ]
    },
    {
     "name": "stdout",
     "output_type": "stream",
     "text": [
      "Avg loss per sentence: 0.00033819863943037866\n",
      "macro f1 score for dev data: 0.7316558243687872\n",
      "Epoch 10\n"
     ]
    },
    {
     "name": "stderr",
     "output_type": "stream",
     "text": [
      "100%|███████████████████████████████████████████| 58/58 [00:25<00:00,  2.23it/s]\n"
     ]
    },
    {
     "name": "stdout",
     "output_type": "stream",
     "text": [
      "Avg loss per sentence: 0.00032078668200170044\n",
      "macro f1 score for dev data: 0.7329995213754446\n",
      "Epoch 11\n"
     ]
    },
    {
     "name": "stderr",
     "output_type": "stream",
     "text": [
      "100%|███████████████████████████████████████████| 58/58 [00:26<00:00,  2.18it/s]\n"
     ]
    },
    {
     "name": "stdout",
     "output_type": "stream",
     "text": [
      "Avg loss per sentence: 0.0003048359127394084\n",
      "macro f1 score for dev data: 0.7321786597580635\n",
      "Epoch 12\n"
     ]
    },
    {
     "name": "stderr",
     "output_type": "stream",
     "text": [
      "100%|███████████████████████████████████████████| 58/58 [00:24<00:00,  2.41it/s]\n"
     ]
    },
    {
     "name": "stdout",
     "output_type": "stream",
     "text": [
      "Avg loss per sentence: 0.0002900862941871686\n",
      "macro f1 score for dev data: 0.733333613755833\n",
      "Epoch 13\n"
     ]
    },
    {
     "name": "stderr",
     "output_type": "stream",
     "text": [
      "100%|███████████████████████████████████████████| 58/58 [00:23<00:00,  2.44it/s]\n"
     ]
    },
    {
     "name": "stdout",
     "output_type": "stream",
     "text": [
      "Avg loss per sentence: 0.0002763107253925008\n",
      "macro f1 score for dev data: 0.7348903715021269\n",
      "Epoch 14\n"
     ]
    },
    {
     "name": "stderr",
     "output_type": "stream",
     "text": [
      "100%|███████████████████████████████████████████| 58/58 [00:23<00:00,  2.47it/s]\n"
     ]
    },
    {
     "name": "stdout",
     "output_type": "stream",
     "text": [
      "Avg loss per sentence: 0.00026338166684707114\n",
      "macro f1 score for dev data: 0.7352347105778164\n",
      "Epoch 15\n"
     ]
    },
    {
     "name": "stderr",
     "output_type": "stream",
     "text": [
      "100%|███████████████████████████████████████████| 58/58 [00:23<00:00,  2.45it/s]\n"
     ]
    },
    {
     "name": "stdout",
     "output_type": "stream",
     "text": [
      "Avg loss per sentence: 0.00025122299848590046\n",
      "macro f1 score for dev data: 0.7373859048713871\n",
      "Epoch 16\n"
     ]
    },
    {
     "name": "stderr",
     "output_type": "stream",
     "text": [
      "100%|███████████████████████████████████████████| 58/58 [00:23<00:00,  2.52it/s]\n"
     ]
    },
    {
     "name": "stdout",
     "output_type": "stream",
     "text": [
      "Avg loss per sentence: 0.00023968720704252864\n",
      "macro f1 score for dev data: 0.7403956627335065\n",
      "Epoch 17\n"
     ]
    },
    {
     "name": "stderr",
     "output_type": "stream",
     "text": [
      "100%|███████████████████████████████████████████| 58/58 [00:24<00:00,  2.40it/s]\n"
     ]
    },
    {
     "name": "stdout",
     "output_type": "stream",
     "text": [
      "Avg loss per sentence: 0.00022870327816706086\n",
      "macro f1 score for dev data: 0.7426532053855673\n",
      "Epoch 18\n"
     ]
    },
    {
     "name": "stderr",
     "output_type": "stream",
     "text": [
      "100%|███████████████████████████████████████████| 58/58 [00:23<00:00,  2.46it/s]\n"
     ]
    },
    {
     "name": "stdout",
     "output_type": "stream",
     "text": [
      "Avg loss per sentence: 0.0002182245163943474\n",
      "macro f1 score for dev data: 0.7431266775152627\n",
      "Epoch 19\n"
     ]
    },
    {
     "name": "stderr",
     "output_type": "stream",
     "text": [
      "100%|███████████████████████████████████████████| 58/58 [00:23<00:00,  2.50it/s]\n"
     ]
    },
    {
     "name": "stdout",
     "output_type": "stream",
     "text": [
      "Avg loss per sentence: 0.00020818718584105853\n",
      "macro f1 score for dev data: 0.7442813949334465\n",
      "Epoch 20\n"
     ]
    },
    {
     "name": "stderr",
     "output_type": "stream",
     "text": [
      "100%|███████████████████████████████████████████| 58/58 [00:25<00:00,  2.31it/s]\n"
     ]
    },
    {
     "name": "stdout",
     "output_type": "stream",
     "text": [
      "Avg loss per sentence: 0.00019854516308285007\n",
      "macro f1 score for dev data: 0.7458872962798395\n"
     ]
    }
   ],
   "source": [
    "BATCH_SIZE = 64\n",
    "SENT_PER_BATCH = 4\n",
    "\n",
    "\n",
    "for epoch in range(EPOCHS):\n",
    "    print(f\"Epoch {epoch+1}\")\n",
    "    tot_loss = 0\n",
    "    model.train()\n",
    "    for sent_batch, tag_batch in tqdm(train_dataloader):\n",
    "        optimizer.zero_grad()\n",
    "        tag_scores = model(sent_batch)\n",
    "        tag_scores = tag_scores.permute(1, 2, 0)\n",
    "        loss = loss_function(tag_scores, tag_batch)\n",
    "        loss.backward()\n",
    "        optimizer.step()\n",
    "        tot_loss += loss.item()\n",
    "    # Print the average loss per sentence for the epoch\n",
    "    avg_loss = tot_loss / (len(train_dataloader) * BATCH_SIZE * SENT_PER_BATCH)\n",
    "    targets = []\n",
    "    preds = []\n",
    "    for sent_batch, tag_batch in dev_dataloader:\n",
    "        targets.extend(tag_batch[0].tolist())\n",
    "        tag_scores = model(sent_batch)\n",
    "        tag_scores = tag_scores.argmax(axis=2).squeeze().tolist()\n",
    "        preds.extend(tag_scores)\n",
    "    preds = [IDX_TO_TAG[i] for i in preds] \n",
    "    targets = [IDX_TO_TAG[i] for i in targets]\n",
    "    print(f\"Avg loss per sentence: {avg_loss}\")\n",
    "    print('macro f1 score for dev data:',f1_score(targets,preds, average='macro'))"
   ]
  },
  {
   "cell_type": "markdown",
   "metadata": {},
   "source": [
    "# Test performance"
   ]
  },
  {
   "cell_type": "code",
   "execution_count": 143,
   "metadata": {},
   "outputs": [],
   "source": [
    "test_dataset = prepare_dataset(test_input, test_output)\n",
    "\n",
    "test_dataloader = DataLoader(test_dataset, batch_size=1, shuffle=False)"
   ]
  },
  {
   "cell_type": "code",
   "execution_count": 144,
   "metadata": {},
   "outputs": [
    {
     "name": "stdout",
     "output_type": "stream",
     "text": [
      "macro f1 score for test data: 0.7343961409167863\n"
     ]
    }
   ],
   "source": [
    "targets = []\n",
    "preds = []\n",
    "for sent_batch, tag_batch in test_dataloader:\n",
    "    targets.extend(tag_batch[0].tolist())\n",
    "    tag_scores = model(sent_batch)\n",
    "    tag_scores = tag_scores.argmax(axis=2).squeeze().tolist()\n",
    "    preds.extend(tag_scores)\n",
    "preds = [IDX_TO_TAG[i] for i in preds] \n",
    "targets = [IDX_TO_TAG[i] for i in targets]\n",
    "print('macro f1 score for test data:',f1_score(targets,preds, average='macro'))"
   ]
  },
  {
   "cell_type": "code",
   "execution_count": 145,
   "metadata": {},
   "outputs": [
    {
     "name": "stdout",
     "output_type": "stream",
     "text": [
      "              precision    recall  f1-score   support\n",
      "\n",
      "           B       0.44      0.55      0.49      1682\n",
      "           I       0.41      0.52      0.46       405\n",
      "           O       0.99      0.99      0.99    129879\n",
      "\n",
      "   micro avg       0.98      0.98      0.98    131966\n",
      "   macro avg       0.61      0.69      0.65    131966\n",
      "weighted avg       0.98      0.98      0.98    131966\n",
      "\n"
     ]
    }
   ],
   "source": [
    "print(classification_report(targets,preds, labels=['B', 'I', 'O']))"
   ]
  },
  {
   "cell_type": "code",
   "execution_count": 146,
   "metadata": {},
   "outputs": [
    {
     "name": "stdout",
     "output_type": "stream",
     "text": [
      "Input: We need someone who is good at Python and Java.\n",
      "Skills: ['Python', 'Java']\n",
      "\n",
      "Input: We need someone who is good at python and java.\n",
      "Skills: ['python']\n",
      "\n",
      "Input: Good with machine learning. Excellent Azure knowledge. Good with data science and NLP\n",
      "Skills: ['machine learning', 'Azure', 'data science']\n",
      "\n"
     ]
    }
   ],
   "source": [
    "## Some manual testing\n",
    "\n",
    "def get_skills(sentence_list):\n",
    "    prediction = []\n",
    "    token_list = []\n",
    "    tag_list = []\n",
    "    for sentence in sentence_list:\n",
    "        doc = nlp(sentence)\n",
    "        tokens = [(str(i), int(str(i).istitle()),int(str(i).isupper()), int(str(i).islower())) for i in doc]\n",
    "        output = ['O' for i in range(len(tokens))]\n",
    "        tokens = tokens[:200]\n",
    "        token_list.append(tokens)\n",
    "        tag_list.append(output)\n",
    "    dataset = prepare_dataset(token_list, tag_list)\n",
    "    loader = DataLoader(dataset, batch_size=1, shuffle=False)\n",
    "    preds = []\n",
    "    for sent_batch, tag_batch in loader:\n",
    "        tag_scores = model(sent_batch)\n",
    "        tag_scores = tag_scores.argmax(axis=2).squeeze().tolist()\n",
    "        preds = [IDX_TO_TAG[i] for i in tag_scores] \n",
    "        prediction.append(preds)\n",
    "    #result = []\n",
    "    \n",
    "    entity_list = []\n",
    "    for i, p in enumerate(prediction):\n",
    "        tokens = [w[0] for w in token_list[i]]\n",
    "        entity = ''\n",
    "        entities = []\n",
    "        for j in range(len(p)):\n",
    "            if p[j] == 'B':\n",
    "                if entity != '':\n",
    "                    entities.append(entity)\n",
    "                entity = tokens[j]\n",
    "            elif p[j] == 'I':\n",
    "                if entity != '':\n",
    "                    entity += ' '+tokens[j]\n",
    "            else:\n",
    "                if entity != '':\n",
    "                    entities.append(entity)\n",
    "                entity = ''\n",
    "        entity_list.append(entities)\n",
    "        \n",
    "        #result.append([(t,j) for t, j in zip(tokens, p) if j in {'B', 'I'}])\n",
    "    return  entity_list\n",
    "\n",
    "sentence = ['We need someone who is good at Python and Java.',\n",
    "            'We need someone who is good at python and java.',\n",
    "            \n",
    "'Good with machine learning. Excellent Azure knowledge. Good with data science and NLP',\n",
    "            ]\n",
    "for i,j in zip(sentence,get_skills(sentence)):\n",
    "    print('Input:',i)\n",
    "    print('Skills:',j)\n",
    "    print()"
   ]
  },
  {
   "cell_type": "code",
   "execution_count": 148,
   "metadata": {},
   "outputs": [
    {
     "name": "stdout",
     "output_type": "stream",
     "text": [
      "CPU times: user 27.8 s, sys: 442 ms, total: 28.2 s\n",
      "Wall time: 28.2 s\n"
     ]
    },
    {
     "data": {
      "text/plain": [
       "[['data'], [], [], [], ['Racing', 'AWS']]"
      ]
     },
     "execution_count": 148,
     "metadata": {},
     "output_type": "execute_result"
    }
   ],
   "source": [
    "%%time\n",
    "predictions = get_skills(sentence_list)\n",
    "predictions[:5]"
   ]
  },
  {
   "cell_type": "code",
   "execution_count": 149,
   "metadata": {},
   "outputs": [
    {
     "data": {
      "text/plain": [
       "(0.3787076271186441, 0.5088967971530249, 0.43425447919829946)"
      ]
     },
     "execution_count": 149,
     "metadata": {},
     "output_type": "execute_result"
    }
   ],
   "source": [
    "evaluate(gold, predictions)"
   ]
  },
  {
   "cell_type": "code",
   "execution_count": null,
   "metadata": {},
   "outputs": [],
   "source": []
  }
 ],
 "metadata": {
  "accelerator": "GPU",
  "colab": {
   "name": "Lab2.ipynb",
   "provenance": []
  },
  "kernelspec": {
   "display_name": "Python [conda env:573]",
   "language": "python",
   "name": "conda-env-573-py"
  },
  "language_info": {
   "codemirror_mode": {
    "name": "ipython",
    "version": 3
   },
   "file_extension": ".py",
   "mimetype": "text/x-python",
   "name": "python",
   "nbconvert_exporter": "python",
   "pygments_lexer": "ipython3",
   "version": "3.10.6"
  }
 },
 "nbformat": 4,
 "nbformat_minor": 4
}
